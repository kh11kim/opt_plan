{
 "cells": [
  {
   "cell_type": "code",
   "execution_count": 1,
   "metadata": {},
   "outputs": [],
   "source": [
    "import jax\n",
    "import jax.numpy as jnp\n",
    "from jax import Array\n",
    "import jax_dataclasses as jdc\n",
    "from jaxlie import *\n",
    "from signed_distance import *"
   ]
  },
  {
   "cell_type": "code",
   "execution_count": null,
   "metadata": {},
   "outputs": [],
   "source": []
  },
  {
   "cell_type": "code",
   "execution_count": 83,
   "metadata": {},
   "outputs": [],
   "source": [
    "d = jnp.zeros(3)\n",
    "def distance(d):\n",
    "    is_zero = jnp.allclose(d, 0.)\n",
    "    d = jnp.where(is_zero, jnp.ones_like(d), d)\n",
    "    l = jnp.linalg.norm(d)\n",
    "    l = jnp.where(is_zero, 0., l)\n",
    "    l = jnp.max(jnp.array([l, 1e-6]))\n",
    "    return l\n",
    "\n",
    "@jdc.pytree_dataclass\n",
    "class circle:\n",
    "    center: Array\n",
    "    r: int\n",
    "    def penetration(self, points):\n",
    "        d = jax.vmap(distance)(points - self.center) - self.r\n",
    "        return - (d)\n",
    "\n",
    "@jdc.pytree_dataclass\n",
    "class box:\n",
    "    box_pose: SE3\n",
    "    half_extents: Array\n",
    "    def distance_single(self, point):\n",
    "        point = self.box_pose.inverse().apply(point)\n",
    "        q = jnp.abs(point) - self.half_extents\n",
    "        return distance(jnp.maximum(q, 0)) + \\\n",
    "            jnp.minimum(jnp.maximum(q[0], jnp.maximum(q[1], q[2])), 0)\n",
    "    def penetration(self, points):\n",
    "        distances = jax.vmap(self.distance_single)(points)\n",
    "        return -distances\n",
    "\n",
    "@jdc.pytree_dataclass\n",
    "class EnvSDF:\n",
    "    sdfs: tuple\n",
    "    def penetration(self, points, num_points:int, safe_dist:float=0.):\n",
    "        result = jnp.zeros(num_points)\n",
    "        for sdf in self.sdfs:\n",
    "            result = jnp.maximum(sdf.penetration(points), result)\n",
    "        return result + safe_dist\n",
    "    \n",
    "    def penetration_sum(self, points, num_points:int, safe_dist:float=0.):\n",
    "        return self.penetration(points, num_points, safe_dist).sum()\n",
    "\n",
    "@jax.jit\n",
    "def robot_penetration_cost(points, len_points, sdf: circle, safe_dist):\n",
    "    d = sdf.penetration(points, )\n",
    "    return d + safe_dist"
   ]
  },
  {
   "cell_type": "code",
   "execution_count": 2,
   "metadata": {},
   "outputs": [],
   "source": [
    "offset = SE3.from_translation(jnp.array([0., 0, -1]))\n",
    "half_extents = jnp.array([10., 10, 1])\n",
    "ground = box(offset, half_extents)\n",
    "offset = SE3.from_translation(jnp.array([-0.5, 0, 0.3]))\n",
    "half_extents = jnp.array([0.1, 0.1, 0.3])\n",
    "obs = box(offset, half_extents)\n",
    "circ = circle(jnp.array([0.5,0,0.5]), 0.2)\n",
    "env = EnvSDF((circ, ground, obs))"
   ]
  },
  {
   "cell_type": "code",
   "execution_count": 86,
   "metadata": {},
   "outputs": [
    {
     "name": "stdout",
     "output_type": "stream",
     "text": [
      "44.1 ms ± 2.54 ms per loop (mean ± std. dev. of 7 runs, 10 loops each)\n"
     ]
    }
   ],
   "source": [
    "%timeit env.penetration_sum(xyz, num_grids**2, 0.01)"
   ]
  },
  {
   "cell_type": "code",
   "execution_count": null,
   "metadata": {},
   "outputs": [],
   "source": [
    "env.penetration(xyz, num_grids**2, 0.01)"
   ]
  },
  {
   "cell_type": "code",
   "execution_count": 4,
   "metadata": {},
   "outputs": [],
   "source": [
    "num_grids = 50\n",
    "xx = jnp.linspace(-1, 1., num_grids)\n",
    "zz = jnp.linspace(-0.2, 1.2, num_grids)\n",
    "X, Z = jnp.meshgrid(xx, zz, indexing='ij')\n",
    "x, z = X.reshape(-1,1), Z.reshape(-1,1)\n",
    "y = jnp.zeros_like(x)\n",
    "xyz = jnp.hstack([x,y,z])\n",
    "#pp = b.penetration(xyz)\n",
    "pp = env.penetration(xyz, num_grids**2, 0.02)\n",
    "P = pp.reshape(num_grids,-1)\n",
    "#d = box_batch(jnp.hstack([x,y,z]), extents, offset)\n",
    "#P = pp.reshape(20,-1)"
   ]
  },
  {
   "cell_type": "code",
   "execution_count": 76,
   "metadata": {},
   "outputs": [
    {
     "data": {
      "text/plain": [
       "<matplotlib.colorbar.Colorbar at 0x7fba357874c0>"
      ]
     },
     "execution_count": 76,
     "metadata": {},
     "output_type": "execute_result"
    },
    {
     "data": {
      "image/png": "[encoded data removed]",
      "text/plain": [
       "<Figure size 640x480 with 2 Axes>"
      ]
     },
     "metadata": {},
     "output_type": "display_data"
    }
   ],
   "source": [
    "import matplotlib.pyplot as plt\n",
    "levels = jnp.arange(0, 0.3, 0.02)\n",
    "plt.contourf(X, Z, P, levels=levels, cmap='jet')\n",
    "plt.colorbar()"
   ]
  },
  {
   "cell_type": "code",
   "execution_count": 23,
   "metadata": {},
   "outputs": [
    {
     "data": {
      "text/plain": [
       "Array(0.10000002, dtype=float32)"
      ]
     },
     "execution_count": 23,
     "metadata": {},
     "output_type": "execute_result"
    }
   ],
   "source": [
    "p = jnp.array([0.5,0.5,0.6])\n",
    "box(p, extents)"
   ]
  },
  {
   "cell_type": "code",
   "execution_count": 15,
   "metadata": {},
   "outputs": [
    {
     "data": {
      "text/plain": [
       "Array(1.7320508, dtype=float32)"
      ]
     },
     "execution_count": 15,
     "metadata": {},
     "output_type": "execute_result"
    }
   ],
   "source": [
    "q = jnp.abs(p) - extents\n",
    "distance(np.maximum(q, 0))"
   ]
  },
  {
   "cell_type": "code",
   "execution_count": 175,
   "metadata": {},
   "outputs": [],
   "source": []
  },
  {
   "cell_type": "code",
   "execution_count": 178,
   "metadata": {},
   "outputs": [
    {
     "ename": "TypeError",
     "evalue": "penetration() missing 1 required positional argument: 'num_points'",
     "output_type": "error",
     "traceback": [
      "\u001b[0;31m---------------------------------------------------------------------------\u001b[0m",
      "\u001b[0;31mTypeError\u001b[0m                                 Traceback (most recent call last)",
      "Cell \u001b[0;32mIn[178], line 6\u001b[0m\n\u001b[1;32m      1\u001b[0m robot_points \u001b[39m=\u001b[39m jnp\u001b[39m.\u001b[39marray([\n\u001b[1;32m      2\u001b[0m     [\u001b[39m-\u001b[39m\u001b[39m0.\u001b[39m, \u001b[39m0\u001b[39m, \u001b[39m0.\u001b[39m],\n\u001b[1;32m      3\u001b[0m     [\u001b[39m-\u001b[39m\u001b[39m0.3\u001b[39m, \u001b[39m0\u001b[39m, \u001b[39m0.\u001b[39m],\n\u001b[1;32m      4\u001b[0m     [\u001b[39m-\u001b[39m\u001b[39m0.4\u001b[39m, \u001b[39m3\u001b[39m, \u001b[39m0.\u001b[39m]\n\u001b[1;32m      5\u001b[0m ])\n\u001b[0;32m----> 6\u001b[0m robot_penetration_cost(robot_points, env, \u001b[39m0.3\u001b[39;49m)\n",
      "    \u001b[0;31m[... skipping hidden 12 frame]\u001b[0m\n",
      "Cell \u001b[0;32mIn[169], line 28\u001b[0m, in \u001b[0;36mrobot_penetration_cost\u001b[0;34m(points, sdf, safe_dist)\u001b[0m\n\u001b[1;32m     26\u001b[0m \u001b[39m@jax\u001b[39m\u001b[39m.\u001b[39mjit\n\u001b[1;32m     27\u001b[0m \u001b[39mdef\u001b[39;00m \u001b[39mrobot_penetration_cost\u001b[39m(points, sdf: circle, safe_dist):\n\u001b[0;32m---> 28\u001b[0m     d \u001b[39m=\u001b[39m sdf\u001b[39m.\u001b[39;49mpenetration(points)\n\u001b[1;32m     29\u001b[0m     \u001b[39mreturn\u001b[39;00m d \u001b[39m+\u001b[39m safe_dist\n",
      "\u001b[0;31mTypeError\u001b[0m: penetration() missing 1 required positional argument: 'num_points'"
     ]
    }
   ],
   "source": [
    "robot_points = jnp.array([\n",
    "    [-0., 0, 0.],\n",
    "    [-0.3, 0, 0.],\n",
    "    [-0.4, 3, 0.]\n",
    "])\n",
    "robot_penetration_cost(robot_points, env, 0.3)"
   ]
  },
  {
   "cell_type": "code",
   "execution_count": 150,
   "metadata": {},
   "outputs": [
    {
     "data": {
      "text/plain": [
       "Array([ 1., -0., -0.], dtype=float32)"
      ]
     },
     "execution_count": 150,
     "metadata": {},
     "output_type": "execute_result"
    }
   ],
   "source": [
    "point = jnp.array([0.,0,0])\n",
    "jax.grad(penetration)(point, circ, 0.)"
   ]
  }
 ],
 "metadata": {
  "kernelspec": {
   "display_name": "opt_env",
   "language": "python",
   "name": "python3"
  },
  "language_info": {
   "codemirror_mode": {
    "name": "ipython",
    "version": 3
   },
   "file_extension": ".py",
   "mimetype": "text/x-python",
   "name": "python",
   "nbconvert_exporter": "python",
   "pygments_lexer": "ipython3",
   "version": "3.8.15"
  },
  "orig_nbformat": 4
 },
 "nbformat": 4,
 "nbformat_minor": 2
}
