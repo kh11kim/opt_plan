{
 "cells": [
  {
   "cell_type": "code",
   "execution_count": 9,
   "metadata": {},
   "outputs": [],
   "source": [
    "import jax.numpy as jnp\n",
    "import jax\n",
    "from jax import Array\n",
    "import jax_dataclasses as jdc\n",
    "from jaxlie import *"
   ]
  },
  {
   "cell_type": "code",
   "execution_count": 169,
   "metadata": {},
   "outputs": [],
   "source": [
    "d = jnp.zeros(3)\n",
    "def distance(d):\n",
    "    is_zero = jnp.allclose(d, 0.)\n",
    "    d = jnp.where(is_zero, jnp.ones_like(d), d)\n",
    "    l = jnp.linalg.norm(d)\n",
    "    l = jnp.max(jnp.array([l, 1e-6]))\n",
    "    return l\n",
    "\n",
    "@jdc.pytree_dataclass\n",
    "class circle:\n",
    "    center: Array\n",
    "    r: int\n",
    "    def penetration(self, points):\n",
    "        d = jax.vmap(distance)(points - self.center) - self.r\n",
    "        return - (d)\n",
    "\n",
    "@jdc.pytree_dataclass\n",
    "class EnvSDF:\n",
    "    sdfs: tuple\n",
    "    def penetration(self, points, num_points:int):\n",
    "        result = jnp.zeros(num_points)\n",
    "        for sdf in self.sdfs:\n",
    "            result = jnp.maximum(sdf.penetration(points), result)\n",
    "        return result\n",
    "\n",
    "@jax.jit\n",
    "def robot_penetration_cost(points, len_points, sdf: circle, safe_dist):\n",
    "    d = sdf.penetration(points, )\n",
    "    return d + safe_dist"
   ]
  },
  {
   "cell_type": "code",
   "execution_count": 175,
   "metadata": {},
   "outputs": [],
   "source": [
    "circ = circle(jnp.array([1,0,0.]), 1.)\n",
    "env = EnvSDF((circ))"
   ]
  },
  {
   "cell_type": "code",
   "execution_count": 178,
   "metadata": {},
   "outputs": [
    {
     "ename": "TypeError",
     "evalue": "penetration() missing 1 required positional argument: 'num_points'",
     "output_type": "error",
     "traceback": [
      "\u001b[0;31m---------------------------------------------------------------------------\u001b[0m",
      "\u001b[0;31mTypeError\u001b[0m                                 Traceback (most recent call last)",
      "Cell \u001b[0;32mIn[178], line 6\u001b[0m\n\u001b[1;32m      1\u001b[0m robot_points \u001b[39m=\u001b[39m jnp\u001b[39m.\u001b[39marray([\n\u001b[1;32m      2\u001b[0m     [\u001b[39m-\u001b[39m\u001b[39m0.\u001b[39m, \u001b[39m0\u001b[39m, \u001b[39m0.\u001b[39m],\n\u001b[1;32m      3\u001b[0m     [\u001b[39m-\u001b[39m\u001b[39m0.3\u001b[39m, \u001b[39m0\u001b[39m, \u001b[39m0.\u001b[39m],\n\u001b[1;32m      4\u001b[0m     [\u001b[39m-\u001b[39m\u001b[39m0.4\u001b[39m, \u001b[39m3\u001b[39m, \u001b[39m0.\u001b[39m]\n\u001b[1;32m      5\u001b[0m ])\n\u001b[0;32m----> 6\u001b[0m robot_penetration_cost(robot_points, env, \u001b[39m0.3\u001b[39;49m)\n",
      "    \u001b[0;31m[... skipping hidden 12 frame]\u001b[0m\n",
      "Cell \u001b[0;32mIn[169], line 28\u001b[0m, in \u001b[0;36mrobot_penetration_cost\u001b[0;34m(points, sdf, safe_dist)\u001b[0m\n\u001b[1;32m     26\u001b[0m \u001b[39m@jax\u001b[39m\u001b[39m.\u001b[39mjit\n\u001b[1;32m     27\u001b[0m \u001b[39mdef\u001b[39;00m \u001b[39mrobot_penetration_cost\u001b[39m(points, sdf: circle, safe_dist):\n\u001b[0;32m---> 28\u001b[0m     d \u001b[39m=\u001b[39m sdf\u001b[39m.\u001b[39;49mpenetration(points)\n\u001b[1;32m     29\u001b[0m     \u001b[39mreturn\u001b[39;00m d \u001b[39m+\u001b[39m safe_dist\n",
      "\u001b[0;31mTypeError\u001b[0m: penetration() missing 1 required positional argument: 'num_points'"
     ]
    }
   ],
   "source": [
    "robot_points = jnp.array([\n",
    "    [-0., 0, 0.],\n",
    "    [-0.3, 0, 0.],\n",
    "    [-0.4, 3, 0.]\n",
    "])\n",
    "robot_penetration_cost(robot_points, env, 0.3)"
   ]
  },
  {
   "cell_type": "code",
   "execution_count": 150,
   "metadata": {},
   "outputs": [
    {
     "data": {
      "text/plain": [
       "Array([ 1., -0., -0.], dtype=float32)"
      ]
     },
     "execution_count": 150,
     "metadata": {},
     "output_type": "execute_result"
    }
   ],
   "source": [
    "p = jnp.array([0.,0,0])\n",
    "jax.grad(penetration)(p, circ, 0.)"
   ]
  }
 ],
 "metadata": {
  "kernelspec": {
   "display_name": "opt_env",
   "language": "python",
   "name": "python3"
  },
  "language_info": {
   "codemirror_mode": {
    "name": "ipython",
    "version": 3
   },
   "file_extension": ".py",
   "mimetype": "text/x-python",
   "name": "python",
   "nbconvert_exporter": "python",
   "pygments_lexer": "ipython3",
   "version": "3.8.15"
  },
  "orig_nbformat": 4
 },
 "nbformat": 4,
 "nbformat_minor": 2
}
