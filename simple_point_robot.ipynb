{
 "cells": [
  {
   "cell_type": "code",
<<<<<<< HEAD
   "execution_count": 2,
=======
   "execution_count": 1,
>>>>>>> c8368ba5e4e886f1811b06256c465537bf768771
   "metadata": {},
   "outputs": [],
   "source": [
    "from test_casadi import *\n",
    "import casadi as cs\n",
    "import jax\n",
    "import jax.numpy as jnp\n",
    "import numpy as np\n",
    "import matplotlib.pyplot as plt"
   ]
  },
  {
   "cell_type": "code",
<<<<<<< HEAD
   "execution_count": 3,
=======
   "execution_count": 317,
>>>>>>> c8368ba5e4e886f1811b06256c465537bf768771
   "metadata": {},
   "outputs": [],
   "source": [
    "num_steps = 10\n",
    "p_obs = [0, 0.1]\n",
    "r_obs = 0.2\n",
    "\n",
    "dim_robot = 2\n",
    "r_robot = 0.1\n",
    "safe_dist = 0.05\n",
    "\n",
    "q_init = [-1, -1]\n",
    "q_goal = [1, 1]"
   ]
  },
  {
   "cell_type": "code",
<<<<<<< HEAD
   "execution_count": 4,
=======
   "execution_count": 319,
>>>>>>> c8368ba5e4e886f1811b06256c465537bf768771
   "metadata": {},
   "outputs": [],
   "source": [
    "from functools import partial\n",
    "\n",
    "def sdsf_circle(point, center, r, safe_dist):\n",
    "    diff = point - center\n",
    "    return diff@diff - (safe_dist + r)**2\n",
    "\n",
    "obs = partial(\n",
    "    sdsf_circle, \n",
    "    center=jnp.array(p_obs), \n",
    "    r=jnp.array(r_obs), \n",
    "    safe_dist=jnp.array(r_robot+safe_dist))\n",
    "fn_sdf_col = JaxFn(2, 1, obs, ['q'], ['d'])"
   ]
  },
  {
   "cell_type": "code",
<<<<<<< HEAD
   "execution_count": 5,
=======
   "execution_count": 320,
>>>>>>> c8368ba5e4e886f1811b06256c465537bf768771
   "metadata": {},
   "outputs": [],
   "source": [
    "x = []\n",
    "g = []\n",
    "lbg = []\n",
    "ubg = []"
   ]
  },
  {
   "cell_type": "code",
<<<<<<< HEAD
   "execution_count": 6,
=======
   "execution_count": 321,
>>>>>>> c8368ba5e4e886f1811b06256c465537bf768771
   "metadata": {},
   "outputs": [],
   "source": [
    "#x = cs.MX.sym('x', dim_robot, num_steps)\n",
    "x = [cs.MX.sym(f'q_{step}', dim_robot, 1) for step in range(num_steps)]"
   ]
  },
  {
   "cell_type": "code",
<<<<<<< HEAD
   "execution_count": 7,
=======
   "execution_count": 322,
>>>>>>> c8368ba5e4e886f1811b06256c465537bf768771
   "metadata": {},
   "outputs": [],
   "source": [
    "for step in range(num_steps):\n",
    "    g += [fn_sdf_col(x[step])] #col avoidance\n",
    "    lbg += [0.]\n",
    "    ubg += [cs.inf]\n",
    "\n",
    "g += [x[0]]\n",
    "lbg += [*q_init]\n",
    "ubg += [*q_init]\n",
    "g += [x[-1]]\n",
    "lbg += [*q_goal]\n",
    "ubg += [*q_goal]"
   ]
  },
  {
   "cell_type": "code",
<<<<<<< HEAD
   "execution_count": 8,
=======
   "execution_count": 323,
>>>>>>> c8368ba5e4e886f1811b06256c465537bf768771
   "metadata": {},
   "outputs": [],
   "source": [
    "diff = [cs.sumsqr(q1 - q0) for q1, q0 in zip(x[1:], x[:-1])]\n",
    "J = cs.sum1(cs.vcat(diff))"
   ]
  },
  {
   "cell_type": "code",
<<<<<<< HEAD
   "execution_count": 9,
=======
   "execution_count": 324,
>>>>>>> c8368ba5e4e886f1811b06256c465537bf768771
   "metadata": {},
   "outputs": [],
   "source": [
    "#f = cs.sumsqr(cs.hcat(x)[:,1:] - cs.hcat(x)[:,:-1])\n",
    "prob = {'x':cs.vcat(x), 'f':J, 'g':cs.vertcat(*g)} #cs.vertcat(*x)"
   ]
  },
  {
   "cell_type": "code",
<<<<<<< HEAD
   "execution_count": 32,
=======
   "execution_count": 341,
>>>>>>> c8368ba5e4e886f1811b06256c465537bf768771
   "metadata": {},
   "outputs": [
    {
     "name": "stdout",
     "output_type": "stream",
     "text": [
      "\n",
      "qpOASES -- An Implementation of the Online Active Set Strategy.\n",
      "Copyright (C) 2007-2015 by Hans Joachim Ferreau, Andreas Potschka,\n",
      "Christian Kirches et al. All rights reserved.\n",
      "\n",
      "qpOASES is distributed under the terms of the \n",
      "GNU Lesser General Public License 2.1 in the hope that it will be \n",
      "useful, but WITHOUT ANY WARRANTY; without even the implied warranty \n",
      "of MERCHANTABILITY or FITNESS FOR A PARTICULAR PURPOSE. \n",
      "See the GNU Lesser General Public License for more details.\n",
      "\n",
      "-------------------------------------------\n",
      "This is casadi::Sqpmethod.\n",
      "Using limited memory BFGS Hessian approximation\n",
      "Number of variables:                              20\n",
      "Number of constraints:                            14\n",
      "Number of nonzeros in constraint Jacobian:        24\n",
      "Number of nonzeros in Lagrangian Hessian:        400\n",
      "\n"
     ]
    }
   ],
   "source": [
    "# opts = {\n",
    "#     \"ipopt.hessian_approximation\":\"limited-memory\",\n",
    "#     \"ipopt.tol\":0.001\n",
    "# }\n",
    "#solver = cs.nlpsol('solver', 'ipopt', prob, opts)\n",
    "\n",
    "opts=dict(\n",
    "    qpsol=\"qpoases\",\n",
    "    qpsol_options={\n",
    "        \"printLevel\":\"none\",\n",
<<<<<<< HEAD
    "        \"error_on_fail\":False,\n",
=======
    "        \"error_on_fail\":False\n",
>>>>>>> c8368ba5e4e886f1811b06256c465537bf768771
    "    },\n",
    "    hessian_approximation=\"limited-memory\",\n",
    ")\n",
    "solver = cs.nlpsol('solver', 'sqpmethod', prob, opts)"
   ]
  },
  {
   "cell_type": "code",
<<<<<<< HEAD
   "execution_count": 33,
=======
   "execution_count": 342,
>>>>>>> c8368ba5e4e886f1811b06256c465537bf768771
   "metadata": {},
   "outputs": [
    {
     "name": "stdout",
     "output_type": "stream",
     "text": [
      "iter      objective    inf_pr    inf_du     ||d||  lg(rg) ls    info\n",
      "   0   0.000000e+00  1.00e+00  0.00e+00  0.00e+00       -  0  - \n",
<<<<<<< HEAD
      "ERROR:  Premature homotopy termination because QP is infeasible\n",
      "->ERROR:  Initial QP could not be solved due to infeasibility!\n",
=======
>>>>>>> c8368ba5e4e886f1811b06256c465537bf768771
      "   1   1.465344e+00  4.63e-01  1.60e+00  5.43e-01       -  1  - \n",
      "   2   4.022556e+00  0.00e+00  1.60e+00  8.68e-01       -  1  - \n",
      "   3   2.678380e+00  0.00e+00  1.77e+00  3.71e-01       -  1  - \n",
      "   4   2.333752e+00  0.00e+00  1.92e+00  5.26e-01       -  3  - \n",
      "   5   2.226369e+00  0.00e+00  2.11e+00  4.32e-01       -  1  - \n",
      "   6   1.941649e+00  0.00e+00  1.70e+00  4.35e-01       -  2  - \n",
      "   7   1.553908e+00  0.00e+00  1.63e+00  5.28e-01       -  1  - \n",
      "   8   1.351029e+00  0.00e+00  9.33e-01  2.58e-01       -  3  - \n",
      "   9   1.246479e+00  0.00e+00  8.35e-01  3.22e-01       -  2  - \n",
      "iter      objective    inf_pr    inf_du     ||d||  lg(rg) ls    info\n",
      "  10   1.216367e+00  0.00e+00  7.03e-01  3.31e-01       -  2  - \n",
      "  11   9.823693e-01  0.00e+00  3.24e-01  1.86e-01       -  1  - \n",
      "  12   9.678161e-01  0.00e+00  3.16e-01  9.63e-02       -  1  - \n",
      "  13   9.481868e-01  0.00e+00  3.03e-01  1.26e-01       -  1  - \n",
      "  14   9.418001e-01  0.00e+00  1.63e-01  6.94e-02       -  1  - \n",
      "  15   9.301897e-01  0.00e+00  6.09e-02  3.46e-02       -  1  - \n",
      "  16   9.289651e-01  0.00e+00  6.73e-02  2.32e-02       -  1  - \n",
      "  17   9.269941e-01  0.00e+00  4.32e-02  1.62e-02       -  1  - \n",
      "  18   9.250684e-01  0.00e+00  4.78e-02  2.95e-02       -  1  - \n",
      "  19   9.224822e-01  0.00e+00  6.07e-02  5.54e-02       -  1  - \n",
      "iter      objective    inf_pr    inf_du     ||d||  lg(rg) ls    info\n",
      "  20   9.196580e-01  0.00e+00  2.74e-02  2.23e-02       -  1  - \n",
      "  21   9.192364e-01  0.00e+00  2.22e-02  7.42e-03       -  1  - \n",
      "  22   9.190122e-01  0.00e+00  1.11e-02  4.60e-03       -  1  - \n",
      "  23   9.189304e-01  0.00e+00  6.10e-03  6.02e-03       -  1  - \n",
      "  24   9.189106e-01  0.00e+00  4.09e-03  2.50e-03       -  1  - \n",
      "  25   9.189065e-01  0.00e+00  6.35e-04  5.89e-04       -  1  - \n",
      "  26   9.189061e-01  0.00e+00  4.10e-04  2.02e-04       -  1  - \n",
      "  27   9.189060e-01  0.00e+00  3.25e-04  1.78e-04       -  1  - \n",
      "  28   9.189060e-01  7.45e-09  9.04e-05  9.42e-05       -  1  - \n",
      "  29   9.189060e-01  7.45e-09  6.96e-05  6.41e-05       -  1  - \n",
      "iter      objective    inf_pr    inf_du     ||d||  lg(rg) ls    info\n",
      "  30   9.189060e-01  7.45e-09  4.62e-05  2.24e-05       -  1  - \n",
      "  31   9.189060e-01  0.00e+00  1.74e-05  1.10e-05       -  2  - \n",
      "  32   9.189059e-01  2.24e-08  1.11e-05  4.30e-06       -  3F - \n",
      "  33   9.189060e-01  0.00e+00  7.33e-06  5.17e-06       -  1  - \n",
      "  34   9.189060e-01  0.00e+00  3.79e-06  2.91e-06       -  1  - \n",
      "  35   9.189059e-01  0.00e+00  2.74e-06  1.03e-06       -  1  - \n",
      "  36   9.189059e-01  7.45e-09  1.90e-06  6.95e-07       -  3F - \n",
      "  37   9.189059e-01  0.00e+00  1.25e-06  8.35e-07       -  1  - \n",
      "  38   9.189059e-01  0.00e+00  5.96e-07  4.13e-07       -  1  - \n",
      "MESSAGE(sqpmethod): Convergence achieved after 38 iterations\n",
      "      solver  :   t_proc      (avg)   t_wall      (avg)    n_eval\n",
<<<<<<< HEAD
      "        BFGS  | 177.00us (  4.66us) 140.41us (  3.69us)        38\n",
      "          QP  |   2.73ms ( 71.89us)   2.73ms ( 71.92us)        38\n",
      "  linesearch  | 255.14ms (  6.71ms) 207.18ms (  5.45ms)        38\n",
      "      nlp_fg  | 254.65ms (  5.09ms) 206.91ms (  4.14ms)        50\n",
      "  nlp_jac_fg  | 618.86ms ( 15.87ms) 513.51ms ( 13.17ms)        39\n",
      "       total  | 878.88ms (878.88ms) 725.16ms (725.16ms)         1\n"
=======
      "        BFGS  | 181.00us (  4.76us) 142.19us (  3.74us)        38\n",
      "          QP  |   2.88ms ( 75.87us)   2.88ms ( 75.74us)        38\n",
      "  linesearch  | 254.66ms (  6.70ms) 212.09ms (  5.58ms)        38\n",
      "      nlp_fg  | 254.07ms (  5.08ms) 211.78ms (  4.24ms)        50\n",
      "  nlp_jac_fg  | 612.38ms ( 15.70ms) 518.32ms ( 13.29ms)        39\n",
      "       total  | 872.32ms (872.32ms) 735.15ms (735.15ms)         1\n"
>>>>>>> c8368ba5e4e886f1811b06256c465537bf768771
     ]
    }
   ],
   "source": [
    "x0 = [0.]*20\n",
    "lbx, ubx = -1.1, 1.1\n",
    "sol = solver(x0=x0, lbx=lbx, ubx=ubx, lbg=lbg, ubg=ubg)"
   ]
  },
  {
   "cell_type": "code",
   "execution_count": 327,
   "metadata": {},
   "outputs": [],
   "source": [
    "cost = cs.Function('J', [cs.vcat(x)], [J])"
   ]
  },
  {
   "cell_type": "code",
<<<<<<< HEAD
=======
   "execution_count": 328,
   "metadata": {},
   "outputs": [
    {
     "data": {
      "text/plain": [
       "DM(0.918906)"
      ]
     },
     "execution_count": 328,
     "metadata": {},
     "output_type": "execute_result"
    }
   ],
   "source": [
    "cost(sol['x'])"
   ]
  },
  {
   "cell_type": "code",
   "execution_count": 302,
   "metadata": {},
   "outputs": [
    {
     "ename": "TypeError",
     "evalue": "'MX' object is not callable",
     "output_type": "error",
     "traceback": [
      "\u001b[0;31m---------------------------------------------------------------------------\u001b[0m",
      "\u001b[0;31mTypeError\u001b[0m                                 Traceback (most recent call last)",
      "Cell \u001b[0;32mIn[302], line 1\u001b[0m\n\u001b[0;32m----> 1\u001b[0m J(sol[\u001b[39m'\u001b[39;49m\u001b[39mx\u001b[39;49m\u001b[39m'\u001b[39;49m])\n",
      "\u001b[0;31mTypeError\u001b[0m: 'MX' object is not callable"
     ]
    }
   ],
   "source": [
    "J(sol['x'])"
   ]
  },
  {
   "cell_type": "code",
   "execution_count": 300,
   "metadata": {},
   "outputs": [
    {
     "data": {
      "text/plain": [
       "DM([-1, -1, 0.247487, 0.247487, 0.248529, 0.248529, 0.248571, 0.248571, 0.247487, 0.247487, -0.247487, -0.247487, -0.248571, -0.248571, -0.248529, -0.248529, -0.247487, -0.247487, 1, 1])"
      ]
     },
     "execution_count": 300,
     "metadata": {},
     "output_type": "execute_result"
    }
   ],
   "source": [
    "Jsol['x']"
   ]
  },
  {
   "cell_type": "code",
   "execution_count": 42,
   "metadata": {},
   "outputs": [
    {
     "ename": "NotImplementedError",
     "evalue": "Wrong number or type of arguments for overloaded function 'sum1'.\n  Possible prototypes are:\n    sum1(Sparsity)\n    sum1(DM)\n    sum1(SX)\n    sum1(MX)\n  You have: '(MX,MX,MX,MX,MX,MX,MX,MX,MX)'\n",
     "output_type": "error",
     "traceback": [
      "\u001b[0;31m---------------------------------------------------------------------------\u001b[0m",
      "\u001b[0;31mNotImplementedError\u001b[0m                       Traceback (most recent call last)",
      "Cell \u001b[0;32mIn[42], line 1\u001b[0m\n\u001b[0;32m----> 1\u001b[0m cs\u001b[39m.\u001b[39;49msum1(\u001b[39m*\u001b[39;49m[(q_k1 \u001b[39m-\u001b[39;49m q_k0)\u001b[39m*\u001b[39;49m\u001b[39m*\u001b[39;49m\u001b[39m2\u001b[39;49m \u001b[39mfor\u001b[39;49;00m q_k1, q_k0 \u001b[39min\u001b[39;49;00m \u001b[39mzip\u001b[39;49m(x[\u001b[39m1\u001b[39;49m:], x[:\u001b[39m-\u001b[39;49m\u001b[39m1\u001b[39;49m])])\n",
      "File \u001b[0;32m~/miniconda3/envs/optas/lib/python3.8/site-packages/casadi/casadi.py:34357\u001b[0m, in \u001b[0;36msum1\u001b[0;34m(*args)\u001b[0m\n\u001b[1;32m  34333\u001b[0m \u001b[39mdef\u001b[39;00m \u001b[39msum1\u001b[39m(\u001b[39m*\u001b[39margs) \u001b[39m-\u001b[39m\u001b[39m>\u001b[39m \u001b[39m\"\u001b[39m\u001b[39mcasadi::Matrix< casadi::SXElem >\u001b[39m\u001b[39m\"\u001b[39m:\n\u001b[1;32m  34334\u001b[0m     \u001b[39m\"\"\"\u001b[39;00m\n\u001b[1;32m  34335\u001b[0m \u001b[39m      Return a row-wise summation of elements.\u001b[39;00m\n\u001b[1;32m  34336\u001b[0m \n\u001b[0;32m   (...)\u001b[0m\n\u001b[1;32m  34355\u001b[0m \n\u001b[1;32m  34356\u001b[0m \u001b[39m    \"\"\"\u001b[39;00m\n\u001b[0;32m> 34357\u001b[0m     \u001b[39mreturn\u001b[39;00m _casadi\u001b[39m.\u001b[39;49msum1(\u001b[39m*\u001b[39;49margs)\n",
      "\u001b[0;31mNotImplementedError\u001b[0m: Wrong number or type of arguments for overloaded function 'sum1'.\n  Possible prototypes are:\n    sum1(Sparsity)\n    sum1(DM)\n    sum1(SX)\n    sum1(MX)\n  You have: '(MX,MX,MX,MX,MX,MX,MX,MX,MX)'\n"
     ]
    }
   ],
   "source": [
    "cs.sum1(*[(q_k1 - q_k0)**2 for q_k1, q_k0 in zip(x[1:], x[:-1])])"
   ]
  },
  {
   "cell_type": "code",
>>>>>>> c8368ba5e4e886f1811b06256c465537bf768771
   "execution_count": 374,
   "metadata": {},
   "outputs": [],
   "source": [
    "x = []\n",
    "for step in range(num_steps):\n",
    "    x += [cs.MX.sym(f'q_{step}', 2, 1)]\n",
    "x = cs.vcat(x)"
   ]
  },
  {
   "cell_type": "code",
   "execution_count": 337,
   "metadata": {},
   "outputs": [],
   "source": [
    "lbg = []\n",
    "ubg = []\n",
    "g = []\n",
    "# init state\n",
    "g.append(x[:, 0])\n",
    "lbg.extend(q_init)\n",
    "ubg.extend(q_init)\n",
    "# goal state\n",
    "g.append(x[:, -1])\n",
    "lbg.extend(q_goal)\n",
    "ubg.extend(q_goal)\n",
    "\n",
    "# #obstacle: casadi ver.\n",
    "# distance =  (r_robot + r_obs + safe_dist)**2\n",
    "# for i in range(num_steps):\n",
    "#     dist_sq = cs.sumsqr(x[:,i] - cs.DM(p_obs)) - distance\n",
    "#     g.append(dist_sq)\n",
    "#     lbg.append(0.)\n",
    "#     ubg.append(cs.inf)\n",
<<<<<<< HEAD
    "\n",
=======
>>>>>>> c8368ba5e4e886f1811b06256c465537bf768771
    "distance =  (r_robot + r_obs + safe_dist)**2\n",
    "for i in range(num_steps):\n",
    "    dist_sq = fn_sdf_col(x[:,i])\n",
    "    g.append(dist_sq)\n",
    "    lbg.append(0.)\n",
    "    ubg.append(cs.inf)\n",
    "\n",
    "f = cs.sumsqr(x[:,1:] - x[:,:-1])\n",
    "g = g\n",
    "fn_f = cs.Function('f', [x], [f])\n",
    "fn_g = cs.Function('g',[x], g)"
   ]
  },
  {
   "cell_type": "code",
   "execution_count": 361,
   "metadata": {},
   "outputs": [],
   "source": [
    "x1 = cs.MX.sym('x1')\n",
    "x2 = cs.MX.sym('x2')\n",
    "x = cs.vertcat(x1, x2)\n",
    "u = cs.MX.sym('u')\n",
    "xdot = cs.vertcat((1-x2**2)*x1 - x2 + u, x1)\n",
    "L = x1**2 + x2**2 + u**2"
   ]
  },
  {
   "cell_type": "code",
   "execution_count": 364,
   "metadata": {},
   "outputs": [],
   "source": [
    "f = cs.Function('f', [x,u], [xdot, L])"
   ]
  },
  {
   "cell_type": "code",
   "execution_count": 356,
   "metadata": {},
   "outputs": [
    {
     "ename": "RuntimeError",
     "evalue": "Error in Function::Function for 'nlp' [MXFunction] at .../casadi/core/function.cpp:249:\n.../casadi/core/function_internal.cpp:145: Error calling MXFunction::init for 'nlp':\n.../casadi/core/mx_function.cpp:406: nlp::init: Initialization failed since variables [x] are free. These symbols occur in the output expressions but you forgot to declare these as inputs. Set option 'allow_free' to allow free variables.",
     "output_type": "error",
     "traceback": [
      "\u001b[0;31m---------------------------------------------------------------------------\u001b[0m",
      "\u001b[0;31mRuntimeError\u001b[0m                              Traceback (most recent call last)",
      "Cell \u001b[0;32mIn[356], line 2\u001b[0m\n\u001b[1;32m      1\u001b[0m nlp \u001b[39m=\u001b[39m {\u001b[39m'\u001b[39m\u001b[39mx\u001b[39m\u001b[39m'\u001b[39m:x[:], \u001b[39m'\u001b[39m\u001b[39mf\u001b[39m\u001b[39m'\u001b[39m:fn_f(x), \u001b[39m'\u001b[39m\u001b[39mg\u001b[39m\u001b[39m'\u001b[39m:cs\u001b[39m.\u001b[39mvcat(fn_g(x))}\n\u001b[0;32m----> 2\u001b[0m solver \u001b[39m=\u001b[39m cs\u001b[39m.\u001b[39;49mnlpsol(\u001b[39m\"\u001b[39;49m\u001b[39msolver\u001b[39;49m\u001b[39m\"\u001b[39;49m, \u001b[39m\"\u001b[39;49m\u001b[39mipopt\u001b[39;49m\u001b[39m\"\u001b[39;49m, nlp)\n",
      "File \u001b[0;32m~/miniconda3/envs/optas/lib/python3.8/site-packages/casadi/casadi.py:28956\u001b[0m, in \u001b[0;36mnlpsol\u001b[0;34m(*args)\u001b[0m\n\u001b[1;32m  27313\u001b[0m \u001b[39mdef\u001b[39;00m \u001b[39mnlpsol\u001b[39m(\u001b[39m*\u001b[39margs) \u001b[39m-\u001b[39m\u001b[39m>\u001b[39m \u001b[39m\"\u001b[39m\u001b[39mcasadi::Function\u001b[39m\u001b[39m\"\u001b[39m:\n\u001b[1;32m  27314\u001b[0m     \u001b[39m\"\"\"\u001b[39;00m\n\u001b[1;32m  27315\u001b[0m \u001b[39m      [INTERNAL] \u001b[39;00m\n\u001b[1;32m  27316\u001b[0m \n\u001b[0;32m   (...)\u001b[0m\n\u001b[1;32m  28954\u001b[0m \n\u001b[1;32m  28955\u001b[0m \u001b[39m    \"\"\"\u001b[39;00m\n\u001b[0;32m> 28956\u001b[0m     \u001b[39mreturn\u001b[39;00m _casadi\u001b[39m.\u001b[39;49mnlpsol(\u001b[39m*\u001b[39;49margs)\n",
      "\u001b[0;31mRuntimeError\u001b[0m: Error in Function::Function for 'nlp' [MXFunction] at .../casadi/core/function.cpp:249:\n.../casadi/core/function_internal.cpp:145: Error calling MXFunction::init for 'nlp':\n.../casadi/core/mx_function.cpp:406: nlp::init: Initialization failed since variables [x] are free. These symbols occur in the output expressions but you forgot to declare these as inputs. Set option 'allow_free' to allow free variables."
     ]
    }
   ],
   "source": [
    "nlp = {'x':x[:], 'f':fn_f(x), 'g':cs.vcat(fn_g(x))}\n",
    "solver = cs.nlpsol(\"solver\", \"ipopt\", nlp)"
   ]
  },
  {
   "cell_type": "code",
   "execution_count": 214,
   "metadata": {},
   "outputs": [
    {
     "name": "stdout",
     "output_type": "stream",
     "text": [
      "This is Ipopt version 3.14.11, running with linear solver MUMPS 5.4.1.\n",
      "\n",
      "Number of nonzeros in equality constraint Jacobian...:        4\n",
      "Number of nonzeros in inequality constraint Jacobian.:       20\n",
      "Number of nonzeros in Lagrangian Hessian.............:       38\n",
      "\n",
      "Total number of variables............................:       20\n",
      "                     variables with only lower bounds:        0\n",
      "                variables with lower and upper bounds:       20\n",
      "                     variables with only upper bounds:        0\n",
      "Total number of equality constraints.................:        4\n",
      "Total number of inequality constraints...............:       10\n",
      "        inequality constraints with only lower bounds:       10\n",
      "   inequality constraints with lower and upper bounds:        0\n",
      "        inequality constraints with only upper bounds:        0\n",
      "\n",
      "iter    objective    inf_pr   inf_du lg(mu)  ||d||  lg(rg) alpha_du alpha_pr  ls\n",
      "   0  0.0000000e+00 1.00e+00 0.00e+00  -1.0 0.00e+00    -  0.00e+00 0.00e+00   0\n",
      "   1  5.4942476e-03 9.25e-01 1.05e+01  -1.0 1.00e+00    -  5.45e-01 7.47e-02h  1\n",
      "   2  5.8997048e-03 9.23e-01 4.11e+01  -1.0 1.64e+00   2.0 6.28e-04 2.11e-03h  1\n",
      "   3  2.8655290e+00 6.91e-01 8.84e+01  -1.0 2.13e+00   1.5 3.66e-01 2.52e-01f  2\n",
      "   4  2.4664706e+00 3.70e-01 8.75e+02  -1.0 8.79e-01   2.9 4.70e-02 4.65e-01h  1\n",
      "   5  2.9422225e+00 0.00e+00 5.32e+02  -1.0 1.15e+00   2.4 3.10e-01 1.00e+00f  1\n",
      "   6  2.7598595e+00 0.00e+00 2.16e+01  -1.0 2.73e-01   1.9 8.64e-01 1.00e+00f  1\n",
      "   7  2.9428202e+00 0.00e+00 4.92e+00  -1.0 9.82e-02    -  5.17e-01 1.00e+00f  1\n",
      "   8  2.5931900e+00 0.00e+00 1.48e+00  -1.0 5.61e-02   1.4 1.00e+00 1.00e+00f  1\n",
      "   9  2.2302354e+00 0.00e+00 8.43e-01  -1.0 7.26e-02   0.9 8.90e-01 1.00e+00f  1\n",
      "iter    objective    inf_pr   inf_du lg(mu)  ||d||  lg(rg) alpha_du alpha_pr  ls\n",
      "  10  1.6984236e+00 0.00e+00 4.37e-01  -1.7 1.53e-01   0.5 8.69e-01 1.00e+00f  1\n",
      "  11  1.5903968e+00 0.00e+00 5.07e-01  -1.7 6.50e-02   0.9 1.00e+00 1.00e+00h  1\n",
      "  12  1.4166123e+00 0.00e+00 3.21e-01  -1.7 1.23e-01   0.4 1.00e+00 1.00e+00f  1\n",
      "  13  1.3730669e+00 0.00e+00 3.22e-01  -1.7 4.64e-02   0.8 1.00e+00 1.00e+00h  1\n",
      "  14  1.2803624e+00 0.00e+00 2.28e-01  -1.7 9.88e-02   0.4 1.00e+00 1.00e+00f  1\n",
      "  15  1.2556462e+00 0.00e+00 2.19e-01  -1.7 3.55e-02   0.8 1.00e+00 1.00e+00h  1\n",
      "  16  1.2024826e+00 0.00e+00 1.64e-01  -1.7 7.96e-02   0.3 1.00e+00 1.00e+00f  1\n",
      "  17  1.1606635e+00 0.00e+00 1.53e-01  -2.5 2.79e-02   0.7 1.00e+00 1.00e+00h  1\n",
      "  18  1.1252098e+00 0.00e+00 1.16e-01  -2.5 6.34e-02   0.3 1.00e+00 1.00e+00f  1\n",
      "  19  1.1172045e+00 0.00e+00 1.08e-01  -2.5 2.21e-02   0.7 1.00e+00 1.00e+00h  1\n",
      "iter    objective    inf_pr   inf_du lg(mu)  ||d||  lg(rg) alpha_du alpha_pr  ls\n",
      "  20  1.1142931e+00 0.00e+00 1.03e-01  -2.5 7.94e-03   1.1 1.00e+00 1.00e+00h  1\n",
      "  21  1.1067117e+00 0.00e+00 9.25e-02  -2.5 2.13e-02   0.6 1.00e+00 1.00e+00h  1\n",
      "  22  1.1041653e+00 0.00e+00 8.93e-02  -2.5 7.74e-03   1.1 1.00e+00 1.00e+00h  1\n",
      "  23  1.0975809e+00 0.00e+00 7.97e-02  -2.5 2.07e-02   0.6 1.00e+00 1.00e+00h  1\n",
      "  24  1.0953791e+00 0.00e+00 7.68e-02  -2.5 7.48e-03   1.0 1.00e+00 1.00e+00h  1\n",
      "  25  1.0897394e+00 0.00e+00 6.81e-02  -2.5 1.99e-02   0.5 1.00e+00 1.00e+00h  1\n",
      "  26  1.0878653e+00 0.00e+00 6.55e-02  -2.5 7.18e-03   1.0 1.00e+00 1.00e+00h  1\n",
      "  27  1.0831218e+00 0.00e+00 5.78e-02  -2.5 1.90e-02   0.5 1.00e+00 1.00e+00h  1\n",
      "  28  1.0815578e+00 0.00e+00 5.54e-02  -2.5 6.83e-03   0.9 1.00e+00 1.00e+00h  1\n",
      "  29  1.0776554e+00 0.00e+00 4.86e-02  -2.5 1.80e-02   0.4 1.00e+00 1.00e+00h  1\n",
      "iter    objective    inf_pr   inf_du lg(mu)  ||d||  lg(rg) alpha_du alpha_pr  ls\n",
      "  30  1.0763807e+00 0.00e+00 4.64e-02  -2.5 6.44e-03   0.9 1.00e+00 1.00e+00h  1\n",
      "  31  1.0732530e+00 0.00e+00 4.04e-02  -2.5 1.68e-02   0.4 1.00e+00 1.00e+00h  1\n",
      "  32  1.0722424e+00 0.00e+00 3.85e-02  -2.5 6.01e-03   0.8 1.00e+00 1.00e+00h  1\n",
      "  33  1.0698097e+00 0.00e+00 3.32e-02  -2.5 1.55e-02   0.3 1.00e+00 1.00e+00h  1\n",
      "  34  1.0690336e+00 0.00e+00 3.15e-02  -2.5 5.53e-03   0.8 1.00e+00 1.00e+00h  1\n",
      "  35  1.0672056e+00 0.00e+00 2.69e-02  -2.5 1.42e-02   0.3 1.00e+00 1.00e+00h  1\n",
      "  36  1.0615343e+00 0.00e+00 2.68e-02  -3.8 5.29e-03   0.7 1.00e+00 1.00e+00h  1\n",
      "  37  1.0600327e+00 0.00e+00 2.22e-02  -3.8 1.31e-02   0.2 1.00e+00 1.00e+00h  1\n",
      "  38  1.0596386e+00 0.00e+00 2.07e-02  -3.8 4.59e-03   0.7 1.00e+00 1.00e+00h  1\n",
      "  39  1.0587501e+00 0.00e+00 1.69e-02  -3.8 1.13e-02   0.2 1.00e+00 1.00e+00h  1\n",
      "iter    objective    inf_pr   inf_du lg(mu)  ||d||  lg(rg) alpha_du alpha_pr  ls\n",
      "  40  1.0584664e+00 0.00e+00 1.57e-02  -3.8 3.92e-03   0.6 1.00e+00 1.00e+00h  1\n",
      "  41  1.0583656e+00 0.00e+00 1.52e-02  -3.8 1.42e-03   1.0 1.00e+00 1.00e+00h  1\n",
      "  42  1.0580961e+00 0.00e+00 1.40e-02  -3.8 3.92e-03   0.6 1.00e+00 1.00e+00h  1\n",
      "  43  1.0579848e+00 0.00e+00 1.35e-02  -3.8 1.43e-03   1.0 1.00e+00 1.00e+00h  1\n",
      "  44  1.0576786e+00 0.00e+00 1.23e-02  -3.8 3.89e-03   0.5 1.00e+00 1.00e+00h  1\n",
      "  45  1.0574684e+00 0.00e+00 1.33e-02  -3.8 1.58e-03   0.9 1.00e+00 1.00e+00h  1\n",
      "  46  1.0568229e+00 0.00e+00 2.65e-02  -3.8 9.47e-03   0.4 1.00e+00 1.00e+00h  1\n",
      "  47  1.0558413e+00 0.00e+00 3.46e-02  -3.8 4.63e-03   0.9 1.00e+00 1.00e+00h  1\n",
      "  48  1.0526159e+00 0.00e+00 7.34e-02  -3.8 3.00e-02   0.4 1.00e+00 1.00e+00h  1\n",
      "  49  1.0451795e+00 0.00e+00 1.01e-01  -3.8 1.55e-02   0.8 1.00e+00 1.00e+00h  1\n",
      "iter    objective    inf_pr   inf_du lg(mu)  ||d||  lg(rg) alpha_du alpha_pr  ls\n",
      "  50  1.0263821e+00 0.00e+00 1.59e-01  -3.8 8.17e-02   0.3 1.00e+00 1.00e+00h  1\n",
      "  51  9.2460746e-01 6.16e-02 7.85e-02  -3.8 3.57e-01  -0.1 1.00e+00 1.00e+00F  1\n",
      "  52  1.0166377e+00 0.00e+00 2.39e+00  -3.8 2.49e+00  -0.6 2.42e-02 5.10e-03H  1\n",
      "  53  9.9336403e-01 0.00e+00 4.40e-01  -3.8 1.07e+00  -0.2 6.40e-01 2.50e-01f  3\n",
      "  54  1.0343817e+00 0.00e+00 1.49e-01  -3.8 2.70e-01    -  1.00e+00 5.00e-01h  2\n",
      "  55  9.5576061e-01 0.00e+00 4.22e-02  -3.8 1.49e-01  -0.7 1.00e+00 9.06e-01h  1\n",
      "  56  9.3796218e-01 0.00e+00 3.19e-03  -3.8 4.66e-02    -  1.00e+00 1.00e+00h  1\n",
      "  57  9.3656051e-01 0.00e+00 3.38e-05  -3.8 3.81e-03    -  1.00e+00 1.00e+00h  1\n",
      "  58  9.3625379e-01 0.00e+00 1.49e-06  -5.7 8.34e-04    -  1.00e+00 1.00e+00h  1\n",
      "  59  9.3625000e-01 0.00e+00 3.52e-10  -8.6 1.17e-05    -  1.00e+00 1.00e+00h  1\n",
      "\n",
      "Number of Iterations....: 59\n",
      "\n",
      "                                   (scaled)                 (unscaled)\n",
      "Objective...............:   9.3625000000804903e-01    9.3625000000804903e-01\n",
      "Dual infeasibility......:   3.5186194593262747e-10    3.5186194593262747e-10\n",
      "Constraint violation....:   0.0000000000000000e+00    0.0000000000000000e+00\n",
      "Variable bound violation:   0.0000000000000000e+00    0.0000000000000000e+00\n",
      "Complementarity.........:   2.6556450002036904e-09    2.6556450002036904e-09\n",
      "Overall NLP error.......:   2.6556450002036904e-09    2.6556450002036904e-09\n",
      "\n",
      "\n",
      "Number of objective function evaluations             = 73\n",
      "Number of objective gradient evaluations             = 60\n",
      "Number of equality constraint evaluations            = 73\n",
      "Number of inequality constraint evaluations          = 73\n",
      "Number of equality constraint Jacobian evaluations   = 60\n",
      "Number of inequality constraint Jacobian evaluations = 60\n",
      "Number of Lagrangian Hessian evaluations             = 59\n",
      "Total seconds in IPOPT                               = 0.029\n",
      "\n",
      "EXIT: Optimal Solution Found.\n",
      "      solver  :   t_proc      (avg)   t_wall      (avg)    n_eval\n",
      "       nlp_f  | 161.00us (  2.21us) 162.54us (  2.23us)        73\n",
      "       nlp_g  | 277.00us (  3.79us) 220.63us (  3.02us)        73\n",
      "  nlp_grad_f  | 164.00us (  2.69us) 159.05us (  2.61us)        61\n",
      "  nlp_hess_l  | 172.00us (  2.92us) 167.12us (  2.83us)        59\n",
      "   nlp_jac_g  | 148.00us (  2.43us) 146.61us (  2.40us)        61\n",
      "       total  |  29.72ms ( 29.72ms)  29.57ms ( 29.57ms)         1\n"
     ]
    }
   ],
   "source": [
    "x0 = jnp.zeros(x.shape).flatten()\n",
    "lbx, ubx = -1.1, 1.1\n",
    "sol = solver(x0=x0, lbx=lbx, ubx=ubx, lbg=lbg, ubg=ubg)"
   ]
  },
  {
   "cell_type": "code",
   "execution_count": 343,
   "metadata": {},
   "outputs": [
    {
     "data": {
      "image/png": "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",
      "text/plain": [
       "<Figure size 640x480 with 1 Axes>"
      ]
     },
     "metadata": {},
     "output_type": "display_data"
    }
   ],
   "source": [
    "xs = np.asarray(sol['x']).reshape(-1, 2)\n",
    "\n",
    "fig, ax = plt.subplots()\n",
    "robots = []\n",
    "for x in xs:\n",
    "    circle = plt.Circle(x, r_robot, color='k')\n",
    "    robots.append(circle)\n",
    "    ax.add_patch(circle)\n",
    "circle = plt.Circle(p_obs, r_obs, color='r')\n",
    "ax.add_patch(circle)\n",
    "ax = plt.scatter(*xs.T)"
   ]
  },
  {
   "cell_type": "code",
   "execution_count": 180,
   "metadata": {},
   "outputs": [
    {
     "data": {
      "text/plain": [
       "array([[-1.        , -1.        ],\n",
       "       [-0.4544679 , -0.64292248],\n",
       "       [ 0.0910642 , -0.28584497],\n",
       "       [ 0.5455321 ,  0.35707752],\n",
       "       [ 1.        ,  1.        ]])"
      ]
     },
     "execution_count": 180,
     "metadata": {},
     "output_type": "execute_result"
    }
   ],
   "source": []
  }
 ],
 "metadata": {
  "kernelspec": {
   "display_name": "optas",
   "language": "python",
   "name": "python3"
  },
  "language_info": {
   "codemirror_mode": {
    "name": "ipython",
    "version": 3
   },
   "file_extension": ".py",
   "mimetype": "text/x-python",
   "name": "python",
   "nbconvert_exporter": "python",
   "pygments_lexer": "ipython3",
   "version": "3.8.16"
  },
  "orig_nbformat": 4
 },
 "nbformat": 4,
 "nbformat_minor": 2
}
