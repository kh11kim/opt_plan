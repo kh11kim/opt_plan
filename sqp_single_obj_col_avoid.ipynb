{
 "cells": [
  {
   "cell_type": "code",
   "execution_count": 193,
   "metadata": {},
   "outputs": [],
   "source": [
    "import jax\n",
    "import jax.numpy as jnp\n",
    "import numpy as np\n",
    "import matplotlib.pyplot as plt\n",
    "from signed_distance import *\n",
    "from mysqp import NLPBuilder, value_and_jacrev, regularized_hess\n",
    "from cvxopt import matrix, sparse, solvers"
   ]
  },
  {
   "cell_type": "code",
   "execution_count": 194,
   "metadata": {},
   "outputs": [],
   "source": [
    "num_steps = 10\n",
    "center_obs = jnp.array([0, 0.1])\n",
    "r_obs = 0.2\n",
    "\n",
    "dim_robot = 2\n",
    "r_robot = 0.1\n",
    "safe_dist = 0.1\n",
    "\n",
    "q_init = jnp.array([-1, -1])\n",
    "q_goal = jnp.array([1, 1])\n",
    "qu, ql = jnp.full(2, 1.1), jnp.full(2, -1.1)"
   ]
  },
  {
   "cell_type": "code",
   "execution_count": 195,
   "metadata": {},
   "outputs": [],
   "source": [
    "obs = Circle(center_obs, r_obs)\n",
    "env = EnvSDF((obs,), safe_dist+r_robot)"
   ]
  },
  {
   "cell_type": "code",
   "execution_count": 196,
   "metadata": {},
   "outputs": [],
   "source": [
    "#util functions\n",
    "def to_mat(x):\n",
    "    return x.reshape(-1, dim_robot)\n",
    "def to_vec(mat):\n",
    "    return mat.flatten()\n",
    "def at_timestep(i, x):\n",
    "    return to_mat(x)[i]\n",
    "def to_vel(x):\n",
    "    return (to_mat(x)[1:] - to_mat(x)[:-1]).flatten()"
   ]
  },
  {
   "cell_type": "code",
   "execution_count": 197,
   "metadata": {},
   "outputs": [],
   "source": [
    "from functools import partial\n",
    "\n",
    "# functions\n",
    "def min_dist_cost(x):\n",
    "    v = to_vel(x)\n",
    "    return v @ v\n",
    "state_init = partial(at_timestep, 0)\n",
    "state_goal = partial(at_timestep,-1)\n",
    "penetration = lambda x: env.penetrations(to_mat(x))"
   ]
  },
  {
   "cell_type": "code",
   "execution_count": 198,
   "metadata": {},
   "outputs": [],
   "source": [
    "xl = jnp.tile(ql, num_steps)\n",
    "xu = jnp.tile(qu, num_steps)\n",
    "x0 = jnp.linspace(q_init, q_goal, num_steps).flatten()"
   ]
  },
  {
   "cell_type": "code",
   "execution_count": 199,
   "metadata": {},
   "outputs": [],
   "source": [
    "#build NLP problem \n",
    "dim = num_steps * dim_robot\n",
    "nlp = NLPBuilder(dim=dim)\n",
    "nlp.set_f(min_dist_cost)\n",
    "nlp.add_eq_const(state_init, q_init)\n",
    "nlp.add_eq_const(state_goal, q_goal)\n",
    "nlp.add_eq_const(penetration, 0.)\n",
    "nlp.set_state_bound(xl, xu)"
   ]
  },
  {
   "cell_type": "code",
   "execution_count": null,
   "metadata": {},
   "outputs": [],
   "source": [
    "nlp.get_lagrangian_fn()"
   ]
  },
  {
   "cell_type": "code",
   "execution_count": 238,
   "metadata": {},
   "outputs": [],
   "source": [
    "lagrangian_fn = lambda x: nlp.get_lagrangian_fn()(x[:nlp.dim], x[nlp.dim:])\n",
    "get_lag_grad_hess = partial(value_and_jacrev, f=jax.grad(lagrangian_fn))\n",
    "#lambda x, m: regularized_hess(jax.hessian(nlp.get_lagrangian_fn())(x, m))\n",
    "get_f_val_grad = jax.value_and_grad(nlp.f)\n",
    "get_g_val_grad = partial(value_and_jacrev, f=nlp.get_g())\n",
    "get_h_val_grad = partial(value_and_jacrev, f=nlp.get_h())\n",
    "get_merit = nlp.get_merit_fn()\n",
    "get_merit_direc_deriv = nlp.get_merit_direc_deriv_fn()\n",
    "\n",
    "is_qp_solver_initialized = False\n",
    "\n",
    "@jdc.pytree_dataclass\n",
    "class OptState:\n",
    "    x: Array\n",
    "    m: Array\n",
    "    sigma: float\n",
    "    lag_grad: Array\n",
    "    lag_hess: Array\n",
    "    f_val: Array\n",
    "    f_grad: Array\n",
    "    g_val: Array\n",
    "    g_jac: Array\n",
    "    h_val: Array\n",
    "    h_jac: Array\n",
    "\n",
    "    def convexify(self):\n",
    "        P = matrix(np.asarray(self.lag_hess).astype(np.double))\n",
    "        q = matrix(np.asarray(self.f_grad).astype(np.double))\n",
    "        G = matrix(np.asarray(self.h_jac).astype(np.double))\n",
    "        h = matrix(-np.asarray(self.h_val).astype(np.double))\n",
    "        A = matrix(np.asarray(self.g_jac).astype(np.double))\n",
    "        b = matrix(-np.asarray(self.g_val).astype(np.double))\n",
    "        G = sparse(G)\n",
    "        A = sparse(A)\n",
    "        return P, q, G, h, A, b\n",
    "    \n",
    "    @jax.jit\n",
    "    def max_viol(self):\n",
    "        max_c_eq = jnp.linalg.norm(self.g_val, jnp.inf)\n",
    "        max_c_ineq = jnp.linalg.norm(jnp.clip(self.h_val, a_min=0.), jnp.inf)\n",
    "        return jnp.maximum(max_c_eq, max_c_ineq)\n",
    "    \n",
    "    @jax.jit\n",
    "    def max_grad(self):\n",
    "        return jnp.linalg.norm(self.lag_grad, jnp.inf)\n",
    "\n",
    "def backtrack(\n",
    "    state:OptState, direction: Array, \n",
    "    alpha=1., beta=0.5, gamma=0.1, max_iter=20\n",
    "):\n",
    "    x, sigma = state.x, state.sigma\n",
    "    for i in range(max_iter):\n",
    "        curr_merit = get_merit(x, sigma)\n",
    "        next_merit = get_merit(x + alpha * direction, sigma)\n",
    "        armijo = gamma * alpha * get_merit_direc_deriv(x, direction, sigma)\n",
    "        if next_merit < curr_merit + armijo:\n",
    "            break\n",
    "        alpha *= beta\n",
    "    return alpha"
   ]
  },
  {
   "cell_type": "code",
   "execution_count": 239,
   "metadata": {},
   "outputs": [],
   "source": [
    "#state init\n",
    "x = x0.copy()\n",
    "m = jnp.zeros(nlp.const_dim)\n",
    "sigma = 0.1"
   ]
  },
  {
   "cell_type": "code",
   "execution_count": 222,
   "metadata": {},
   "outputs": [
    {
     "name": "stdout",
     "output_type": "stream",
     "text": [
      "     pcost       dcost       gap    pres   dres\n",
      " 0:  9.6210e-01 -7.7237e+01  8e+01  8e-16  2e-15\n",
      " 1:  3.7949e-01 -4.4678e+00  5e+00  2e-16  2e-15\n",
      " 2:  2.2925e-02 -2.8072e-01  3e-01  2e-16  6e-16\n",
      " 3:  1.2154e-02  6.2344e-03  6e-03  1e-16  1e-16\n",
      " 4:  1.2145e-02  1.2085e-02  6e-05  2e-16  1e-16\n",
      "Optimal solution found.\n"
     ]
    }
   ],
   "source": [
    "# function evaluation\n",
    "lag_grad, lag_hess = get_lag_grad_hess(jnp.hstack([x, m]))\n",
    "f_val, f_grad = get_f_val_grad(x)\n",
    "g_val, g_jac = get_g_val_grad(x)\n",
    "h_val, h_jac = get_h_val_grad(x)\n",
    "\n",
    "state = OptState(x, m, sigma,\n",
    "                 lag_hess, f_val, f_grad, g_val, g_jac, h_val, h_jac)\n",
    "\n",
    "#solve qp\n",
    "P, q, G, h, A, b = state.convexify()\n",
    "sol = solvers.qp(P, q, G, h, A, b, \n",
    "                 options={\"show_progress\":True, \"reltol\":0.01})\n",
    "\n",
    "direction = jnp.asarray(sol[\"x\"]).flatten()\n",
    "dual_sol = jnp.vstack(\n",
    "    [jnp.asarray(sol[\"y\"]), jnp.asarray(sol[\"z\"])]\n",
    ").flatten()"
   ]
  },
  {
   "cell_type": "code",
   "execution_count": 223,
   "metadata": {},
   "outputs": [],
   "source": [
    "# linesearch\n",
    "alpha = backtrack(state, direction)\n",
    "# update\n",
    "x = state.x + alpha * direction\n",
    "m = state.m * (1-alpha) + alpha * dual_sol\n",
    "sigma = jnp.max(jnp.abs(jnp.hstack([1.01*dual_sol, sigma])))\n",
    "state_prev = state"
   ]
  },
  {
   "cell_type": "code",
   "execution_count": 212,
   "metadata": {},
   "outputs": [],
   "source": [
    "def draw_scene(x):\n",
    "    xs = to_mat(x)\n",
    "    fig, ax = plt.subplots(figsize=[5,4])\n",
    "    robots = []\n",
    "    for q in xs:\n",
    "        circle = plt.Circle(q, r_robot, color='k')\n",
    "        robots.append(circle)\n",
    "        ax.add_patch(circle)\n",
    "    circle = plt.Circle(center_obs, r_obs, color='r')\n",
    "    ax.add_patch(circle)\n",
    "    ax = plt.scatter(*xs.T)"
   ]
  },
  {
   "cell_type": "code",
   "execution_count": 224,
   "metadata": {},
   "outputs": [
    {
     "data": {
      "image/png": "[encoded data removed]",
      "text/plain": [
       "<Figure size 500x400 with 1 Axes>"
      ]
     },
     "metadata": {},
     "output_type": "display_data"
    }
   ],
   "source": [
    "draw_scene(x)"
   ]
  },
  {
   "cell_type": "code",
   "execution_count": 40,
   "metadata": {},
   "outputs": [],
   "source": [
    "ff = lambda x: min_dist_cost(x) + penetration(x)\n",
    "ff_grad = jax.grad(ff)\n",
    "ff_hess = jax.hessian(ff)"
   ]
  },
  {
   "cell_type": "code",
   "execution_count": 44,
   "metadata": {},
   "outputs": [],
   "source": [
    "newton_step = - jnp.linalg.inv(ff_hess(x)) @ ff_grad(x)"
   ]
  },
  {
   "cell_type": "code",
   "execution_count": 36,
   "metadata": {},
   "outputs": [],
   "source": [
    "penet_grad = jax.grad(penetration)(x)"
   ]
  },
  {
   "cell_type": "code",
   "execution_count": 33,
   "metadata": {},
   "outputs": [
    {
     "data": {
      "text/plain": [
       "Array(0., dtype=float32, weak_type=True)"
      ]
     },
     "execution_count": 33,
     "metadata": {},
     "output_type": "execute_result"
    }
   ],
   "source": [
    "env.penetration(to_mat(x)[6])"
   ]
  },
  {
   "cell_type": "code",
   "execution_count": 25,
   "metadata": {},
   "outputs": [
    {
     "data": {
      "text/plain": [
       "Array(1.286607, dtype=float32)"
      ]
     },
     "execution_count": 25,
     "metadata": {},
     "output_type": "execute_result"
    }
   ],
   "source": [
    "env.distance(to_mat(x)[0])"
   ]
  },
  {
   "cell_type": "code",
   "execution_count": 26,
   "metadata": {},
   "outputs": [
    {
     "data": {
      "text/plain": [
       "Array(1.286607, dtype=float32)"
      ]
     },
     "execution_count": 26,
     "metadata": {},
     "output_type": "execute_result"
    }
   ],
   "source": [
    "obs.distance(to_mat(x)[0])"
   ]
  },
  {
   "cell_type": "code",
   "execution_count": 50,
   "metadata": {},
   "outputs": [
    {
     "data": {
      "image/png": "[encoded data removed]",
      "text/plain": [
       "<Figure size 500x400 with 1 Axes>"
      ]
     },
     "metadata": {},
     "output_type": "display_data"
    }
   ],
   "source": [
    "draw_scene(x + 0.05*newton_step)"
   ]
  }
 ],
 "metadata": {
  "kernelspec": {
   "display_name": "opt_env",
   "language": "python",
   "name": "python3"
  },
  "language_info": {
   "codemirror_mode": {
    "name": "ipython",
    "version": 3
   },
   "file_extension": ".py",
   "mimetype": "text/x-python",
   "name": "python",
   "nbconvert_exporter": "python",
   "pygments_lexer": "ipython3",
   "version": "3.8.16"
  },
  "orig_nbformat": 4
 },
 "nbformat": 4,
 "nbformat_minor": 2
}
