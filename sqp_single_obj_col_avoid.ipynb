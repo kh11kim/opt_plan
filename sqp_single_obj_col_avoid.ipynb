{
 "cells": [
  {
   "cell_type": "code",
   "execution_count": 1,
   "metadata": {},
   "outputs": [],
   "source": [
    "import jax\n",
    "import jax.numpy as jnp\n",
    "import numpy as np\n",
    "import matplotlib.pyplot as plt\n",
    "from signed_distance import *\n",
    "from mysqp import NLPBuilder, value_and_jacrev, regularized_hess"
   ]
  },
  {
   "cell_type": "code",
   "execution_count": 2,
   "metadata": {},
   "outputs": [],
   "source": [
    "num_steps = 10\n",
    "center_obs = jnp.array([0, 0.1])\n",
    "r_obs = 0.2\n",
    "\n",
    "dim_robot = 2\n",
    "r_robot = 0.1\n",
    "safe_dist = 0.1\n",
    "\n",
    "q_init = jnp.array([-1, -1])\n",
    "q_goal = jnp.array([1, 1])\n",
    "qu, ql = jnp.full(2, 1.1), jnp.full(2, -1.1)"
   ]
  },
  {
   "cell_type": "code",
   "execution_count": 3,
   "metadata": {},
   "outputs": [],
   "source": [
    "obs = Circle(center_obs, r_obs)\n",
    "env = EnvSDF((obs,), safe_dist)"
   ]
  },
  {
   "cell_type": "code",
   "execution_count": 4,
   "metadata": {},
   "outputs": [],
   "source": [
    "#util functions\n",
    "def to_mat(x):\n",
    "    return x.reshape(-1, dim_robot)\n",
    "def to_vec(mat):\n",
    "    return mat.flatten()\n",
    "def at_timestep(i, x):\n",
    "    return to_mat(x)[i]\n",
    "def to_vel(x):\n",
    "    return (to_mat(x)[1:] - to_mat(x)[:-1]).flatten()"
   ]
  },
  {
   "cell_type": "code",
   "execution_count": 5,
   "metadata": {},
   "outputs": [],
   "source": [
    "from functools import partial\n",
    "\n",
    "# functions\n",
    "def min_dist_cost(x):\n",
    "    v = to_vel(x)\n",
    "    return v @ v\n",
    "state_init = partial(at_timestep, 0)\n",
    "state_goal = partial(at_timestep,-1)\n",
    "penetration = lambda x: env.penetrations(to_mat(x))"
   ]
  },
  {
   "cell_type": "code",
   "execution_count": 6,
   "metadata": {},
   "outputs": [],
   "source": [
    "xl = jnp.tile(ql, num_steps)\n",
    "xu = jnp.tile(qu, num_steps)\n",
    "x0 = jnp.linspace(q_init, q_goal, num_steps).flatten()"
   ]
  },
  {
   "cell_type": "code",
   "execution_count": 7,
   "metadata": {},
   "outputs": [],
   "source": [
    "dim = num_steps * dim_robot\n",
    "nlp = NLPBuilder(dim=dim)\n",
    "nlp.set_f(min_dist_cost)\n",
    "nlp.add_eq_const(state_init, q_init)\n",
    "nlp.add_eq_const(state_goal, q_goal)\n",
    "nlp.add_eq_const(penetration, 0.)\n",
    "nlp.set_state_bound(xl, xu)"
   ]
  },
  {
   "cell_type": "code",
   "execution_count": 25,
   "metadata": {},
   "outputs": [],
   "source": [
    "import scipy.sparse as sparse\n",
    "\n",
    "get_lag_hess = lambda x, m: regularized_hess(jax.hessian(nlp.get_lagrangian_fn())(x, m))\n",
    "get_f_val_grad = jax.value_and_grad(nlp.f)\n",
    "get_g_val_grad = partial(value_and_jacrev, f=nlp.get_g())\n",
    "get_h_val_grad = partial(value_and_jacrev, f=nlp.get_h())\n",
    "get_merit = nlp.get_merit_fn()\n",
    "get_merit_grad = jax.grad(get_merit)\n",
    "get_merit_direc_deriv = nlp.get_merit_direc_deriv_fn()\n",
    "\n",
    "import osqp\n",
    "solver = osqp.OSQP()\n",
    "is_qp_solver_initialized = False\n",
    "\n",
    "@jdc.pytree_dataclass\n",
    "class OptState:\n",
    "    x: Array\n",
    "    m: Array\n",
    "    sigma: float\n",
    "    lag_hess: Array\n",
    "    f_val: Array\n",
    "    f_grad: Array\n",
    "    g_val: Array\n",
    "    g_jac: Array\n",
    "    h_val: Array\n",
    "    h_jac: Array\n",
    "\n",
    "    def convexify(self):\n",
    "        # for qp\n",
    "        P = self.lag_hess\n",
    "        q = self.f_grad\n",
    "        A = jnp.vstack([self.g_jac, self.h_jac])\n",
    "        u = - jnp.hstack([self.g_val, self.h_val])\n",
    "        l = - jnp.hstack([self.g_val, jnp.ones_like(self.h_val)*jnp.inf])\n",
    "        # P = sparse.csc_matrix(P)\n",
    "        # q = np.asarray(q)\n",
    "        # A = sparse.csc_matrix(A)\n",
    "        # l = np.asarray(l)\n",
    "        # u = np.asarray(u)\n",
    "        return P, q, A, l, u\n",
    "\n",
    "def backtrack(\n",
    "    state:OptState, direction: Array, \n",
    "    alpha=1., beta=0.5, gamma=0.1, max_iter=20\n",
    "):\n",
    "    x, sigma = state.x, state.sigma\n",
    "    for i in range(max_iter):\n",
    "        curr_merit = get_merit(x, sigma)\n",
    "        next_merit = get_merit(x + alpha * direction, sigma)\n",
    "        armijo = gamma * alpha * get_merit_direc_deriv(x, direction, sigma)\n",
    "        if next_merit < curr_merit + armijo:\n",
    "            break\n",
    "        alpha *= beta\n",
    "    return alpha"
   ]
  },
  {
   "cell_type": "code",
   "execution_count": 26,
   "metadata": {},
   "outputs": [],
   "source": [
    "#state init\n",
    "x = x0.copy()\n",
    "m = jnp.zeros(nlp.const_dim)\n",
    "sigma = 0.1"
   ]
  },
  {
   "cell_type": "code",
   "execution_count": 27,
   "metadata": {},
   "outputs": [],
   "source": [
    "# function evaluation\n",
    "lag_hess = get_lag_hess(x, m)\n",
    "f_val, f_grad = get_f_val_grad(x)\n",
    "g_val, g_jac = get_g_val_grad(x)\n",
    "h_val, h_jac = get_h_val_grad(x)\n",
    "\n",
    "state = OptState(x, m, sigma,\n",
    "                 lag_hess, f_val, f_grad, g_val, g_jac, h_val, h_jac)"
   ]
  },
  {
   "cell_type": "code",
   "execution_count": 28,
   "metadata": {},
   "outputs": [],
   "source": [
    "from jaxopt import BoxOSQP\n",
    "P, q, A, l, u = state.convexify()\n",
    "\n",
    "qp = BoxOSQP()"
   ]
  },
  {
   "cell_type": "code",
   "execution_count": 55,
   "metadata": {},
   "outputs": [
    {
     "name": "stdout",
     "output_type": "stream",
     "text": [
      "932 ms ± 45.7 ms per loop (mean ± std. dev. of 7 runs, 1 loop each)\n"
     ]
    }
   ],
   "source": [
    "%timeit jax.jit(qp.run)(params_obj=(P, q), params_eq=A, params_ineq=(l, u)).params"
   ]
  },
  {
   "cell_type": "code",
   "execution_count": 54,
   "metadata": {},
   "outputs": [
    {
     "name": "stdout",
     "output_type": "stream",
     "text": [
      "[-0.00000000e+00 -0.00000000e+00 -0.00000000e+00 -0.00000000e+00\n",
      " -5.88334680e-01 -9.15977434e-05 -1.12413545e-05 -1.17022365e-01\n",
      " -1.17028449e-02 -2.34012902e-01 -2.34026536e-02 -3.51089358e-01\n",
      " -3.51117924e-02 -4.68288839e-01 -4.68336083e-02 -5.85646510e-01\n",
      " -5.85709438e-02 -4.39087093e-01 -4.39155325e-02 -2.92703092e-01\n",
      " -2.92761587e-02 -1.46471903e-01 -1.46502713e-02 -3.11340962e-04\n",
      " -2.81356424e-05  9.15977434e-05  1.12413545e-05  1.17022365e-01\n",
      "  1.17028449e-02  2.34012902e-01  2.34026536e-02  3.51089358e-01\n",
      "  3.51117924e-02  4.68288839e-01  4.68336083e-02  5.85646510e-01\n",
      "  5.85709438e-02  4.39087093e-01  4.39155325e-02  2.92703092e-01\n",
      "  2.92761587e-02  1.46471903e-01  1.46502713e-02  3.11374664e-04\n",
      "  2.81356424e-05]\n"
     ]
    }
   ],
   "source": [
    "print(sol.primal[1])"
   ]
  },
  {
   "cell_type": "code",
   "execution_count": 34,
   "metadata": {},
   "outputs": [
    {
     "data": {
      "text/plain": [
       "(Array([9.15977434e-05, 1.12413545e-05, 1.17022365e-01, 1.17028449e-02,\n",
       "        2.34012902e-01, 2.34026536e-02, 3.51089358e-01, 3.51117924e-02,\n",
       "        4.68288839e-01, 4.68336083e-02, 5.85646510e-01, 5.85709438e-02,\n",
       "        4.39087093e-01, 4.39155325e-02, 2.92703092e-01, 2.92761587e-02,\n",
       "        1.46471903e-01, 1.46502713e-02, 3.11340962e-04, 2.81356424e-05],      dtype=float32),\n",
       " Array([-0.00000000e+00, -0.00000000e+00, -0.00000000e+00, -0.00000000e+00,\n",
       "        -5.88334680e-01, -9.15977434e-05, -1.12413545e-05, -1.17022365e-01,\n",
       "        -1.17028449e-02, -2.34012902e-01, -2.34026536e-02, -3.51089358e-01,\n",
       "        -3.51117924e-02, -4.68288839e-01, -4.68336083e-02, -5.85646510e-01,\n",
       "        -5.85709438e-02, -4.39087093e-01, -4.39155325e-02, -2.92703092e-01,\n",
       "        -2.92761587e-02, -1.46471903e-01, -1.46502713e-02, -3.11340962e-04,\n",
       "        -2.81356424e-05,  9.15977434e-05,  1.12413545e-05,  1.17022365e-01,\n",
       "         1.17028449e-02,  2.34012902e-01,  2.34026536e-02,  3.51089358e-01,\n",
       "         3.51117924e-02,  4.68288839e-01,  4.68336083e-02,  5.85646510e-01,\n",
       "         5.85709438e-02,  4.39087093e-01,  4.39155325e-02,  2.92703092e-01,\n",
       "         2.92761587e-02,  1.46471903e-01,  1.46502713e-02,  3.11374664e-04,\n",
       "         2.81356424e-05], dtype=float32))"
      ]
     },
     "execution_count": 34,
     "metadata": {},
     "output_type": "execute_result"
    }
   ],
   "source": [
    "sol.primal"
   ]
  },
  {
   "cell_type": "code",
   "execution_count": 18,
   "metadata": {},
   "outputs": [
    {
     "name": "stdout",
     "output_type": "stream",
     "text": [
      "iter   objective    pri res    dua res    rho        time\n",
      "   1  -1.4863e-02   5.16e-01   5.21e+01   1.00e-01   1.44e-04s\n",
      " 200  -6.5443e+00   1.23e+00   3.20e+00   1.00e-01   3.78e-04s\n",
      " 400  -6.5443e+00   1.23e+00   3.20e+00   1.00e-01   6.38e-04s\n",
      " 600  -6.5443e+00   1.23e+00   3.20e+00   1.00e-01   8.33e-04s\n",
      " 800  -6.5443e+00   1.23e+00   3.20e+00   1.00e-01   1.03e-03s\n",
      "1000  -6.5443e+00   1.23e+00   3.20e+00   1.00e-01   1.24e-03s\n",
      "1200  -6.5443e+00   1.23e+00   3.20e+00   1.00e-01   1.44e-03s\n",
      "1400  -6.5443e+00   1.23e+00   3.20e+00   1.00e-01   1.65e-03s\n",
      "1600  -6.5443e+00   1.23e+00   3.20e+00   1.00e-01   1.85e-03s\n",
      "1800  -6.5443e+00   1.23e+00   3.20e+00   1.00e-01   2.05e-03s\n",
      "2000  -6.5443e+00   1.23e+00   3.20e+00   1.00e-01   2.25e-03s\n",
      "2200  -6.5443e+00   1.23e+00   3.20e+00   1.00e-01   2.45e-03s\n",
      "2400  -6.5443e+00   1.23e+00   3.20e+00   1.00e-01   2.65e-03s\n",
      "2600  -6.5443e+00   1.23e+00   3.20e+00   1.00e-01   2.84e-03s\n",
      "2800  -6.5443e+00   1.23e+00   3.20e+00   1.00e-01   3.04e-03s\n",
      "3000  -6.5443e+00   1.23e+00   3.20e+00   1.00e-01   3.24e-03s\n",
      "3200  -6.5443e+00   1.23e+00   3.20e+00   1.00e-01   3.46e-03s\n",
      "3400  -6.5443e+00   1.23e+00   3.20e+00   1.00e-01   3.68e-03s\n",
      "3600  -6.5443e+00   1.23e+00   3.20e+00   1.00e-01   3.88e-03s\n",
      "3800  -6.5443e+00   1.23e+00   3.20e+00   1.00e-01   4.14e-03s\n",
      "4000  -6.5443e+00   1.23e+00   3.20e+00   1.00e-01   4.44e-03s\n",
      "\n",
      "status:               maximum iterations reached\n",
      "number of iterations: 4000\n",
      "run time:             4.47e-03s\n",
      "optimal rho estimate: 7.79e-02\n",
      "\n",
      "QP infeasible!\n"
     ]
    }
   ],
   "source": [
    "P, q, A, l, u = state.convexify()\n",
    "if not is_qp_solver_initialized:\n",
    "    opts = {\"verbose\":True, \"warm_start\":False}\n",
    "    solver.setup(P, q, A, l, u, **opts)\n",
    "    is_qp_solver_initialized = True\n",
    "else:\n",
    "    solver.update(Px=P.data, q=q, Ax=A.data, l=l, u=u)\n",
    "res = solver.solve()\n",
    "if res.info.status != \"solved\":\n",
    "    print(\"QP infeasible!\")\n",
    "else:\n",
    "    print(\"QP solved\")"
   ]
  },
  {
   "cell_type": "code",
   "execution_count": 12,
   "metadata": {},
   "outputs": [],
   "source": [
    "direction = res.x\n",
    "alpha = backtrack(state, direction)"
   ]
  },
  {
   "cell_type": "code",
   "execution_count": 13,
   "metadata": {},
   "outputs": [],
   "source": [
    "#update\n",
    "x = state.x + alpha * direction\n",
    "m = state.m * (1-alpha) + alpha * res.y\n",
    "sigma = jnp.max(jnp.abs(jnp.hstack([1.01*res.y, sigma])))\n",
    "state_prev = state"
   ]
  },
  {
   "cell_type": "code",
   "execution_count": 14,
   "metadata": {},
   "outputs": [],
   "source": [
    "def draw_scene(x):\n",
    "    xs = to_mat(x)\n",
    "    fig, ax = plt.subplots(figsize=[5,4])\n",
    "    robots = []\n",
    "    for q in xs:\n",
    "        circle = plt.Circle(q, r_robot, color='k')\n",
    "        robots.append(circle)\n",
    "        ax.add_patch(circle)\n",
    "    circle = plt.Circle(center_obs, r_obs, color='r')\n",
    "    ax.add_patch(circle)\n",
    "    ax = plt.scatter(*xs.T)"
   ]
  },
  {
   "cell_type": "code",
   "execution_count": 16,
   "metadata": {},
   "outputs": [
    {
     "data": {
      "image/png": "[encoded data removed]",
      "text/plain": [
       "<Figure size 500x400 with 1 Axes>"
      ]
     },
     "metadata": {},
     "output_type": "display_data"
    }
   ],
   "source": [
    "draw_scene(x)"
   ]
  }
 ],
 "metadata": {
  "kernelspec": {
   "display_name": "opt_env",
   "language": "python",
   "name": "python3"
  },
  "language_info": {
   "codemirror_mode": {
    "name": "ipython",
    "version": 3
   },
   "file_extension": ".py",
   "mimetype": "text/x-python",
   "name": "python",
   "nbconvert_exporter": "python",
   "pygments_lexer": "ipython3",
   "version": "3.8.15"
  },
  "orig_nbformat": 4
 },
 "nbformat": 4,
 "nbformat_minor": 2
}
