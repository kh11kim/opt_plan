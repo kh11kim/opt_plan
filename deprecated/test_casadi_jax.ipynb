{
 "cells": [
  {
   "cell_type": "code",
   "execution_count": 2,
   "metadata": {},
   "outputs": [],
   "source": [
    "from deprecated.test_casadi import *\n",
    "import casadi as cs"
   ]
  },
  {
   "cell_type": "code",
   "execution_count": 3,
   "metadata": {},
   "outputs": [],
   "source": [
    "#f = x[0]*x[3]*cs.sum1(x[:3]) + x[2]\n",
    "x = cs.MX.sym('x', 4, 1)\n",
    "\n",
    "fn = jax.jit(lambda x: x[0]*x[3]*jnp.sum(x[:3]) + x[2])\n",
    "f = JaxFn(4, 1, fn)\n",
    "geq = cs.sumsqr(x)\n",
    "gineq = x[0]*x[1]*x[2]*x[3]\n",
    "g = cs.vertcat(geq, gineq)\n",
    "\n",
    "nlp = {'x':x, 'f':f(x), 'g':g}"
   ]
  },
  {
   "cell_type": "code",
   "execution_count": 8,
   "metadata": {},
   "outputs": [
    {
     "name": "stdout",
     "output_type": "stream",
     "text": [
      "\n",
      "qpOASES -- An Implementation of the Online Active Set Strategy.\n",
      "Copyright (C) 2007-2015 by Hans Joachim Ferreau, Andreas Potschka,\n",
      "Christian Kirches et al. All rights reserved.\n",
      "\n",
      "qpOASES is distributed under the terms of the \n",
      "GNU Lesser General Public License 2.1 in the hope that it will be \n",
      "useful, but WITHOUT ANY WARRANTY; without even the implied warranty \n",
      "of MERCHANTABILITY or FITNESS FOR A PARTICULAR PURPOSE. \n",
      "See the GNU Lesser General Public License for more details.\n",
      "\n",
      "-------------------------------------------\n",
      "This is casadi::Sqpmethod.\n",
      "Using limited memory BFGS Hessian approximation\n",
      "Number of variables:                               4\n",
      "Number of constraints:                             2\n",
      "Number of nonzeros in constraint Jacobian:         8\n",
      "Number of nonzeros in Lagrangian Hessian:         16\n",
      "\n"
     ]
    }
   ],
   "source": [
    "opts=dict(qpsol=\"qpoases\",\n",
    "          qpsol_options={\"printLevel\":\"none\"},\n",
    "          hessian_approximation=\"limited-memory\")\n",
    "solver = cs.nlpsol(\"solver\", \"sqpmethod\", nlp, opts)"
   ]
  },
  {
   "cell_type": "code",
   "execution_count": 15,
   "metadata": {},
   "outputs": [
    {
     "name": "stdout",
     "output_type": "stream",
     "text": [
      "iter      objective    inf_pr    inf_du     ||d||  lg(rg) ls    info\n",
      "   0   1.600000e+01  1.20e+01  1.20e+01  0.00e+00       -  0  - \n",
      "   1   1.606250e+01  1.39e+00  2.08e+00  1.12e+00       -  1  - \n",
      "   2   1.696396e+01  8.08e-02  1.35e-01  1.37e-01       -  1  - \n",
      "   3   1.701372e+01  4.61e-04  1.32e-02  1.39e-02       -  1  - \n",
      "   4   1.701402e+01  8.25e-08  5.95e-05  2.07e-04       -  1  - \n",
      "   5   1.701402e+01  3.66e-11  3.50e-07  4.78e-06       -  1  - \n",
      "MESSAGE(sqpmethod): Convergence achieved after 5 iterations\n",
      "      solver  :   t_proc      (avg)   t_wall      (avg)    n_eval\n",
      "        BFGS  |  18.00us (  3.60us)  14.44us (  2.89us)         5\n",
      "          QP  | 213.00us ( 42.60us) 212.35us ( 42.47us)         5\n",
      "  linesearch  |   3.20ms (640.00us)   2.65ms (529.52us)         5\n",
      "      nlp_fg  |  21.57ms (616.14us)  17.77ms (507.83us)        35\n",
      "  nlp_jac_fg  | 105.66ms (  2.52ms)  86.94ms (  2.07ms)        42\n",
      "       total  |  17.05ms ( 17.05ms)  13.95ms ( 13.95ms)         1\n"
     ]
    },
    {
     "ename": "",
     "evalue": "",
     "output_type": "error",
     "traceback": [
      "\u001b[1;31mThe Kernel crashed while executing code in the the current cell or a previous cell. Please review the code in the cell(s) to identify a possible cause of the failure. Click <a href='https://aka.ms/vscodeJupyterKernelCrash'>here</a> for more info. View Jupyter <a href='command:jupyter.viewOutput'>log</a> for further details."
     ]
    }
   ],
   "source": [
    "x0 = [1., 5., 5., 1.]\n",
    "lbx, ubx = 1, 5\n",
    "lbg = [40., 25.]\n",
    "ubg = [40., cs.inf]\n",
    "sol = solver(x0=x0, lbx=lbx, ubx=ubx, lbg=lbg, ubg=ubg)"
   ]
  },
  {
   "cell_type": "code",
   "execution_count": null,
   "metadata": {},
   "outputs": [],
   "source": []
  }
 ],
 "metadata": {
  "kernelspec": {
   "display_name": "optas",
   "language": "python",
   "name": "python3"
  },
  "language_info": {
   "codemirror_mode": {
    "name": "ipython",
    "version": 3
   },
   "file_extension": ".py",
   "mimetype": "text/x-python",
   "name": "python",
   "nbconvert_exporter": "python",
   "pygments_lexer": "ipython3",
   "version": "3.8.16"
  },
  "orig_nbformat": 4
 },
 "nbformat": 4,
 "nbformat_minor": 2
}
