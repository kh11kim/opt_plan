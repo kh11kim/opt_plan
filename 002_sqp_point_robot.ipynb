{
 "cells": [
  {
   "cell_type": "code",
   "execution_count": 3,
   "metadata": {},
   "outputs": [],
   "source": [
    "import jax\n",
    "import jax.numpy as jnp\n",
    "import numpy as np\n",
    "import matplotlib.pyplot as plt\n",
    "from signed_distance import *\n",
    "from nlp_builder import NLPBuilder\n",
    "from nlp_solver import SQPSolver\n",
    "from functools import partial"
   ]
  },
  {
   "cell_type": "code",
   "execution_count": 4,
   "metadata": {},
   "outputs": [],
   "source": [
    "# problem\n",
    "num_steps = 10\n",
    "center_obs = jnp.array([0, 0.1])\n",
    "r_obs = 0.2\n",
    "\n",
    "dim_robot = 2\n",
    "r_robot = 0.1\n",
    "safe_dist = 0.1\n",
    "\n",
    "q_init = jnp.array([-1, -1])\n",
    "q_goal = jnp.array([1, 1])\n",
    "qu, ql = jnp.full(2, 1.1), jnp.full(2, -1.1)"
   ]
  },
  {
   "cell_type": "code",
   "execution_count": 5,
   "metadata": {},
   "outputs": [],
   "source": [
    "#util functions\n",
    "def to_mat(x):\n",
    "    return x.reshape(-1, dim_robot)\n",
    "def to_vec(mat):\n",
    "    return mat.flatten()\n",
    "def at_timestep(i, x):\n",
    "    return to_mat(x)[i]\n",
    "def to_vel(x):\n",
    "    return (to_mat(x)[1:] - to_mat(x)[:-1]).flatten()"
   ]
  },
  {
   "cell_type": "code",
   "execution_count": 6,
   "metadata": {},
   "outputs": [],
   "source": [
    "# define robot\n",
    "x_robot = r_robot*jnp.cos(jnp.linspace(0, jnp.pi*2, 10))\n",
    "y_robot = r_robot*jnp.sin(jnp.linspace(0, jnp.pi*2, 10))\n",
    "p_robot = jnp.vstack([x_robot, y_robot]).T"
   ]
  },
  {
   "cell_type": "code",
   "execution_count": 22,
   "metadata": {},
   "outputs": [],
   "source": [
    "# functions\n",
    "obs = Circle(center_obs, r_obs)\n",
    "env = EnvSDF((obs,), safe_dist) # exclude r_robot in safe_dist\n",
    "assign_points = lambda q: p_robot + q\n",
    "assign_points_path = lambda x: jnp.vstack(jax.vmap(assign_points)(to_mat(x)))\n",
    "\n",
    "state_init = partial(at_timestep, 0)\n",
    "state_goal = partial(at_timestep,-1)\n",
    "penetration = lambda x: env.penetrations(assign_points_path(x))\n",
    "def min_dist_cost(x):\n",
    "    v = to_vel(x)\n",
    "    return v @ v + penetration(x)\n",
    "\n",
    "xl = jnp.tile(ql, num_steps)\n",
    "xu = jnp.tile(qu, num_steps)\n",
    "x0 = jnp.zeros_like(xu)\n",
    "\n",
    "#jnp.linspace(q_init, q_goal, num_steps).flatten()"
   ]
  },
  {
   "cell_type": "code",
   "execution_count": 23,
   "metadata": {},
   "outputs": [],
   "source": [
    "#build NLP problem \n",
    "dim = num_steps * dim_robot\n",
    "nlp = NLPBuilder(dim=dim)\n",
    "nlp.set_f(min_dist_cost)\n",
    "nlp.add_eq_const(state_init, q_init, est_sparsity=True)\n",
    "nlp.add_eq_const(state_goal, q_goal, est_sparsity=True)\n",
    "#nlp.add_eq_const(penetration, 0., est_sparsity=False)\n",
    "nlp.set_state_bound(xl, xu)"
   ]
  },
  {
   "cell_type": "code",
   "execution_count": 24,
   "metadata": {},
   "outputs": [],
   "source": [
    "solver = SQPSolver.from_builder(nlp, sparsity=True)\n",
    "solver.prebuild(mode=\"BFGS\")"
   ]
  },
  {
   "cell_type": "code",
   "execution_count": 25,
   "metadata": {},
   "outputs": [
    {
     "name": "stdout",
     "output_type": "stream",
     "text": [
      "0: grad:7.6350 | viol:0.2000 | alpha:0.8000\n",
      "1: grad:4.9228 | viol:0.0000 | alpha:1.0000\n",
      "2: grad:3.2376 | viol:0.0000 | alpha:0.8000\n",
      "3: grad:2.2577 | viol:0.0000 | alpha:0.5120\n",
      "4: grad:2.1105 | viol:0.0000 | alpha:0.6400\n",
      "5: grad:1.2675 | viol:0.0000 | alpha:0.6400\n",
      "6: grad:1.3628 | viol:0.0000 | alpha:0.6400\n",
      "7: grad:0.9948 | viol:0.0000 | alpha:0.6400\n",
      "8: grad:0.9429 | viol:0.0000 | alpha:0.6400\n",
      "9: grad:0.6595 | viol:0.0000 | alpha:0.8000\n",
      "10: grad:1.1490 | viol:0.0000 | alpha:0.5120\n",
      "11: grad:0.4690 | viol:0.0000 | alpha:1.0000\n",
      "12: grad:0.5039 | viol:0.0000 | alpha:1.0000\n",
      "13: grad:0.4232 | viol:0.0000 | alpha:0.8000\n",
      "14: grad:0.4902 | viol:0.0000 | alpha:1.0000\n",
      "15: grad:0.3860 | viol:0.0000 | alpha:0.8000\n",
      "16: grad:0.4537 | viol:0.0000 | alpha:1.0000\n",
      "17: grad:0.7614 | viol:0.0000 | alpha:0.6400\n",
      "18: grad:0.2934 | viol:0.0000 | alpha:1.0000\n",
      "19: grad:0.3716 | viol:0.0000 | alpha:1.0000\n",
      "20: grad:0.4169 | viol:0.0000 | alpha:1.0000\n",
      "21: grad:0.9296 | viol:0.0000 | alpha:0.4096\n",
      "22: grad:1.0204 | viol:0.0000 | alpha:0.5120\n",
      "23: grad:0.4132 | viol:0.0000 | alpha:1.0000\n",
      "24: grad:0.0745 | viol:0.0000 | alpha:1.0000\n",
      "25: grad:0.3384 | viol:0.0000 | alpha:1.0000\n",
      "26: grad:0.3170 | viol:0.0000 | alpha:0.8000\n",
      "27: grad:0.4308 | viol:0.0000 | alpha:0.8000\n",
      "SQP solved !\n",
      "2.2429115772247314\n"
     ]
    }
   ],
   "source": [
    "import time\n",
    "tic = time.time()\n",
    "xsol = solver.solve(x0, tol=0.03, verbose=True, save_history=True)\n",
    "elapsed = time.time() - tic\n",
    "print(elapsed)"
   ]
  },
  {
   "cell_type": "code",
   "execution_count": 26,
   "metadata": {},
   "outputs": [
    {
     "data": {
      "text/plain": [
       "28"
      ]
     },
     "execution_count": 26,
     "metadata": {},
     "output_type": "execute_result"
    }
   ],
   "source": [
    "xs = [s.x for s in solver.states]\n",
    "len(xs)"
   ]
  },
  {
   "cell_type": "code",
   "execution_count": 27,
   "metadata": {},
   "outputs": [],
   "source": [
    "i= 0"
   ]
  },
  {
   "cell_type": "code",
   "execution_count": 56,
   "metadata": {},
   "outputs": [
    {
     "ename": "IndexError",
     "evalue": "list index out of range",
     "output_type": "error",
     "traceback": [
      "\u001b[0;31m---------------------------------------------------------------------------\u001b[0m",
      "\u001b[0;31mIndexError\u001b[0m                                Traceback (most recent call last)",
      "Cell \u001b[0;32mIn[56], line 2\u001b[0m\n\u001b[1;32m      1\u001b[0m \u001b[39mimport\u001b[39;00m \u001b[39mmatplotlib\u001b[39;00m\u001b[39m.\u001b[39;00m\u001b[39mpyplot\u001b[39;00m \u001b[39mas\u001b[39;00m \u001b[39mplt\u001b[39;00m\n\u001b[0;32m----> 2\u001b[0m qs \u001b[39m=\u001b[39m to_mat(xs[i])\n\u001b[1;32m      4\u001b[0m fig, ax \u001b[39m=\u001b[39m plt\u001b[39m.\u001b[39msubplots(figsize\u001b[39m=\u001b[39m[\u001b[39m5\u001b[39m,\u001b[39m4\u001b[39m])\n\u001b[1;32m      5\u001b[0m robots \u001b[39m=\u001b[39m []\n",
      "\u001b[0;31mIndexError\u001b[0m: list index out of range"
     ]
    }
   ],
   "source": [
    "import matplotlib.pyplot as plt\n",
    "qs = to_mat(xs[i])\n",
    "\n",
    "fig, ax = plt.subplots(figsize=[5,4])\n",
    "robots = []\n",
    "if i>=1:\n",
    "    qs_prev = to_mat(xs[i-1])\n",
    "    ax.scatter(*assign_points_path(qs_prev).T, color='gray')\n",
    "ax.scatter(*assign_points_path(qs).T, color='blue')\n",
    "\n",
    "circle = plt.Circle(center_obs, r_obs, color='r')\n",
    "xlim, ylim = jnp.vstack([ql, qu]).T\n",
    "ax.add_patch(circle)\n",
    "#ax = plt.scatter(*qs.T)\n",
    "ax.set_xlim(xlim)\n",
    "ax.set_ylim(ylim)\n",
    "i += 1"
   ]
  }
 ],
 "metadata": {
  "kernelspec": {
   "display_name": "opt_env",
   "language": "python",
   "name": "python3"
  },
  "language_info": {
   "codemirror_mode": {
    "name": "ipython",
    "version": 3
   },
   "file_extension": ".py",
   "mimetype": "text/x-python",
   "name": "python",
   "nbconvert_exporter": "python",
   "pygments_lexer": "ipython3",
   "version": "3.8.16"
  },
  "orig_nbformat": 4
 },
 "nbformat": 4,
 "nbformat_minor": 2
}
