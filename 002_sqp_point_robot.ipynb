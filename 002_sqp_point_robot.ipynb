{
 "cells": [
  {
   "cell_type": "code",
   "execution_count": 1,
   "metadata": {},
   "outputs": [],
   "source": [
    "import jax\n",
    "import jax.numpy as jnp\n",
    "import numpy as np\n",
    "import matplotlib.pyplot as plt\n",
    "from signed_distance import *\n",
    "from nlp_builder import NLPBuilder\n",
    "from nlp_solver import SQPSolver\n",
    "from functools import partial"
   ]
  },
  {
   "cell_type": "code",
   "execution_count": 2,
   "metadata": {},
   "outputs": [],
   "source": [
    "# problem\n",
    "num_steps = 10\n",
    "center_obs = jnp.array([0, 0.1])\n",
    "r_obs = 0.2\n",
    "\n",
    "dim_robot = 2\n",
    "r_robot = 0.1\n",
    "safe_dist = 0.1\n",
    "\n",
    "q_init = jnp.array([-1, -1])\n",
    "q_goal = jnp.array([1, 1])\n",
    "qu, ql = jnp.full(2, 1.1), jnp.full(2, -1.1)"
   ]
  },
  {
   "cell_type": "code",
   "execution_count": 3,
   "metadata": {},
   "outputs": [],
   "source": [
    "#util functions\n",
    "def to_mat(x):\n",
    "    return x.reshape(-1, dim_robot)\n",
    "def to_vec(mat):\n",
    "    return mat.flatten()\n",
    "def at_timestep(i, x):\n",
    "    return to_mat(x)[i]\n",
    "def to_vel(x):\n",
    "    return (to_mat(x)[1:] - to_mat(x)[:-1]).flatten()"
   ]
  },
  {
   "cell_type": "code",
   "execution_count": 4,
   "metadata": {},
   "outputs": [],
   "source": [
    "# define robot\n",
    "x_robot = r_robot*jnp.cos(jnp.linspace(0, jnp.pi*2, 10))\n",
    "y_robot = r_robot*jnp.sin(jnp.linspace(0, jnp.pi*2, 10))\n",
    "p_robot = jnp.vstack([x_robot, y_robot]).T"
   ]
  },
  {
   "cell_type": "code",
   "execution_count": 5,
   "metadata": {},
   "outputs": [],
   "source": [
    "# functions\n",
    "obs = Circle(center_obs, r_obs)\n",
    "env = EnvSDF((obs,), safe_dist) # exclude r_robot in safe_dist\n",
    "assign_points = lambda q: p_robot + q\n",
    "assign_points_path = lambda x: jnp.vstack(jax.vmap(assign_points)(to_mat(x)))\n",
    "\n",
    "def min_dist_cost(x):\n",
    "    v = to_vel(x)\n",
    "    return v @ v\n",
    "state_init = partial(at_timestep, 0)\n",
    "state_goal = partial(at_timestep,-1)\n",
    "penetration = lambda x: env.penetrations(assign_points_path(x))\n",
    "\n",
    "xl = jnp.tile(ql, num_steps)\n",
    "xu = jnp.tile(qu, num_steps)\n",
    "x0 = jnp.zeros_like(xu)\n",
    "#jnp.linspace(q_init, q_goal, num_steps).flatten()"
   ]
  },
  {
   "cell_type": "code",
   "execution_count": 6,
   "metadata": {},
   "outputs": [],
   "source": [
    "#build NLP problem \n",
    "dim = num_steps * dim_robot\n",
    "nlp = NLPBuilder(dim=dim)\n",
    "nlp.set_f(min_dist_cost)\n",
    "nlp.add_eq_const(state_init, q_init)\n",
    "nlp.add_eq_const(state_goal, q_goal)\n",
    "nlp.add_eq_const(penetration, 0.)\n",
    "nlp.set_state_bound(xl, xu)"
   ]
  },
  {
   "cell_type": "code",
   "execution_count": 7,
   "metadata": {},
   "outputs": [],
   "source": [
    "solver = SQPSolver.from_builder(nlp)\n",
    "solver.prebuild()"
   ]
  },
  {
   "cell_type": "code",
   "execution_count": 8,
   "metadata": {},
   "outputs": [
    {
     "name": "stdout",
     "output_type": "stream",
     "text": [
      "0: grad:0.0611 | viol:0.0302 | alpha:1.0000\n",
      "1: grad:0.1809 | viol:0.0034 | alpha:1.0000\n",
      "2: grad:0.1539 | viol:0.0012 | alpha:0.8000\n",
      "3: grad:0.1629 | viol:0.0028 | alpha:1.0000\n",
      "4: grad:0.1597 | viol:0.0028 | alpha:0.1678\n",
      "5: grad:0.0398 | viol:0.0009 | alpha:1.0000\n",
      "SQP solved !\n"
     ]
    }
   ],
   "source": [
    "xsol = solver.solve(x0, tol=0.04, verbose=True, save_history=True)"
   ]
  },
  {
   "cell_type": "code",
   "execution_count": 9,
   "metadata": {},
   "outputs": [
    {
     "data": {
      "text/plain": [
       "6"
      ]
     },
     "execution_count": 9,
     "metadata": {},
     "output_type": "execute_result"
    }
   ],
   "source": [
    "xs = [s.x for s in solver.history]\n",
    "len(xs)"
   ]
  },
  {
   "cell_type": "code",
   "execution_count": 10,
   "metadata": {},
   "outputs": [],
   "source": [
    "i= 0"
   ]
  },
  {
   "cell_type": "code",
   "execution_count": 17,
   "metadata": {},
   "outputs": [
    {
     "ename": "IndexError",
     "evalue": "list index out of range",
     "output_type": "error",
     "traceback": [
      "\u001b[0;31m---------------------------------------------------------------------------\u001b[0m",
      "\u001b[0;31mIndexError\u001b[0m                                Traceback (most recent call last)",
      "Cell \u001b[0;32mIn[17], line 2\u001b[0m\n\u001b[1;32m      1\u001b[0m \u001b[39mimport\u001b[39;00m \u001b[39mmatplotlib\u001b[39;00m\u001b[39m.\u001b[39;00m\u001b[39mpyplot\u001b[39;00m \u001b[39mas\u001b[39;00m \u001b[39mplt\u001b[39;00m\n\u001b[0;32m----> 2\u001b[0m qs \u001b[39m=\u001b[39m to_mat(xs[i])\n\u001b[1;32m      4\u001b[0m fig, ax \u001b[39m=\u001b[39m plt\u001b[39m.\u001b[39msubplots()\n\u001b[1;32m      5\u001b[0m robots \u001b[39m=\u001b[39m []\n",
      "\u001b[0;31mIndexError\u001b[0m: list index out of range"
     ]
    }
   ],
   "source": [
    "import matplotlib.pyplot as plt\n",
    "qs = to_mat(xs[i])\n",
    "\n",
    "fig, ax = plt.subplots()\n",
    "robots = []\n",
    "if i>=1:\n",
    "    qs_prev = to_mat(xs[i-1])\n",
    "    ax.scatter(*assign_points_path(qs_prev).T, color='gray')\n",
    "ax.scatter(*assign_points_path(qs).T, color='blue')\n",
    "\n",
    "circle = plt.Circle(center_obs, r_obs, color='r')\n",
    "xlim, ylim = jnp.vstack([ql, qu]).T\n",
    "ax.add_patch(circle)\n",
    "#ax = plt.scatter(*qs.T)\n",
    "ax.set_xlim(xlim)\n",
    "ax.set_ylim(ylim)\n",
    "i += 1"
   ]
  }
 ],
 "metadata": {
  "kernelspec": {
   "display_name": "opt_env",
   "language": "python",
   "name": "python3"
  },
  "language_info": {
   "codemirror_mode": {
    "name": "ipython",
    "version": 3
   },
   "file_extension": ".py",
   "mimetype": "text/x-python",
   "name": "python",
   "nbconvert_exporter": "python",
   "pygments_lexer": "ipython3",
   "version": "3.8.15"
  },
  "orig_nbformat": 4
 },
 "nbformat": 4,
 "nbformat_minor": 2
}
