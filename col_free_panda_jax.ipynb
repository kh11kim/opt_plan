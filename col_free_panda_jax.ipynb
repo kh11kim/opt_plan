{
 "cells": [
  {
   "cell_type": "code",
   "execution_count": 1,
   "metadata": {},
   "outputs": [
    {
     "name": "stderr",
     "output_type": "stream",
     "text": [
      "pybullet build time: May 20 2022 19:44:17\n"
     ]
    }
   ],
   "source": [
    "import jax\n",
    "import jax.numpy as jnp\n",
    "import numpy as np\n",
    "import matplotlib.pyplot as plt\n",
    "import cyipopt\n",
    "from pybullet_suite import *"
   ]
  },
  {
   "cell_type": "code",
   "execution_count": 2,
   "metadata": {},
   "outputs": [],
   "source": [
    "num_steps = 5\n",
    "p_obs = jnp.array([0, 0.1])\n",
    "r_obs = 0.2\n",
    "\n",
    "dim_robot = 7\n",
    "r_robot = 0.1\n",
    "safe_dist = 0.05"
   ]
  },
  {
   "cell_type": "code",
   "execution_count": 3,
   "metadata": {},
   "outputs": [
    {
     "name": "stdout",
     "output_type": "stream",
     "text": [
      "argv[0]=\n",
      "startThreads creating 1 threads.\n",
      "starting thread 0\n",
      "started thread 0 \n",
      "argc=3\n",
      "argv[0] = --unused\n",
      "argv[1] = \n",
      "argv[2] = --start_demo_name=Physics Server\n",
      "ExampleBrowserThreadFunc started\n",
      "X11 functions dynamically loaded using dlopen/dlsym OK!\n",
      "X11 functions dynamically loaded using dlopen/dlsym OK!\n",
      "Creating context\n",
      "Created GL 3.3 context\n",
      "Direct GLX rendering context obtained\n",
      "Making context current\n",
      "GL_VENDOR=NVIDIA Corporation\n",
      "GL_RENDERER=NVIDIA GeForce RTX 3090/PCIe/SSE2\n",
      "GL_VERSION=3.3.0 NVIDIA 515.105.01\n",
      "GL_SHADING_LANGUAGE_VERSION=3.30 NVIDIA via Cg compiler\n",
      "pthread_getconcurrency()=0\n",
      "Version = 3.3.0 NVIDIA 515.105.01\n",
      "Vendor = NVIDIA Corporation\n",
      "Renderer = NVIDIA GeForce RTX 3090/PCIe/SSE2\n",
      "b3Printf: Selected demo: Physics Server\n",
      "startThreads creating 1 threads.\n",
      "starting thread 0\n",
      "started thread 0 \n",
      "MotionThreadFunc thread started\n",
      "ven = NVIDIA Corporation\n",
      "ven = NVIDIA Corporation\n"
     ]
    }
   ],
   "source": [
    "bw = BulletWorld(gui=True)\n",
    "sm = BulletSceneMaker(bw)"
   ]
  },
  {
   "cell_type": "code",
   "execution_count": 4,
   "metadata": {},
   "outputs": [],
   "source": [
    "pandas = [bw.load_robot(Panda, f'panda{i}') for i in range(5)]"
   ]
  },
  {
   "cell_type": "code",
   "execution_count": 5,
   "metadata": {},
   "outputs": [],
   "source": [
    "panda = pandas[0]\n",
    "q_init = jnp.array([0.,0.,0.,-1.5708,0.,1.8675, 0.])\n",
    "q_goal = panda.get_random_config()"
   ]
  },
  {
   "cell_type": "code",
   "execution_count": 6,
   "metadata": {},
   "outputs": [],
   "source": [
    "# util functions\n",
    "def to_mat(x):\n",
    "    return x.reshape(-1, dim_robot)\n",
    "def at_timestep(i, x):\n",
    "    return to_mat(x)[i]\n",
    "def to_v(x):\n",
    "    return (to_mat(x)[1:] - to_mat(x)[:-1]).flatten()"
   ]
  },
  {
   "cell_type": "code",
   "execution_count": 7,
   "metadata": {},
   "outputs": [],
   "source": [
    "# functions\n",
    "def min_dist_cost(x):\n",
    "    v = to_v(x)\n",
    "    return v @ v"
   ]
  },
  {
   "cell_type": "code",
   "execution_count": 8,
   "metadata": {},
   "outputs": [],
   "source": [
    "from functools import partial\n",
    "state_init = partial(at_timestep, 0)\n",
    "state_goal = partial(at_timestep,-1)"
   ]
  },
  {
   "cell_type": "code",
   "execution_count": 9,
   "metadata": {},
   "outputs": [],
   "source": [
    "g, cl, cu = [], [], []\n",
    "f = min_dist_cost\n",
    "g.append(state_init)\n",
    "cl.extend(q_init)\n",
    "cu.extend(q_init)\n",
    "g.append(state_goal)\n",
    "cl.extend(q_goal)\n",
    "cu.extend(q_goal)"
   ]
  },
  {
   "cell_type": "code",
   "execution_count": 10,
   "metadata": {},
   "outputs": [],
   "source": [
    "lb = jnp.hstack([panda.joint_lower_limit] * num_steps)\n",
    "ub = jnp.hstack([panda.joint_upper_limit] * num_steps)\n",
    "cl = jnp.array(cl)\n",
    "cu = jnp.array(cu)\n",
    "\n",
    "dim = dim_robot*num_steps\n",
    "#const_dim = len(cl)\n",
    "#"
   ]
  },
  {
   "cell_type": "code",
   "execution_count": 11,
   "metadata": {},
   "outputs": [],
   "source": [
    "from nlp_solver import NLPSolver"
   ]
  },
  {
   "cell_type": "code",
   "execution_count": 12,
   "metadata": {},
   "outputs": [],
   "source": [
    "solver = NLPSolver(dim)\n",
    "solver.build(f, g)"
   ]
  },
  {
   "cell_type": "code",
   "execution_count": 23,
   "metadata": {},
   "outputs": [
    {
     "name": "stdout",
     "output_type": "stream",
     "text": [
      "This is Ipopt version 3.14.10, running with linear solver MUMPS 5.2.1.\n",
      "\n",
      "Number of nonzeros in equality constraint Jacobian...:       14\n",
      "Number of nonzeros in inequality constraint Jacobian.:        0\n",
      "Number of nonzeros in Lagrangian Hessian.............:       63\n",
      "\n",
      "Total number of variables............................:       35\n",
      "                     variables with only lower bounds:        0\n",
      "                variables with lower and upper bounds:       35\n",
      "                     variables with only upper bounds:        0\n",
      "Total number of equality constraints.................:       14\n",
      "Total number of inequality constraints...............:        0\n",
      "        inequality constraints with only lower bounds:        0\n",
      "   inequality constraints with lower and upper bounds:        0\n",
      "        inequality constraints with only upper bounds:        0\n",
      "\n",
      "iter    objective    inf_pr   inf_du lg(mu)  ||d||  lg(rg) alpha_du alpha_pr  ls\n",
      "   0  0.0000000e+00 1.41e+00 0.00e+00  -1.0 0.00e+00    -  0.00e+00 0.00e+00   0\n",
      "   1  1.9692413e+00 0.00e+00 4.79e-01  -1.0 1.41e+00    -  6.24e-01 1.00e+00h  1\n",
      "   2  1.5096546e+00 0.00e+00 4.12e-07  -1.0 2.28e-01    -  1.00e+00 1.00e+00f  1\n",
      "   3  1.4696475e+00 0.00e+00 4.22e-07  -2.5 1.01e-01    -  1.00e+00 1.00e+00f  1\n",
      "   4  1.4693893e+00 1.93e-34 3.41e-07  -3.8 9.97e-03    -  1.00e+00 1.00e+00f  1\n",
      "   5  1.4693892e+00 1.87e-34 2.21e-04  -5.0 1.34e-04    -  1.00e+00 3.12e-02f  6\n",
      "\n",
      "Number of Iterations....: 5\n",
      "\n",
      "                                   (scaled)                 (unscaled)\n",
      "Objective...............:   1.4693892002105713e+00    1.4693892002105713e+00\n",
      "Dual infeasibility......:   2.2082233949859202e-04    2.2082233949859202e-04\n",
      "Constraint violation....:   1.8657446336251347e-34    1.8657446336251347e-34\n",
      "Variable bound violation:   0.0000000000000000e+00    0.0000000000000000e+00\n",
      "Complementarity.........:   9.1261624445539923e-06    9.1261624445539923e-06\n",
      "Overall NLP error.......:   2.2082233949859202e-04    2.2082233949859202e-04\n",
      "\n",
      "\n",
      "Number of objective function evaluations             = 11\n",
      "Number of objective gradient evaluations             = 6\n",
      "Number of equality constraint evaluations            = 11\n",
      "Number of inequality constraint evaluations          = 0\n",
      "Number of equality constraint Jacobian evaluations   = 6\n",
      "Number of inequality constraint Jacobian evaluations = 0\n",
      "Number of Lagrangian Hessian evaluations             = 5\n",
      "Total seconds in IPOPT                               = 0.009\n",
      "\n",
      "EXIT: Optimal Solution Found.\n"
     ]
    }
   ],
   "source": [
    "x0 = jnp.hstack([panda.joint_central]*num_steps)\n",
    "xsol, info = solver.solve(x0, lb, ub, cl, cu, {'tol':0.001})"
   ]
  },
  {
   "cell_type": "code",
   "execution_count": 21,
   "metadata": {},
   "outputs": [],
   "source": [
    "for i in range(num_steps):\n",
    "    pandas[i].set_joint_angles(to_mat(xsol)[i])"
   ]
  }
 ],
 "metadata": {
  "kernelspec": {
   "display_name": "optas",
   "language": "python",
   "name": "python3"
  },
  "language_info": {
   "codemirror_mode": {
    "name": "ipython",
    "version": 3
   },
   "file_extension": ".py",
   "mimetype": "text/x-python",
   "name": "python",
   "nbconvert_exporter": "python",
   "pygments_lexer": "ipython3",
   "version": "3.8.16"
  },
  "orig_nbformat": 4
 },
 "nbformat": 4,
 "nbformat_minor": 2
}
