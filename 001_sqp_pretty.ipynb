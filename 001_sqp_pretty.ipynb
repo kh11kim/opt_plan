{
 "cells": [
  {
   "cell_type": "code",
   "execution_count": 1,
   "metadata": {},
   "outputs": [],
   "source": [
    "import jax\n",
    "import jax.numpy as jnp\n",
    "import numpy as np\n",
    "import matplotlib.pyplot as plt\n",
    "from signed_distance import *\n",
    "from nlp_builder import NLPBuilder\n",
    "from nlp_solver import SQPSolver\n",
    "from functools import partial"
   ]
  },
  {
   "cell_type": "code",
   "execution_count": 2,
   "metadata": {},
   "outputs": [],
   "source": [
    "# problem\n",
    "num_steps = 10\n",
    "center_obs = jnp.array([0, 0.1])\n",
    "r_obs = 0.2\n",
    "\n",
    "dim_robot = 2\n",
    "r_robot = 0.1\n",
    "safe_dist = 0.1\n",
    "\n",
    "q_init = jnp.array([-1, -1])\n",
    "q_goal = jnp.array([1, 1])\n",
    "qu, ql = jnp.full(2, 1.1), jnp.full(2, -1.1)"
   ]
  },
  {
   "cell_type": "code",
   "execution_count": 3,
   "metadata": {},
   "outputs": [],
   "source": [
    "#util functions\n",
    "def to_mat(x):\n",
    "    return x.reshape(-1, dim_robot)\n",
    "def to_vec(mat):\n",
    "    return mat.flatten()\n",
    "def at_timestep(i, x):\n",
    "    return to_mat(x)[i]\n",
    "def to_vel(x):\n",
    "    return (to_mat(x)[1:] - to_mat(x)[:-1]).flatten()"
   ]
  },
  {
   "cell_type": "code",
   "execution_count": 4,
   "metadata": {},
   "outputs": [],
   "source": [
    "# functions\n",
    "obs = Circle(center_obs, r_obs)\n",
    "env = EnvSDF((obs,), safe_dist+r_robot)\n",
    "\n",
    "def min_dist_cost(x):\n",
    "    v = to_vel(x)\n",
    "    return v @ v\n",
    "state_init = partial(at_timestep, 0)\n",
    "state_goal = partial(at_timestep,-1)\n",
    "penetration = lambda x: env.penetrations(to_mat(x))\n",
    "\n",
    "xl = jnp.tile(ql, num_steps)\n",
    "xu = jnp.tile(qu, num_steps)\n",
    "x0 = jnp.linspace(q_init, q_goal, num_steps).flatten()"
   ]
  },
  {
   "attachments": {},
   "cell_type": "markdown",
   "metadata": {},
   "source": [
    "### Build NLP problem"
   ]
  },
  {
   "cell_type": "code",
   "execution_count": 5,
   "metadata": {},
   "outputs": [],
   "source": [
    "#build NLP problem \n",
    "dim = num_steps * dim_robot\n",
    "nlp = NLPBuilder(dim=dim)\n",
    "nlp.set_f(min_dist_cost)\n",
    "nlp.add_eq_const(state_init, q_init, est_sparsity=True)\n",
    "nlp.add_eq_const(state_goal, q_goal, est_sparsity=True)\n",
    "nlp.add_eq_const(penetration, 0., est_sparsity=False)\n",
    "nlp.set_state_bound(xl, xu)"
   ]
  },
  {
   "cell_type": "code",
   "execution_count": 6,
   "metadata": {},
   "outputs": [],
   "source": [
    "solver = SQPSolver.from_builder(nlp,sparsity=True)\n",
    "solver.prebuild(mode=\"BFGS\")"
   ]
  },
  {
   "cell_type": "code",
   "execution_count": 7,
   "metadata": {},
   "outputs": [],
   "source": [
    "x = jnp.zeros(solver.dim)\n",
    "m = jnp.zeros(solver.const_dim)\n",
    "sigma = 0.1"
   ]
  },
  {
   "cell_type": "code",
   "execution_count": 8,
   "metadata": {},
   "outputs": [],
   "source": [
    "from cvxopt import matrix, sparse, solvers\n",
    "state = solver.state_init_fn(x, m, sigma)\n",
    "# solver.eval_fn(x, m, sigma, state)\n",
    "#solver.armijo_cond_fn(x, x, 0., 0., 0.)\n",
    "P, q, G, h, A, b = solver.convexify(state)"
   ]
  },
  {
   "cell_type": "code",
   "execution_count": 11,
   "metadata": {},
   "outputs": [
    {
     "name": "stdout",
     "output_type": "stream",
     "text": [
      "0: grad:1.1415 | viol:0.2020 | alpha:0.2097\n",
      "1: grad:0.5052 | viol:0.0333 | alpha:1.0000\n",
      "2: grad:0.8755 | viol:0.0144 | alpha:0.4096\n",
      "3: grad:0.7213 | viol:0.0092 | alpha:0.4096\n",
      "4: grad:0.8216 | viol:0.0068 | alpha:0.5120\n",
      "5: grad:0.9502 | viol:0.0103 | alpha:0.4096\n",
      "6: grad:0.9162 | viol:0.0071 | alpha:0.5120\n",
      "7: grad:0.4154 | viol:0.0027 | alpha:0.8000\n",
      "8: grad:0.6327 | viol:0.0015 | alpha:0.5120\n",
      "9: grad:0.9143 | viol:0.0010 | alpha:0.4096\n",
      "10: grad:0.6630 | viol:0.0005 | alpha:0.6400\n",
      "11: grad:1.2406 | viol:0.0004 | alpha:0.2097\n",
      "SQP solved !\n"
     ]
    }
   ],
   "source": [
    "xsol = solver.solve(x0, tol=0.05, verbose=True, save_history=True)"
   ]
  },
  {
   "cell_type": "code",
   "execution_count": 12,
   "metadata": {},
   "outputs": [
    {
     "data": {
      "text/plain": [
       "[<matplotlib.lines.Line2D at 0x7fd8b0386a60>]"
      ]
     },
     "execution_count": 12,
     "metadata": {},
     "output_type": "execute_result"
    },
    {
     "data": {
      "image/png": "[encoded data removed]",
      "text/plain": [
       "<Figure size 640x480 with 1 Axes>"
      ]
     },
     "metadata": {},
     "output_type": "display_data"
    }
   ],
   "source": [
    "signal = [jnp.linalg.norm(h.direction) for h in solver.history]\n",
    "plt.plot(signal)"
   ]
  },
  {
   "cell_type": "code",
   "execution_count": 13,
   "metadata": {},
   "outputs": [
    {
     "data": {
      "text/plain": [
       "12"
      ]
     },
     "execution_count": 13,
     "metadata": {},
     "output_type": "execute_result"
    }
   ],
   "source": [
    "xs = [s.x for s in solver.states]\n",
    "len(xs)"
   ]
  },
  {
   "cell_type": "code",
   "execution_count": 14,
   "metadata": {},
   "outputs": [],
   "source": [
    "i= 1"
   ]
  },
  {
   "cell_type": "code",
   "execution_count": 26,
   "metadata": {},
   "outputs": [
    {
     "ename": "IndexError",
     "evalue": "list index out of range",
     "output_type": "error",
     "traceback": [
      "\u001b[0;31m---------------------------------------------------------------------------\u001b[0m",
      "\u001b[0;31mIndexError\u001b[0m                                Traceback (most recent call last)",
      "Cell \u001b[0;32mIn[26], line 1\u001b[0m\n\u001b[0;32m----> 1\u001b[0m qs \u001b[39m=\u001b[39m to_mat(xs[i])\n\u001b[1;32m      2\u001b[0m qs_prev \u001b[39m=\u001b[39m to_mat(xs[i\u001b[39m-\u001b[39m\u001b[39m1\u001b[39m])\n\u001b[1;32m      3\u001b[0m fig, ax \u001b[39m=\u001b[39m plt\u001b[39m.\u001b[39msubplots()\n",
      "\u001b[0;31mIndexError\u001b[0m: list index out of range"
     ]
    }
   ],
   "source": [
    "qs = to_mat(xs[i])\n",
    "qs_prev = to_mat(xs[i-1])\n",
    "fig, ax = plt.subplots()\n",
    "robots = []\n",
    "for q in qs_prev:\n",
    "    circle = plt.Circle(q, r_robot, color='gray')\n",
    "    robots.append(circle)\n",
    "    ax.add_patch(circle)\n",
    "for q in qs:\n",
    "    circle = plt.Circle(q, r_robot, color='k')\n",
    "    robots.append(circle)\n",
    "    ax.add_patch(circle)\n",
    "\n",
    "circle = plt.Circle(center_obs, r_obs, color='r')\n",
    "ax.add_patch(circle)\n",
    "ax = plt.scatter(*qs.T)\n",
    "i += 1"
   ]
  },
  {
   "cell_type": "code",
   "execution_count": 28,
   "metadata": {},
   "outputs": [
    {
     "data": {
      "text/plain": [
       "[<matplotlib.lines.Line2D at 0x7fd8b065d700>]"
      ]
     },
     "execution_count": 28,
     "metadata": {},
     "output_type": "execute_result"
    },
    {
     "data": {
      "image/png": "[encoded data removed]",
      "text/plain": [
       "<Figure size 640x480 with 1 Axes>"
      ]
     },
     "metadata": {},
     "output_type": "display_data"
    }
   ],
   "source": [
    "sigmas = jnp.array([h.sigma for h in solver.states])\n",
    "plt.plot(sigmas)"
   ]
  },
  {
   "cell_type": "code",
   "execution_count": 26,
   "metadata": {},
   "outputs": [
    {
     "data": {
      "text/plain": [
       "Array([1.0000000e-01, 4.4888955e-01, 5.0850010e-01, 7.7762508e-01,\n",
       "       7.7762508e-01, 1.0670739e+00, 1.0670739e+00, 1.0677400e+00,\n",
       "       1.0677400e+00, 1.1472164e+00, 1.8322680e+00, 2.9373739e+00,\n",
       "       3.8571844e+00, 4.8486695e+00, 6.0244093e+00, 7.1699314e+00,\n",
       "       1.3186608e+01, 2.2072178e+01, 2.2072178e+01, 2.2072178e+01,\n",
       "       2.2072178e+01, 2.2072178e+01, 2.3042353e+01, 2.3042353e+01,\n",
       "       2.7276217e+01, 4.7586693e+01, 2.4086908e+02, 2.4086908e+02,\n",
       "       2.4086908e+02, 2.4086908e+02, 5.4509894e+02, 5.4509894e+02,\n",
       "       5.4509894e+02, 5.4509894e+02, 6.0043262e+02, 6.0043262e+02,\n",
       "       6.0043262e+02, 8.6465631e+02, 1.1285676e+03, 1.1809437e+03,\n",
       "       2.4617295e+03], dtype=float32)"
      ]
     },
     "execution_count": 26,
     "metadata": {},
     "output_type": "execute_result"
    }
   ],
   "source": [
    "sigmas"
   ]
  },
  {
   "cell_type": "code",
   "execution_count": null,
   "metadata": {},
   "outputs": [],
   "source": []
  }
 ],
 "metadata": {
  "kernelspec": {
   "display_name": "opt_env",
   "language": "python",
   "name": "python3"
  },
  "language_info": {
   "codemirror_mode": {
    "name": "ipython",
    "version": 3
   },
   "file_extension": ".py",
   "mimetype": "text/x-python",
   "name": "python",
   "nbconvert_exporter": "python",
   "pygments_lexer": "ipython3",
   "version": "3.8.16"
  },
  "orig_nbformat": 4
 },
 "nbformat": 4,
 "nbformat_minor": 2
}
