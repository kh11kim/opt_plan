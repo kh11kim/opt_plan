{
 "cells": [
  {
   "cell_type": "code",
   "execution_count": 5,
   "metadata": {},
   "outputs": [],
   "source": [
    "import jax\n",
    "import jax.numpy as jnp\n",
    "import numpy as np\n",
    "import matplotlib.pyplot as plt\n",
    "import cyipopt"
   ]
  },
  {
   "cell_type": "code",
   "execution_count": 6,
   "metadata": {},
   "outputs": [],
   "source": [
    "num_steps = 10\n",
    "p_obs = jnp.array([0, 0.1])\n",
    "r_obs = 0.2\n",
    "\n",
    "dim_robot = 2\n",
    "r_robot = 0.1\n",
    "safe_dist = 0.05\n",
    "\n",
    "q_init = [-1, -1]\n",
    "q_goal = [1, 1]"
   ]
  },
  {
   "cell_type": "code",
   "execution_count": 28,
   "metadata": {},
   "outputs": [],
   "source": [
    "# define robot\n",
    "x_robot = r_robot*jnp.cos(jnp.linspace(0, jnp.pi*2, 10))\n",
    "y_robot = r_robot*jnp.sin(jnp.linspace(0, jnp.pi*2, 10))\n",
    "p_robot = jnp.vstack([x_robot, y_robot]).T"
   ]
  },
  {
   "cell_type": "code",
   "execution_count": 29,
   "metadata": {},
   "outputs": [],
   "source": [
    "# util functions\n",
    "dim = dim_robot*num_steps\n",
    "def to_mat(x):\n",
    "    return x.reshape(-1, dim_robot)\n",
    "def at_timestep(i, x):\n",
    "    return to_mat(x)[i]\n",
    "def to_v(x):\n",
    "    return (to_mat(x)[1:] - to_mat(x)[:-1]).flatten()"
   ]
  },
  {
   "cell_type": "code",
   "execution_count": 30,
   "metadata": {},
   "outputs": [],
   "source": [
    "# functions\n",
    "def min_dist_cost(x):\n",
    "    v = to_v(x)\n",
    "    return v @ v\n",
    "def ssdf_circle(point, center, r, safe_dist):\n",
    "    diff = point - center\n",
    "    return diff@diff - (safe_dist + r)**2"
   ]
  },
  {
   "cell_type": "code",
   "execution_count": 38,
   "metadata": {},
   "outputs": [],
   "source": [
    "from functools import partial\n",
    "ssdf_obs_point = partial(ssdf_circle, center=p_obs, r=r_obs, safe_dist=safe_dist)\n",
    "ssdf_obs_robot = lambda pos: jax.vmap(ssdf_obs_point)(p_robot + pos).min()\n",
    "ssdf_obs_path = lambda x: jax.vmap(ssdf_obs_robot)(to_mat(x))\n",
    "state_init = partial(at_timestep, 0)\n",
    "state_goal = partial(at_timestep,-1)"
   ]
  },
  {
   "cell_type": "code",
   "execution_count": 39,
   "metadata": {},
   "outputs": [],
   "source": [
    "g, cl, cu = [], [], []\n",
    "f = min_dist_cost\n",
    "g.append(state_init)\n",
    "cl.extend(q_init)\n",
    "cu.extend(q_init)\n",
    "g.append(state_goal)\n",
    "cl.extend(q_goal)\n",
    "cu.extend(q_goal)\n",
    "g.append(ssdf_obs_path)\n",
    "cl.extend(jnp.zeros(num_steps))\n",
    "cu.extend(jnp.full(num_steps,jnp.inf))"
   ]
  },
  {
   "cell_type": "code",
   "execution_count": 40,
   "metadata": {},
   "outputs": [],
   "source": [
    "lb = jnp.full(dim, -1.) - 0.02\n",
    "ub = jnp.full(dim, 1.) + 0.02\n",
    "cl = jnp.array(cl)\n",
    "cu = jnp.array(cu)\n",
    "const_dim = len(cl)\n",
    "_g = lambda x: jnp.hstack([fn(x) for fn in g])"
   ]
  },
  {
   "cell_type": "code",
   "execution_count": 41,
   "metadata": {},
   "outputs": [],
   "source": [
    "x_rand = jnp.array(np.random.random(dim))\n",
    "lambda_rand = jnp.array(np.random.random(const_dim))\n",
    "\n",
    "fns = {}\n",
    "fns['objective'] = f\n",
    "fns['constraints'] = _g\n",
    "fns['gradient'] = jax.grad(f)\n",
    "fns['const_jacobian'] = jax.jacrev(_g)\n",
    "fns['obj_hessian'] = jax.hessian(f)\n",
    "fns['const_hessian'] = jax.hessian(_g)\n",
    "\n",
    "def _hessian(x, lagrange, obj_factor):\n",
    "    H = obj_factor * fns['obj_hessian'](x)\n",
    "    H += jnp.einsum('i,ijk->jk', lagrange, fns['const_hessian'](x))\n",
    "    return H\n",
    "jac_row, jac_col = jnp.nonzero(fns['const_jacobian'](x_rand))\n",
    "fns['jacobianstructure'] =  lambda : (jac_row, jac_col)\n",
    "hess_row, hess_col = jnp.nonzero(jnp.tril(_hessian(x_rand, lambda_rand, 1.)))\n",
    "fns['hessianstructure'] =  lambda : (hess_row, hess_col)\n",
    "def jacobian(x):\n",
    "    J = fns['const_jacobian'](x)\n",
    "    row, col = fns['jacobianstructure']()\n",
    "    return J[row, col]\n",
    "def hessian(x, lagrange, obj_factor):\n",
    "    H = _hessian(x, lagrange, obj_factor)\n",
    "    row, col = fns['hessianstructure']()\n",
    "    return H[row, col]\n",
    "fns['jacobian'] = jacobian\n",
    "fns['hessian'] = hessian "
   ]
  },
  {
   "cell_type": "code",
   "execution_count": 42,
   "metadata": {},
   "outputs": [],
   "source": [
    "class Prob:\n",
    "    pass\n",
    "prob = Prob()\n",
    "\n",
    "for name, fn in fns.items():\n",
    "    if name in ['objective', 'constraints', 'gradient', 'jacobian']:\n",
    "        setattr(prob, name, jax.jit(fn).lower(x_rand).compile())\n",
    "    elif 'structure' in name:\n",
    "        setattr(prob, name, jax.jit(fn).lower().compile())\n",
    "    elif name in ['hessian']:\n",
    "        hess_fn = jax.jit(fn).lower(x_rand, lambda_rand, 1.).compile()\n",
    "        setattr(prob, name, hess_fn)\n",
    "\n",
    "solver = cyipopt.Problem(\n",
    "    n=dim, m=const_dim,\n",
    "    problem_obj=prob,\n",
    "    lb=lb, ub=ub, cl=cl, cu=cu\n",
    ")\n",
    "solver.add_option('tol', 0.001)\n",
    "#solver.add_option('hessian_approximation', 'limited-memory')"
   ]
  },
  {
   "cell_type": "code",
   "execution_count": 54,
   "metadata": {},
   "outputs": [
    {
     "name": "stdout",
     "output_type": "stream",
     "text": [
      "This is Ipopt version 3.14.11, running with linear solver MUMPS 5.2.1.\n",
      "\n",
      "Number of nonzeros in equality constraint Jacobian...:        4\n",
      "Number of nonzeros in inequality constraint Jacobian.:       20\n",
      "Number of nonzeros in Lagrangian Hessian.............:       38\n",
      "\n",
      "Total number of variables............................:       20\n",
      "                     variables with only lower bounds:        0\n",
      "                variables with lower and upper bounds:       20\n",
      "                     variables with only upper bounds:        0\n",
      "Total number of equality constraints.................:        4\n",
      "Total number of inequality constraints...............:       10\n",
      "        inequality constraints with only lower bounds:       10\n",
      "   inequality constraints with lower and upper bounds:        0\n",
      "        inequality constraints with only upper bounds:        0\n",
      "\n",
      "iter    objective    inf_pr   inf_du lg(mu)  ||d||  lg(rg) alpha_du alpha_pr  ls\n",
      "   0  9.1846478e-01 0.00e+00 8.21e-01  -1.0 0.00e+00    -  0.00e+00 0.00e+00   0\n",
      "   1  1.0164454e+00 0.00e+00 3.96e-01  -1.0 1.96e-01    -  9.20e-01 1.00e+00f  1\n",
      "   2  9.7227788e-01 0.00e+00 1.59e-01  -1.7 6.74e-02   0.0 9.55e-01 1.00e+00h  1\n",
      "   3  9.3613619e-01 0.00e+00 3.38e-02  -2.5 8.83e-02    -  9.67e-01 1.00e+00h  1\n",
      "   4  9.2603701e-01 0.00e+00 1.91e-02  -2.5 5.78e-02    -  1.00e+00 1.00e+00h  1\n",
      "   5  9.1979963e-01 0.00e+00 1.46e-02  -3.8 3.07e-02    -  1.00e+00 9.20e-01h  1\n",
      "   6  9.1890526e-01 1.90e-03 1.66e-02  -3.8 3.30e-02    -  1.00e+00 9.15e-01h  1\n",
      "   7  9.1882992e-01 0.00e+00 9.03e-04  -3.8 1.34e-02    -  1.00e+00 1.00e+00f  1\n",
      "   8  9.1846472e-01 0.00e+00 4.04e-06  -5.0 2.40e-03    -  1.00e+00 1.00e+00h  1\n",
      "\n",
      "Number of Iterations....: 8\n",
      "\n",
      "                                   (scaled)                 (unscaled)\n",
      "Objective...............:   9.1846472024917603e-01    9.1846472024917603e-01\n",
      "Dual infeasibility......:   4.0388838520522609e-06    4.0388838520522609e-06\n",
      "Constraint violation....:   0.0000000000000000e+00    0.0000000000000000e+00\n",
      "Variable bound violation:   0.0000000000000000e+00    0.0000000000000000e+00\n",
      "Complementarity.........:   1.0521644720334716e-05    1.0521644720334716e-05\n",
      "Overall NLP error.......:   1.0521644720334716e-05    1.0521644720334716e-05\n",
      "\n",
      "\n",
      "Number of objective function evaluations             = 9\n",
      "Number of objective gradient evaluations             = 9\n",
      "Number of equality constraint evaluations            = 9\n",
      "Number of inequality constraint evaluations          = 9\n",
      "Number of equality constraint Jacobian evaluations   = 9\n",
      "Number of inequality constraint Jacobian evaluations = 9\n",
      "Number of Lagrangian Hessian evaluations             = 8\n",
      "Total seconds in IPOPT                               = 0.011\n",
      "\n",
      "EXIT: Optimal Solution Found.\n"
     ]
    }
   ],
   "source": [
    "x0 = jnp.zeros(dim)\n",
    "xsol, info = solver.solve(xsol)\n",
    "#normal : 0.046"
   ]
  },
  {
   "cell_type": "code",
   "execution_count": 50,
   "metadata": {},
   "outputs": [
    {
     "data": {
      "image/png": "[encoded data removed]",
      "text/plain": [
       "<Figure size 640x480 with 1 Axes>"
      ]
     },
     "metadata": {},
     "output_type": "display_data"
    }
   ],
   "source": [
    "xs = to_mat(xsol)\n",
    "\n",
    "fig, ax = plt.subplots()\n",
    "robots = []\n",
    "for x in xs:\n",
    "    p = p_robot + x\n",
    "    ax.scatter(*p.T, color='k')\n",
    "circle = plt.Circle(p_obs, r_obs, color='r')\n",
    "ax.add_patch(circle)\n",
    "ax = plt.scatter(*xs.T)"
   ]
  }
 ],
 "metadata": {
  "kernelspec": {
   "display_name": "optas",
   "language": "python",
   "name": "python3"
  },
  "language_info": {
   "codemirror_mode": {
    "name": "ipython",
    "version": 3
   },
   "file_extension": ".py",
   "mimetype": "text/x-python",
   "name": "python",
   "nbconvert_exporter": "python",
   "pygments_lexer": "ipython3",
   "version": "3.8.16"
  },
  "orig_nbformat": 4
 },
 "nbformat": 4,
 "nbformat_minor": 2
}
