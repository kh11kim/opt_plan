{
 "cells": [
  {
   "cell_type": "code",
   "execution_count": 1,
   "metadata": {},
   "outputs": [],
   "source": [
    "import jax\n",
    "import jax.numpy as jnp"
   ]
  },
  {
   "cell_type": "code",
   "execution_count": 2,
   "metadata": {},
   "outputs": [],
   "source": [
    "def objective(x):\n",
    "    return x[0]*x[3]*jnp.sum(x[:3]) + x[2]\n",
    "\n",
    "def eq_constraints(x):\n",
    "    return jnp.sum(x**2) - 40\n",
    "\n",
    "def ineq_constrains(x):\n",
    "    return jnp.prod(x) - 25\n",
    "\n",
    "dict(\n",
    "    objective=objective,\n",
    "    gradient=jax.jit(objective),\n",
    "    eq_constraints=eq_constraints,\n",
    "    ineq_constrains=ineq_constrains,\n",
    ")"
   ]
  },
  {
   "cell_type": "code",
   "execution_count": null,
   "metadata": {},
   "outputs": [],
   "source": [
    "class Prob():\n",
    "    "
   ]
  },
  {
   "cell_type": "code",
   "execution_count": null,
   "metadata": {},
   "outputs": [],
   "source": [
    "def hessian(self, x, lagrange, obj_factor):\n",
    "    H = obj_factor * self.obj_hess(x)  # type: ignore\n",
    "    # split the lagrangian multipliers for each constraint hessian\n",
    "    lagrs = np.split(lagrange, np.cumsum(self._constraint_dims[:-1]))\n",
    "    for hessian, args, lagr in zip(self._constraint_hessians,\n",
    "                                    self._constraint_args, lagrs):\n",
    "        H += hessian(x, lagr, *args)\n",
    "    return H[np.tril_indices(x.size)]"
   ]
  }
 ],
 "metadata": {
  "kernelspec": {
   "display_name": "opt_env",
   "language": "python",
   "name": "python3"
  },
  "language_info": {
   "codemirror_mode": {
    "name": "ipython",
    "version": 3
   },
   "file_extension": ".py",
   "mimetype": "text/x-python",
   "name": "python",
   "nbconvert_exporter": "python",
   "pygments_lexer": "ipython3",
   "version": "3.8.15"
  },
  "orig_nbformat": 4
 },
 "nbformat": 4,
 "nbformat_minor": 2
}
