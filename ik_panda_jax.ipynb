{
 "cells": [
  {
   "cell_type": "code",
   "execution_count": 3,
   "metadata": {},
   "outputs": [],
   "source": [
    "import jax\n",
    "import jax.numpy as jnp\n",
    "import numpy as np\n",
    "import matplotlib.pyplot as plt\n",
    "import cyipopt\n",
    "from pybullet_suite import *"
   ]
  },
  {
   "cell_type": "code",
   "execution_count": 4,
   "metadata": {},
   "outputs": [],
   "source": [
    "from kinjax import kinjax\n",
    "from jaxlie import *"
   ]
  },
  {
   "cell_type": "code",
   "execution_count": 5,
   "metadata": {},
   "outputs": [],
   "source": [
    "num_steps = 1\n",
    "# p_obs = jnp.array([0, 0.1])\n",
    "# r_obs = 0.2\n",
    "\n",
    "dim_robot = 7\n",
    "#r_robot = 0.1\n",
    "#safe_dist = 0.05"
   ]
  },
  {
   "cell_type": "code",
   "execution_count": 6,
   "metadata": {},
   "outputs": [
    {
     "name": "stdout",
     "output_type": "stream",
     "text": [
      "argv[0]=\n",
      "startThreads creating 1 threads.\n",
      "starting thread 0\n",
      "started thread 0 \n",
      "argc=3\n",
      "argv[0] = --unused\n",
      "argv[1] = \n",
      "argv[2] = --start_demo_name=Physics Server\n",
      "ExampleBrowserThreadFunc started\n",
      "X11 functions dynamically loaded using dlopen/dlsym OK!\n",
      "X11 functions dynamically loaded using dlopen/dlsym OK!\n",
      "Creating context\n",
      "Created GL 3.3 context\n",
      "Direct GLX rendering context obtained\n",
      "Making context current\n",
      "GL_VENDOR=NVIDIA Corporation\n",
      "GL_RENDERER=NVIDIA GeForce RTX 3090/PCIe/SSE2\n",
      "GL_VERSION=3.3.0 NVIDIA 515.105.01\n",
      "GL_SHADING_LANGUAGE_VERSION=3.30 NVIDIA via Cg compiler\n",
      "pthread_getconcurrency()=0\n",
      "Version = 3.3.0 NVIDIA 515.105.01\n",
      "Vendor = NVIDIA Corporation\n",
      "Renderer = NVIDIA GeForce RTX 3090/PCIe/SSE2\n",
      "b3Printf: Selected demo: Physics Server\n",
      "startThreads creating 1 threads.\n",
      "starting thread 0\n",
      "started thread 0 \n",
      "MotionThreadFunc thread started\n",
      "ven = NVIDIA Corporation\n",
      "ven = NVIDIA Corporation\n"
     ]
    }
   ],
   "source": [
    "bw = BulletWorld(gui=True)\n",
    "sm = BulletSceneMaker(bw)\n",
    "pandas = [bw.load_robot(Panda, f'panda{i}') for i in range(num_steps)]"
   ]
  },
  {
   "cell_type": "code",
   "execution_count": 7,
   "metadata": {},
   "outputs": [],
   "source": [
    "panda = pandas[0]\n",
    "q_init = jnp.array([0.,0.,0.,-1.5708,0.,1.8675, 0.])\n",
    "q_goal = panda.get_random_config()\n",
    "pose_goal = panda.forward_kinematics(q_goal)\n",
    "T_goal = jnp.array(pose_goal.as_matrix())"
   ]
  },
  {
   "cell_type": "code",
   "execution_count": 27,
   "metadata": {},
   "outputs": [],
   "source": [
    "# util functions\n",
    "def to_mat(x):\n",
    "    return x.reshape(-1, dim_robot)\n",
    "def at_timestep(i, x):\n",
    "    return to_mat(x)[i]\n",
    "def to_v(x):\n",
    "    return (to_mat(x)[1:] - to_mat(x)[:-1]).flatten()\n",
    "def Tmat_to_Tvec(T):\n",
    "    R, t = T[:3, :3], T[:3, -1]\n",
    "    return jnp.hstack([t, R[:3, 0], R[:3, 1]])\n",
    "def rotvec_x_sq(Tvec):\n",
    "    return Tvec[3:6] @ Tvec[3:6]\n",
    "def rotvec_y_sq(Tvec):\n",
    "    return Tvec[6:] @ Tvec[6:]"
   ]
  },
  {
   "cell_type": "code",
   "execution_count": 28,
   "metadata": {},
   "outputs": [
    {
     "name": "stdout",
     "output_type": "stream",
     "text": [
      "Robot name: panda\n"
     ]
    }
   ],
   "source": [
    "# functions\n",
    "link_dict, joint_dict = kinjax.get_link_joint_dict(PANDA_URDF)\n",
    "fk = kinjax.get_FK_fn(link_dict, joint_dict, 7, \"panda_grasptarget\")\n",
    "#fk_vec = lambda x: Tmat_to_Tvec(fk(x))\n",
    "fk_vec = lambda x: SE3.from_matrix(fk(x)).parameters()\n",
    "#qtn_mag = lambda x: jnp.dot(fk_vec(x)[:4], fk_vec(x)[:4])\n",
    "#rotvec_x_mag = lambda x: rotvec_x_sq(Tmat_to_Tvec(fk(x)))\n",
    "#rotvec_y_mag = lambda x: rotvec_y_sq(Tmat_to_Tvec(fk(x)))"
   ]
  },
  {
   "cell_type": "code",
   "execution_count": 29,
   "metadata": {},
   "outputs": [],
   "source": [
    "g, cl, cu = [], [], []\n",
    "f = lambda x:jnp.array(0.)\n",
    "g.append(fk_vec)\n",
    "cl.extend(SE3.from_matrix(T_goal).parameters())\n",
    "cu.extend(SE3.from_matrix(T_goal).parameters())\n",
    "\n",
    "# g.append(rotvec_x_mag)\n",
    "# cl += [1.]\n",
    "# cu += [1.]\n",
    "# g.append(rotvec_y_mag)\n",
    "# cl += [1.]\n",
    "# cu += [1.]"
   ]
  },
  {
   "cell_type": "code",
   "execution_count": 33,
   "metadata": {},
   "outputs": [],
   "source": [
    "lb = jnp.hstack([panda.joint_lower_limit] * num_steps)\n",
    "ub = jnp.hstack([panda.joint_upper_limit] * num_steps)\n",
    "cl = jnp.array(cl)\n",
    "cu = jnp.array(cu)\n",
    "\n",
    "dim = dim_robot*num_steps\n",
    "const_dim = len(cl)\n",
    "_g = lambda x: jnp.hstack([fn(x) for fn in g])"
   ]
  },
  {
   "cell_type": "code",
   "execution_count": 34,
   "metadata": {},
   "outputs": [],
   "source": [
    "x_rand = jnp.array(np.random.random(dim))\n",
    "lambda_rand = jnp.array(np.random.random(const_dim))\n",
    "\n",
    "fns = {}\n",
    "fns['objective'] = f\n",
    "fns['constraints'] = _g\n",
    "fns['gradient'] = jax.grad(f)\n",
    "fns['const_jacobian'] = jax.jacrev(_g)\n",
    "fns['obj_hessian'] = jax.hessian(f)\n",
    "fns['const_hessian'] = jax.hessian(_g)\n",
    "\n",
    "def _hessian(x, lagrange, obj_factor):\n",
    "    H = obj_factor * fns['obj_hessian'](x)\n",
    "    H += jnp.einsum('i,ijk->jk', lagrange, fns['const_hessian'](x))\n",
    "    return H\n",
    "jac_row, jac_col = jnp.nonzero(fns['const_jacobian'](x_rand))\n",
    "fns['jacobianstructure'] =  lambda : (jac_row, jac_col)\n",
    "hess_row, hess_col = jnp.nonzero(jnp.tril(_hessian(x_rand, lambda_rand, 1.)))\n",
    "fns['hessianstructure'] =  lambda : (hess_row, hess_col)\n",
    "def jacobian(x):\n",
    "    J = fns['const_jacobian'](x)\n",
    "    row, col = fns['jacobianstructure']()\n",
    "    return J[row, col]\n",
    "def hessian(x, lagrange, obj_factor):\n",
    "    H = _hessian(x, lagrange, obj_factor)\n",
    "    row, col = fns['hessianstructure']()\n",
    "    return H[row, col]\n",
    "fns['jacobian'] = jacobian\n",
    "fns['hessian'] = hessian "
   ]
  },
  {
   "cell_type": "code",
   "execution_count": 35,
   "metadata": {},
   "outputs": [],
   "source": [
    "class Prob:\n",
    "    pass\n",
    "prob = Prob()\n",
    "\n",
    "for name, fn in fns.items():\n",
    "    if name in ['objective', 'constraints', 'gradient', 'jacobian']:\n",
    "        setattr(prob, name, jax.jit(fn).lower(x_rand).compile())\n",
    "    elif 'structure' in name:\n",
    "        setattr(prob, name, jax.jit(fn).lower().compile())\n",
    "    elif name in ['hessian']:\n",
    "        hess_fn = jax.jit(fn).lower(x_rand, lambda_rand, 1.).compile()\n",
    "        setattr(prob, name, hess_fn)\n",
    "\n",
    "solver = cyipopt.Problem(\n",
    "    n=dim, m=const_dim,\n",
    "    problem_obj=prob,\n",
    "    lb=lb, ub=ub, cl=cl, cu=cu\n",
    ")\n",
    "solver.add_option('tol', 0.001)\n",
    "#solver.add_option('hessian_approximation', 'limited-memory')"
   ]
  },
  {
   "cell_type": "code",
   "execution_count": 37,
   "metadata": {},
   "outputs": [
    {
     "name": "stdout",
     "output_type": "stream",
     "text": [
      "This is Ipopt version 3.14.10, running with linear solver MUMPS 5.2.1.\n",
      "\n",
      "Number of nonzeros in equality constraint Jacobian...:       45\n",
      "Number of nonzeros in inequality constraint Jacobian.:        0\n",
      "Number of nonzeros in Lagrangian Hessian.............:       28\n",
      "\n",
      "Total number of variables............................:        7\n",
      "                     variables with only lower bounds:        0\n",
      "                variables with lower and upper bounds:        7\n",
      "                     variables with only upper bounds:        0\n",
      "Total number of equality constraints.................:        7\n",
      "Total number of inequality constraints...............:        0\n",
      "        inequality constraints with only lower bounds:        0\n",
      "   inequality constraints with lower and upper bounds:        0\n",
      "        inequality constraints with only upper bounds:        0\n",
      "\n",
      "iter    objective    inf_pr   inf_du lg(mu)  ||d||  lg(rg) alpha_du alpha_pr  ls\n",
      "   0  0.0000000e+00 6.06e-01 0.00e+00  -1.0 0.00e+00    -  0.00e+00 0.00e+00   0\n",
      "   1r 0.0000000e+00 6.06e-01 9.99e+02  -0.2 0.00e+00    -  0.00e+00 7.37e-09R  2\n",
      "   2r 0.0000000e+00 4.06e-01 9.97e+02  -0.2 3.17e+02    -  2.18e-03 2.34e-03f  1\n",
      "   3r 0.0000000e+00 3.39e-01 9.95e+02  -0.2 2.02e+02    -  2.27e-03 1.43e-03f  1\n",
      "   4r 0.0000000e+00 3.13e-01 9.92e+02  -0.2 9.42e+01    -  2.33e-02 3.15e-03f  1\n",
      "   5r 0.0000000e+00 5.82e-01 9.78e+02  -0.2 9.44e+01   0.0 1.31e-02 1.37e-02f  1\n",
      "   6r 0.0000000e+00 5.73e-01 9.64e+02  -0.2 1.71e+01    -  1.59e-01 1.07e-02f  1\n",
      "   7r 0.0000000e+00 4.73e-01 8.02e+02  -0.2 1.03e+00    -  1.32e-01 1.68e-01f  1\n",
      "   8r 0.0000000e+00 4.61e-01 9.67e+02  -0.2 6.98e-01   3.1 2.42e-01 2.62e-02f  1\n",
      "   9r 0.0000000e+00 4.55e-01 9.16e+02  -0.2 3.32e+00    -  5.07e-02 4.05e-03f  1\n",
      "iter    objective    inf_pr   inf_du lg(mu)  ||d||  lg(rg) alpha_du alpha_pr  ls\n",
      "  10r 0.0000000e+00 4.33e-01 2.70e+03  -0.2 6.59e+00    -  9.40e-05 7.25e-02f  1\n",
      "  11r 0.0000000e+00 3.11e-01 1.82e+03  -0.2 4.98e-01   3.6 1.82e-02 3.23e-01h  1\n",
      "  12r 0.0000000e+00 1.91e-01 7.11e+02  -0.2 2.88e-01   3.1 2.26e-01 1.00e+00h  1\n",
      "  13r 0.0000000e+00 1.84e-01 6.73e+02  -0.2 8.05e-01   2.6 8.77e-01 8.14e-02f  1\n",
      "  14r 0.0000000e+00 1.69e-01 4.62e+02  -0.2 1.23e-01   3.0 1.00e+00 3.62e-01f  1\n",
      "  15r 0.0000000e+00 6.16e-02 1.36e+02  -0.2 3.46e-01   2.6 7.58e-01 1.00e+00f  1\n",
      "  16r 0.0000000e+00 7.43e-02 2.10e+02  -0.2 6.96e-01   2.1 1.00e+00 3.68e-01f  1\n",
      "  17r 0.0000000e+00 2.07e-02 2.31e+02  -0.2 5.09e-01   1.6 1.00e+00 5.82e-01f  1\n",
      "  18r 0.0000000e+00 1.44e-02 5.93e+02  -0.2 1.05e+00    -  1.00e+00 3.26e-01f  2\n",
      "  19r 0.0000000e+00 3.50e-02 2.84e+02  -0.2 1.23e+00    -  1.00e+00 5.00e-01f  2\n",
      "iter    objective    inf_pr   inf_du lg(mu)  ||d||  lg(rg) alpha_du alpha_pr  ls\n",
      "  20r 0.0000000e+00 1.19e-01 3.59e+01  -0.2 1.48e+00    -  7.89e-01 1.00e+00f  1\n",
      "  21r 0.0000000e+00 4.77e-02 3.71e+02  -0.2 2.23e-01    -  4.23e-01 6.05e-01h  1\n",
      "  22r 0.0000000e+00 2.43e-02 1.82e+01  -0.2 2.83e-01    -  1.00e+00 1.00e+00f  1\n",
      "  23r 0.0000000e+00 7.32e-04 1.30e+00  -0.9 5.82e-02   1.1 1.00e+00 1.00e+00f  1\n",
      "  24r 0.0000000e+00 5.14e-04 3.75e-01  -1.6 3.03e-02    -  1.00e+00 1.00e+00f  1\n",
      "  25r 0.0000000e+00 1.57e-03 3.56e-01  -2.4 1.23e-01    -  1.00e+00 1.00e+00f  1\n",
      "  26r 0.0000000e+00 2.71e-04 4.99e-01  -2.4 1.23e-01    -  1.00e+00 1.00e+00H  1\n",
      "  27r 0.0000000e+00 1.49e-07 7.94e-03  -2.4 1.42e-03   0.6 1.00e+00 1.00e+00h  1\n",
      "\n",
      "Number of Iterations....: 27\n",
      "\n",
      "                                   (scaled)                 (unscaled)\n",
      "Objective...............:   0.0000000000000000e+00    0.0000000000000000e+00\n",
      "Dual infeasibility......:   0.0000000000000000e+00    0.0000000000000000e+00\n",
      "Constraint violation....:   1.4901161193847656e-07    1.4901161193847656e-07\n",
      "Variable bound violation:   0.0000000000000000e+00    0.0000000000000000e+00\n",
      "Complementarity.........:   0.0000000000000000e+00    0.0000000000000000e+00\n",
      "Overall NLP error.......:   1.4901161193847656e-07    1.4901161193847656e-07\n",
      "\n",
      "\n",
      "Number of objective function evaluations             = 36\n",
      "Number of objective gradient evaluations             = 3\n",
      "Number of equality constraint evaluations            = 36\n",
      "Number of inequality constraint evaluations          = 0\n",
      "Number of equality constraint Jacobian evaluations   = 29\n",
      "Number of inequality constraint Jacobian evaluations = 0\n",
      "Number of Lagrangian Hessian evaluations             = 27\n",
      "Total seconds in IPOPT                               = 0.045\n",
      "\n",
      "EXIT: Optimal Solution Found.\n"
     ]
    }
   ],
   "source": [
    "x0 = jnp.hstack([panda.get_random_config()]*num_steps)\n",
    "xsol, info = solver.solve(x0)\n",
    "#normal : 0.046"
   ]
  },
  {
   "cell_type": "code",
   "execution_count": 41,
   "metadata": {},
   "outputs": [],
   "source": [
    "sm.view_frame(Pose.from_matrix(np.array(T_goal)))"
   ]
  },
  {
   "cell_type": "code",
   "execution_count": 43,
   "metadata": {},
   "outputs": [],
   "source": [
    "panda.set_joint_angles(xsol)"
   ]
  }
 ],
 "metadata": {
  "kernelspec": {
   "display_name": "cu11",
   "language": "python",
   "name": "python3"
  },
  "language_info": {
   "codemirror_mode": {
    "name": "ipython",
    "version": 3
   },
   "file_extension": ".py",
   "mimetype": "text/x-python",
   "name": "python",
   "nbconvert_exporter": "python",
   "pygments_lexer": "ipython3",
   "version": "3.8.16"
  },
  "orig_nbformat": 4
 },
 "nbformat": 4,
 "nbformat_minor": 2
}
