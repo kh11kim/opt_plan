{
 "cells": [
  {
   "cell_type": "code",
   "execution_count": 1,
   "metadata": {},
   "outputs": [
    {
     "name": "stderr",
     "output_type": "stream",
     "text": [
      "pybullet build time: May 20 2022 19:44:17\n"
     ]
    }
   ],
   "source": [
    "import jax\n",
    "import jax.numpy as jnp\n",
    "import numpy as np\n",
    "import matplotlib.pyplot as plt\n",
    "import cyipopt\n",
    "from pybullet_suite import *\n",
    "from panda_collision import *\n",
    "from signed_distance import *\n",
    "from pathlib import Path"
   ]
  },
  {
   "cell_type": "code",
   "execution_count": 2,
   "metadata": {},
   "outputs": [],
   "source": [
    "mesh_path = Path(PANDA_URDF).parent/\"meshes/collision\"\n",
    "link_names = link_names = [\n",
    "    'link1', 'link2', 'link3', \n",
    "    'link4', 'link5', 'link6', 'link7', 'hand', \n",
    "    'finger', 'finger'\n",
    "] # 'link0', "
   ]
  },
  {
   "cell_type": "code",
   "execution_count": 3,
   "metadata": {},
   "outputs": [
    {
     "name": "stdout",
     "output_type": "stream",
     "text": [
      "Robot name: panda\n"
     ]
    },
    {
     "name": "stderr",
     "output_type": "stream",
     "text": [
      "only got 77/100 samples!\n"
     ]
    }
   ],
   "source": [
    "fk = get_fk_fn(PANDA_URDF)\n",
    "pc = get_pointclouds(mesh_path, link_names)"
   ]
  },
  {
   "cell_type": "code",
   "execution_count": 4,
   "metadata": {},
   "outputs": [
    {
     "name": "stdout",
     "output_type": "stream",
     "text": [
      "argv[0]=\n",
      "startThreads creating 1 threads.\n",
      "starting thread 0\n",
      "started thread 0 \n",
      "argc=3\n",
      "argv[0] = --unused\n",
      "argv[1] = \n",
      "argv[2] = --start_demo_name=Physics Server\n",
      "ExampleBrowserThreadFunc started\n",
      "X11 functions dynamically loaded using dlopen/dlsym OK!\n",
      "X11 functions dynamically loaded using dlopen/dlsym OK!\n",
      "Creating context\n",
      "Created GL 3.3 context\n",
      "Direct GLX rendering context obtained\n",
      "Making context current\n",
      "GL_VENDOR=NVIDIA Corporation\n",
      "GL_RENDERER=NVIDIA GeForce RTX 3090/PCIe/SSE2\n",
      "GL_VERSION=3.3.0 NVIDIA 515.105.01\n",
      "GL_SHADING_LANGUAGE_VERSION=3.30 NVIDIA via Cg compiler\n",
      "pthread_getconcurrency()=0\n",
      "Version = 3.3.0 NVIDIA 515.105.01\n",
      "Vendor = NVIDIA Corporation\n",
      "Renderer = NVIDIA GeForce RTX 3090/PCIe/SSE2\n",
      "b3Printf: Selected demo: Physics Server\n",
      "startThreads creating 1 threads.\n",
      "starting thread 0\n",
      "started thread 0 \n",
      "MotionThreadFunc thread started\n",
      "ven = NVIDIA Corporation\n",
      "ven = NVIDIA Corporation\n"
     ]
    }
   ],
   "source": [
    "bw = BulletWorld(gui=True)\n",
    "sm = BulletSceneMaker(bw)\n",
    "panda = bw.load_robot(Panda, \"panda\")"
   ]
  },
  {
   "cell_type": "code",
   "execution_count": 5,
   "metadata": {},
   "outputs": [],
   "source": [
    "obs = sm.create_sphere(\"obstacle\", 0.3, 0.1, Pose.identity(), [1,0,0,0.3])\n",
    "obs.set_base_pose(Pose(trans=[0.6,0, 0.6]))"
   ]
  },
  {
   "cell_type": "code",
   "execution_count": 6,
   "metadata": {},
   "outputs": [],
   "source": [
    "obs_center = jnp.array([0.6, 0, 0.6])\n",
    "obs_r = 0.3"
   ]
  },
  {
   "cell_type": "code",
   "execution_count": 7,
   "metadata": {},
   "outputs": [],
   "source": [
    "# env\n",
    "offset = SE3.from_translation(jnp.array([0., 0, -1]))\n",
    "half_extents = jnp.array([10., 10, 1])\n",
    "ground = box(offset, half_extents)\n",
    "circ = circle(obs_center, obs_r)\n",
    "env = EnvSDF((circ, ground))"
   ]
  },
  {
   "cell_type": "code",
   "execution_count": 8,
   "metadata": {},
   "outputs": [],
   "source": [
    "def robot_penet(q):\n",
    "    tfs = fk(q)[1:]\n",
    "    points = pc.apply_transforms(tfs)\n",
    "    return env.penetration_sum(points, pc.num_points, 0.02)"
   ]
  },
  {
   "cell_type": "code",
   "execution_count": 50,
   "metadata": {},
   "outputs": [],
   "source": [
    "panda.set_joint_angles(panda.joint_central)\n",
    "q = jnp.array(panda.get_joint_angles())"
   ]
  },
  {
   "cell_type": "code",
   "execution_count": 10,
   "metadata": {},
   "outputs": [],
   "source": [
    "tfs = fk(q)[1:]\n",
    "points = pc.apply_transforms(tfs)"
   ]
  },
  {
   "cell_type": "code",
   "execution_count": 27,
   "metadata": {},
   "outputs": [
    {
     "data": {
      "text/plain": [
       "Array([[False,  True,  True,  True,  True,  True, False],\n",
       "       [ True, False,  True,  True,  True,  True, False],\n",
       "       [ True,  True, False,  True,  True,  True,  True],\n",
       "       [ True,  True,  True, False,  True, False, False],\n",
       "       [ True,  True,  True,  True, False,  True,  True],\n",
       "       [ True,  True,  True, False,  True, False, False],\n",
       "       [False, False,  True, False,  True, False, False]], dtype=bool)"
      ]
     },
     "execution_count": 27,
     "metadata": {},
     "output_type": "execute_result"
    }
   ],
   "source": [
    "q_hess != q_hess.T"
   ]
  },
  {
   "cell_type": "code",
   "execution_count": 36,
   "metadata": {},
   "outputs": [],
   "source": [
    "eigs, v = jnp.linalg.eigh(q_hess)"
   ]
  },
  {
   "cell_type": "code",
   "execution_count": 65,
   "metadata": {},
   "outputs": [],
   "source": [
    "def hessian(q):\n",
    "    # def non_pd(H):\n",
    "        \n",
    "    #     return Hhat\n",
    "    # def normal(H):\n",
    "    #     return H\n",
    "    H = jax.hessian(robot_penet)(q)\n",
    "    # for mu in [0, 1, 10, 100, 1000]:\n",
    "    #     Hhat = H + jnp.eye(7)*mu\n",
    "    #     cond = jnp.isnan(jnp.linalg.cholesky(H)).any()\n",
    "        #eig, v = jnp.linalg.eigh(H)\n",
    "        #Hhat = v@jnp.diag(jnp.maximum(eig, 1e-8))@v.T \n",
    "    #cond = jnp.isnan(jnp.linalg.cholesky(H)).any()\n",
    "    return H #jax.lax.cond(cond, non_pd, normal, H)"
   ]
  },
  {
   "cell_type": "code",
   "execution_count": 51,
   "metadata": {},
   "outputs": [],
   "source": [
    "H = jax.hessian(robot_penet)(q)"
   ]
  },
  {
   "cell_type": "code",
   "execution_count": 66,
   "metadata": {},
   "outputs": [
    {
     "data": {
      "text/plain": [
       "Array([[-1.6600764e+03, -7.2850647e+01, -1.6600764e+03, -1.9539661e+02,\n",
       "        -2.8710504e+02, -1.5986530e+02,  6.7612371e+00],\n",
       "       [-7.2850311e+01, -1.8518026e+03, -7.2990356e+01,  1.2865939e+03,\n",
       "        -1.6280579e+01,  1.9237988e+02,  1.0281770e+00],\n",
       "       [-1.6600763e+03, -7.2990494e+01, -1.6600763e+03, -1.9539662e+02,\n",
       "        -2.8710504e+02, -1.5986530e+02,  6.7612376e+00],\n",
       "       [-1.9539670e+02,  1.2865935e+03, -1.9539661e+02, -1.1534746e+03,\n",
       "        -4.2552608e+01, -2.9699539e+02,  2.6679816e+00],\n",
       "       [-2.8710498e+02, -1.6280638e+01, -2.8710501e+02, -4.2552635e+01,\n",
       "        -6.2922955e+01, -3.5036606e+01,  1.4818200e+00],\n",
       "       [-1.5986526e+02,  1.9237976e+02, -1.5986530e+02, -2.9699542e+02,\n",
       "        -3.5036583e+01, -1.3239532e+02,  2.2010932e+00],\n",
       "       [ 6.7612343e+00,  1.0281868e+00,  6.7612495e+00,  2.6679807e+00,\n",
       "         1.4818192e+00,  2.2010932e+00, -1.3752937e-02]], dtype=float32)"
      ]
     },
     "execution_count": 66,
     "metadata": {},
     "output_type": "execute_result"
    }
   ],
   "source": [
    "jax.jit(hessian)(q)"
   ]
  },
  {
   "cell_type": "code",
   "execution_count": 67,
   "metadata": {},
   "outputs": [
    {
     "name": "stdout",
     "output_type": "stream",
     "text": [
      "894 µs ± 5.33 µs per loop (mean ± std. dev. of 7 runs, 1,000 loops each)\n"
     ]
    }
   ],
   "source": [
    "%timeit jax.jit(hessian)(q)"
   ]
  },
  {
   "cell_type": "code",
   "execution_count": 12,
   "metadata": {},
   "outputs": [
    {
     "name": "stdout",
     "output_type": "stream",
     "text": [
      "114.25072\n",
      "88.01356\n",
      "52.158867\n",
      "20.878067\n",
      "2.8800416\n",
      "0.00046189502\n",
      "0.0\n"
     ]
    }
   ],
   "source": [
    "import time\n",
    "print(robot_penet(q))\n",
    "for i in range(100):\n",
    "    q_grad = jax.grad(robot_penet)(q)\n",
    "    if jnp.abs(q_grad).sum() < 1e-3:\n",
    "        break\n",
    "    q_hess = jax.hessian(robot_penet)(q)\n",
    "    eig, v = jnp.linalg.eigh(q_hess)\n",
    "    hess = v@jnp.diag(jnp.maximum(eig, 1e-6))@v.T\n",
    "    \n",
    "    steepest_descent_step = -0.0002 * q_grad\n",
    "    newton_step = - jnp.linalg.inv(hess)@q_grad\n",
    "    \n",
    "    q += 0.1 * newton_step/jnp.linalg.norm(newton_step) #steepest_descent_step\n",
    "    #q += 0.05 * steepest_descent_step/jnp.linalg.norm(steepest_descent_step)\n",
    "    print(robot_penet(q))\n",
    "    panda.set_joint_angles(q)\n",
    "    time.sleep(0.1)\n",
    "    \n",
    "#q_hess = jax.hessian(robot_penet)(q)\n",
    "\n",
    "\n"
   ]
  },
  {
   "cell_type": "code",
   "execution_count": 123,
   "metadata": {},
   "outputs": [
    {
     "data": {
      "text/plain": [
       "Array([-0.00559927, -0.12688619,  0.00681886, -0.10829116,  0.04457071,\n",
       "        0.11354677, -0.00119272], dtype=float32)"
      ]
     },
     "execution_count": 123,
     "metadata": {},
     "output_type": "execute_result"
    }
   ],
   "source": [
    "jnp.linalg.pinv(q_hess) @ q_grad"
   ]
  },
  {
   "cell_type": "code",
   "execution_count": 205,
   "metadata": {},
   "outputs": [],
   "source": [
    "q_hess = jax.hessian(robot_penet)(q)\n",
    "#q_hess = (q_hess + q_hess.T - jnp.diag(q_hess.diagonal()))/2"
   ]
  },
  {
   "cell_type": "code",
   "execution_count": 206,
   "metadata": {},
   "outputs": [
    {
     "data": {
      "text/plain": [
       "(Array([-4.3890942e+03, -2.3425283e+03, -1.9463054e+02, -7.4763632e+00,\n",
       "        -7.1730804e+00,  1.6137561e-02,  2.7558024e+00], dtype=float32),\n",
       " Array([[ 6.92653120e-01, -9.97188464e-02, -2.77884360e-02,\n",
       "         -3.07605803e-01,  1.13058120e-01,  1.56645267e-03,\n",
       "          6.34121358e-01],\n",
       "        [ 1.70451656e-01,  7.58472860e-01,  5.72770596e-01,\n",
       "         -1.78953618e-01,  1.15394108e-01, -9.75990315e-06,\n",
       "         -1.49193421e-01],\n",
       "        [ 6.91758394e-01, -1.07174851e-01, -9.55552906e-02,\n",
       "          2.43578091e-01, -2.57364124e-01, -1.59720378e-03,\n",
       "         -6.12604260e-01],\n",
       "        [-2.75562871e-02, -6.22762024e-01,  6.13084972e-01,\n",
       "         -3.50754499e-01,  2.22701862e-01, -8.80559615e-04,\n",
       "         -2.50817090e-01],\n",
       "        [ 1.08642295e-01, -1.93128120e-02, -3.09155346e-03,\n",
       "          5.48825741e-01,  8.28588128e-01,  6.00249274e-03,\n",
       "         -3.35773639e-03],\n",
       "        [ 9.24866367e-03, -1.22814424e-01,  5.34919083e-01,\n",
       "          6.24292016e-01, -4.14131433e-01,  6.40763855e-03,\n",
       "          3.70683372e-01],\n",
       "        [-7.14146183e-04,  3.46938323e-04, -2.97277840e-03,\n",
       "         -6.73455046e-03, -2.71103461e-03,  9.99958992e-01,\n",
       "         -4.54933196e-03]], dtype=float32))"
      ]
     },
     "execution_count": 206,
     "metadata": {},
     "output_type": "execute_result"
    }
   ],
   "source": [
    "jnp.linalg.eigh(q_hess)"
   ]
  },
  {
   "cell_type": "code",
   "execution_count": 91,
   "metadata": {},
   "outputs": [],
   "source": [
    "panda.set_joint_angles(q)"
   ]
  },
  {
   "cell_type": "code",
   "execution_count": 85,
   "metadata": {},
   "outputs": [
    {
     "data": {
      "text/plain": [
       "Array([ 6.9114387e-01, -6.4720487e-04, -6.6610301e-01,  4.3964468e-02,\n",
       "       -2.1038839e-01, -1.6984457e-01,  8.0105364e-01], dtype=float32)"
      ]
     },
     "execution_count": 85,
     "metadata": {},
     "output_type": "execute_result"
    }
   ],
   "source": [
    "jnp.linalg.inv(q_hess) @ q_grad"
   ]
  },
  {
   "cell_type": "code",
   "execution_count": 68,
   "metadata": {},
   "outputs": [],
   "source": []
  },
  {
   "cell_type": "code",
   "execution_count": 73,
   "metadata": {},
   "outputs": [
    {
     "data": {
      "text/plain": [
       "Array([[ 3.18870869e+01, -6.51701748e-01, -3.19050426e+01,\n",
       "        -1.14817071e+00,  1.92376524e-01,  1.66336489e+00,\n",
       "         5.87297916e+00],\n",
       "       [-6.51634872e-01,  4.21889636e-05,  6.51636004e-01,\n",
       "         7.43030178e-05, -1.23769832e-05, -1.07663844e-04,\n",
       "        -3.75142699e-04],\n",
       "       [-3.19050312e+01,  6.51702702e-01,  3.19201584e+01,\n",
       "         1.14810777e+00, -1.79550827e-01, -1.66327310e+00,\n",
       "        -5.87993622e+00],\n",
       "       [-1.14804983e+00,  7.42477714e-05,  1.14798737e+00,\n",
       "        -1.54743041e-03, -2.09151045e-03,  2.25879368e-03,\n",
       "        -1.80995792e-01],\n",
       "       [ 1.92324072e-01, -1.16367682e-05, -1.79498419e-01,\n",
       "        -2.09023338e-03, -7.35416785e-02,  1.40806856e-02,\n",
       "         5.46473801e-01],\n",
       "       [ 1.66320324e+00, -1.07810854e-04, -1.66311216e+00,\n",
       "         2.25839159e-03,  1.40825622e-02, -5.37359901e-03,\n",
       "         1.06255174e+00],\n",
       "       [ 5.87458944e+00, -4.17425937e-04, -5.88154793e+00,\n",
       "        -1.81070581e-01,  5.46487153e-01,  1.06265569e+00,\n",
       "         7.66658096e+01]], dtype=float32)"
      ]
     },
     "execution_count": 73,
     "metadata": {},
     "output_type": "execute_result"
    }
   ],
   "source": [
    "jnp.linalg.inv(H)"
   ]
  },
  {
   "cell_type": "code",
   "execution_count": null,
   "metadata": {},
   "outputs": [],
   "source": [
    "panda.set_"
   ]
  },
  {
   "cell_type": "code",
   "execution_count": 27,
   "metadata": {},
   "outputs": [
    {
     "data": {
      "text/plain": [
       "Array([-3.4596138e+00,  1.1593906e+02, -3.4596138e+00, -7.3047043e+01,\n",
       "       -7.5821018e-01, -8.4767208e+00, -7.8457743e-03], dtype=float32)"
      ]
     },
     "execution_count": 27,
     "metadata": {},
     "output_type": "execute_result"
    }
   ],
   "source": [
    "q_grad"
   ]
  },
  {
   "cell_type": "code",
   "execution_count": 18,
   "metadata": {},
   "outputs": [],
   "source": [
    "joints = jnp.array([panda.get_random_config() for n in range(10)])"
   ]
  },
  {
   "cell_type": "code",
   "execution_count": 24,
   "metadata": {},
   "outputs": [
    {
     "name": "stdout",
     "output_type": "stream",
     "text": [
      "105 µs ± 103 ns per loop (mean ± std. dev. of 7 runs, 10,000 loops each)\n"
     ]
    }
   ],
   "source": [
    "%timeit robot_penet_path(joints)"
   ]
  },
  {
   "cell_type": "code",
   "execution_count": 11,
   "metadata": {},
   "outputs": [
    {
     "name": "stdout",
     "output_type": "stream",
     "text": [
      "262 µs ± 252 ns per loop (mean ± std. dev. of 7 runs, 1,000 loops each)\n"
     ]
    }
   ],
   "source": [
    "%timeit robot_penet(jnp.ones(7))"
   ]
  },
  {
   "cell_type": "code",
   "execution_count": 10,
   "metadata": {},
   "outputs": [
    {
     "data": {
      "text/plain": [
       "Array([[ 6.3396730e-02, -1.3823391e-02,  5.6593366e-02],\n",
       "       [-1.4391968e-01, -7.1363188e-03,  2.4019109e-02],\n",
       "       [-1.3907564e-01,  4.7267664e-02,  1.7710578e-07],\n",
       "       ...,\n",
       "       [ 6.0018450e-02,  2.9043026e-02,  8.3249056e-01],\n",
       "       [ 6.5231413e-02,  3.3720437e-02,  8.2052982e-01],\n",
       "       [ 4.5467369e-02,  4.7129169e-02,  8.4266722e-01]], dtype=float32)"
      ]
     },
     "execution_count": 10,
     "metadata": {},
     "output_type": "execute_result"
    }
   ],
   "source": [
    "pc.apply_transforms(fk(jnp.zeros(7)))"
   ]
  },
  {
   "cell_type": "code",
   "execution_count": null,
   "metadata": {},
   "outputs": [],
   "source": []
  }
 ],
 "metadata": {
  "kernelspec": {
   "display_name": "opt_env",
   "language": "python",
   "name": "python3"
  },
  "language_info": {
   "codemirror_mode": {
    "name": "ipython",
    "version": 3
   },
   "file_extension": ".py",
   "mimetype": "text/x-python",
   "name": "python",
   "nbconvert_exporter": "python",
   "pygments_lexer": "ipython3",
   "version": "3.8.16"
  },
  "orig_nbformat": 4
 },
 "nbformat": 4,
 "nbformat_minor": 2
}
