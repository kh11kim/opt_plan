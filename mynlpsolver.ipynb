{
 "cells": [
  {
   "cell_type": "code",
   "execution_count": 1,
   "metadata": {},
   "outputs": [],
   "source": [
    "import jax\n",
    "import jax.numpy as jnp\n",
    "import numpy as np\n",
    "import osqp\n",
    "from scipy import sparse\n",
    "from mysqp import NLPBuilder\n",
    "\n",
    "jax.config.update(\"jax_enable_x64\", False)"
   ]
  },
  {
   "cell_type": "code",
   "execution_count": 2,
   "metadata": {},
   "outputs": [],
   "source": [
    "nlp = NLPBuilder(dim=4)\n",
    "nlp.set_f(\n",
    "    lambda x:x[0] * x[3] * jnp.sum(x[:3]) + x[2]\n",
    ")\n",
    "nlp.add_eq_const(lambda x:jnp.sum(x**2), 40)\n",
    "nlp.add_ineq_const_lb(lambda x:jnp.prod(x), 25)\n",
    "nlp.set_state_bound(jnp.full(4, 1), jnp.full(4, 5))\n"
   ]
  },
  {
   "cell_type": "code",
   "execution_count": 2,
   "metadata": {},
   "outputs": [],
   "source": [
    "nlp = NLPBuilder(dim=2)\n",
    "nlp.set_f(\n",
    "    lambda x: (1-x[0])**2 + 100 *(x[1]-x[0]**2)**2   #x[0] * x[3] * jnp.sum(x[:3]) + x[2]\n",
    ")\n",
    "#nlp.add_eq_const(lambda x:jnp.sum(x**2), 40)\n",
    "#nlp.add_ineq_const_lb(lambda x:jnp.prod(x), 25)\n",
    "nlp.set_state_bound(jnp.full(2, -2), jnp.full(2, 2))"
   ]
  },
  {
   "cell_type": "code",
   "execution_count": 3,
   "metadata": {},
   "outputs": [],
   "source": [
    "class SQP:\n",
    "    def __init__(\n",
    "            self,\n",
    "            dim,\n",
    "            const_dim,\n",
    "            convexify_fn,\n",
    "            merit_fn,\n",
    "            armijo_merit_fn,\n",
    "            max_viol_fn,\n",
    "            verbose = True\n",
    "        ):\n",
    "        self.qpsolver = osqp.OSQP()\n",
    "        self.dim = dim\n",
    "        self.const_dim = const_dim\n",
    "        self.convexify_fn = convexify_fn\n",
    "        self.merit_fn = merit_fn\n",
    "        self.max_viol_fn = max_viol_fn\n",
    "        self.armijo_merit_fn = armijo_merit_fn\n",
    "        self.is_qp_init = False\n",
    "        self.verbose = verbose\n",
    "        self.prebuild()\n",
    "\n",
    "    def prebuild(self):\n",
    "        x = jnp.zeros(self.dim)\n",
    "        m = jnp.zeros(self.const_dim)\n",
    "        self.convexify_fn = jax.jit(self.convexify_fn).lower(x,m).compile()\n",
    "        self.merit_fn = jax.jit(self.merit_fn).lower(x, 1.).compile()\n",
    "        self.armijo_merit_fn = jax.jit(self.armijo_merit_fn).lower(x, x, 1.).compile()\n",
    "        self.max_viol_fn = jax.jit(self.max_viol_fn).lower(x,m).compile()\n",
    "        \n",
    "    def solve(self, x0, max_iter=100, const_viol_tol=0.001):\n",
    "        sigma = 0.\n",
    "        x = x0\n",
    "        m = jnp.zeros(self.const_dim) # lambda\n",
    "\n",
    "        print(\"sqp start\")\n",
    "        for i in range(max_iter):\n",
    "            max_viol = self.max_viol_fn(x, m)\n",
    "            if max_viol < const_viol_tol:\n",
    "                return x\n",
    "            \n",
    "            P, q, A, l, u = self.convexify_fn(x, m)\n",
    "            P = sparse.csc_matrix(P)\n",
    "            A = sparse.csc_matrix(A)\n",
    "            q = np.asarray(q)\n",
    "            l = np.asarray(l)\n",
    "            u = np.asarray(u)\n",
    "\n",
    "            if self.is_qp_init == False:\n",
    "                opts = {\"verbose\":False}\n",
    "                self.qpsolver.setup(P, q, A, l, u, **opts)\n",
    "                self.is_qp_init = True\n",
    "            else:\n",
    "                self.qpsolver.update(\n",
    "                    Px=P.data, q=q, Ax=A.data, l=l, u=u\n",
    "                )\n",
    "            res = self.qpsolver.solve()\n",
    "            if res.info.status != \"solved\":\n",
    "                raise NotImplementedError(\"QP infeasible!\")\n",
    "            \n",
    "            direction = jnp.asarray(res.x)\n",
    "            alpha = self.backtrack(x, direction, sigma)\n",
    "            x += alpha * direction\n",
    "            m = (1-alpha)*m + alpha * res.y\n",
    "            sigma = jnp.linalg.norm(jnp.hstack([1.01*res.y, sigma]))\n",
    "            if self.verbose:\n",
    "                print(f\"{i}: x:{x}, dir:{direction}, alpha:{alpha}, max_viol:{max_viol}\")\n",
    "    \n",
    "    def backtrack(\n",
    "        self, x, direction, \n",
    "        sigma=0., alpha=1., beta=0.5, gamma=0.1, max_iter=30\n",
    "    ):\n",
    "        for i in range(max_iter):\n",
    "            curr_merit = self.merit_fn(x, sigma)\n",
    "            next_merit = self.merit_fn(x + alpha * direction, sigma)\n",
    "            armijo = gamma * alpha * self.armijo_merit_fn(x, direction, sigma)\n",
    "            if next_merit < curr_merit + armijo:\n",
    "                break\n",
    "            alpha *= beta\n",
    "        return alpha\n",
    "    \n",
    "    @classmethod\n",
    "    def from_nlp_builder(cls, prob:NLPBuilder):\n",
    "        return cls(prob.dim,\n",
    "                    prob.const_dim,\n",
    "                    prob.get_convexify_fn(),\n",
    "                    prob.get_merit_fn(),\n",
    "                    prob.get_armijo_merit(),\n",
    "                    prob.get_const_viol_fn())"
   ]
  },
  {
   "cell_type": "code",
   "execution_count": 4,
   "metadata": {},
   "outputs": [],
   "source": [
    "sqp = SQP.from_nlp_builder(nlp)\n",
    "sqp.verbose = True"
   ]
  },
  {
   "cell_type": "code",
   "execution_count": 9,
   "metadata": {},
   "outputs": [],
   "source": [
    "x0 = jnp.zeros(2)\n",
    "xsol = sqp.solve(x0)"
   ]
  },
  {
   "cell_type": "code",
   "execution_count": 10,
   "metadata": {},
   "outputs": [
    {
     "data": {
      "text/plain": [
       "Array(0., dtype=float32)"
      ]
     },
     "execution_count": 10,
     "metadata": {},
     "output_type": "execute_result"
    }
   ],
   "source": [
    "sqp.max_viol_fn(x0, 0.)"
   ]
  },
  {
   "cell_type": "code",
   "execution_count": 49,
   "metadata": {},
   "outputs": [
    {
     "name": "stdout",
     "output_type": "stream",
     "text": [
      "0: x:[0.99985886 4.99719    3.7528415  1.2499943 ], dir:[-1.4112849e-04 -2.8102221e-03 -1.2471585e+00  2.4999431e-01], alpha:1.0, max_viol:12.0\n",
      "1: x:[1.0000635 4.567744  4.082198  1.3306595], dir:[ 2.0472695e-04 -4.2944622e-01  3.2935661e-01  8.0665261e-02], alpha:1.0, max_viol:1.6179313659667969\n",
      "2: x:[1.0000005 4.6973457 3.8890197 1.3659519], dir:[-6.3077670e-05  1.2960210e-01 -1.9317833e-01  3.5292350e-02], alpha:1.0, max_viol:0.299407958984375\n",
      "3: x:[1.0000219 4.728714  3.8403277 1.376433 ], dir:[ 2.1410697e-05  3.1368159e-02 -4.8692092e-02  1.0481072e-02], alpha:1.0, max_viol:0.05535888671875\n",
      "4: x:[0.99999595 4.7435794  3.8204956  1.3794568 ], dir:[-2.6011288e-05  1.4865272e-02 -1.9832024e-02  3.0237255e-03], alpha:1.0, max_viol:0.003688812255859375\n"
     ]
    }
   ],
   "source": [
    "x0 = jnp.array([1.0, 5.0, 5.0, 1.0]) # TODO: make initiaal guess feasible\n",
    "xsol = sqp.solve(x0)"
   ]
  },
  {
   "cell_type": "code",
   "execution_count": 46,
   "metadata": {},
   "outputs": [
    {
     "name": "stdout",
     "output_type": "stream",
     "text": [
      "11 ms ± 318 µs per loop (mean ± std. dev. of 7 runs, 100 loops each)\n"
     ]
    }
   ],
   "source": [
    "%timeit sqp.solve(x0)"
   ]
  },
  {
   "cell_type": "code",
   "execution_count": 22,
   "metadata": {},
   "outputs": [
    {
     "data": {
      "text/plain": [
       "Array([1.        , 4.73975686, 3.82544392, 1.37878578], dtype=float64)"
      ]
     },
     "execution_count": 22,
     "metadata": {},
     "output_type": "execute_result"
    }
   ],
   "source": [
    "sqp.solve(xsol)"
   ]
  },
  {
   "cell_type": "code",
   "execution_count": 3,
   "metadata": {},
   "outputs": [],
   "source": [
    "# init\n",
    "x0 = jnp.array([1.0, 5.0, 5.0, 1.0]) # TODO: make initial guess feasible\n",
    "lmbda0 = jnp.zeros(nlp.g_dim+nlp.h_dim)\n",
    "\n",
    "PqGhAb = nlp.get_PqGhAb_fn()\n",
    "merit_fn = nlp.get_merit_fn()\n",
    "backtrack = nlp.get_backtrack_fn()\n",
    "fdiff_fn = lambda x1, x2: jnp.abs(nlp.f(x2) - nlp.f(x1))\n",
    "gh_fn = nlp.get_gh()\n",
    "\n",
    "PqGhAb = jax.jit(PqGhAb).lower(x0, lmbda0).compile()\n",
    "merit_fn = jax.jit(merit_fn).lower(x0, 1.).compile()\n",
    "fdiff_fn = jax.jit(fdiff_fn).lower(x0, x0).compile()\n",
    "\n",
    "\n",
    "grad_and_const_viol = nlp.get_grad_and_const_viol()\n",
    "is_qp_setup = False"
   ]
  },
  {
   "cell_type": "code",
   "execution_count": 4,
   "metadata": {},
   "outputs": [],
   "source": [
    "x = x0.copy()\n",
    "lmbda = lmbda0.copy()\n",
    "sigma = 0.\n",
    "it = 0"
   ]
  },
  {
   "cell_type": "code",
   "execution_count": 5,
   "metadata": {},
   "outputs": [
    {
     "name": "stdout",
     "output_type": "stream",
     "text": [
      "QP solved\n",
      "0\n",
      "xdiff:1.1641532182693481e-09, fdiff:3.147988536511548e-10, max_viol:12.0\n",
      "x:[1. 5. 5. 1.], alpha:9.313225746154785e-10\n",
      "QP solved\n",
      "1\n",
      "xdiff:1.249999999166853, fdiff:0.062499999478845325, max_viol:11.999999988824129\n",
      "x:[1.   5.   3.75 1.25], alpha:1.0\n",
      "QP solved\n",
      "2\n",
      "xdiff:0.4343480808709526, fdiff:0.9846040134799985, max_viol:1.6249999979227638\n",
      "x:[1.         4.56565192 4.08580199 1.32998636], alpha:1.0\n",
      "QP solved\n",
      "3\n",
      "xdiff:0.19569909302324912, fdiff:0.06072529788424319, max_viol:0.3078190485582297\n",
      "x:[1.         4.69666698 3.8901029  1.3657078 ], alpha:1.0\n",
      "QP solved\n",
      "4\n",
      "xdiff:0.04940514744966446, fdiff:0.029136839675199866, max_viol:0.056739104003284524\n",
      "x:[1.         4.72842845 3.84069775 1.37643377], alpha:1.0\n",
      "QP solved\n",
      "5\n",
      "xdiff:0.015253824613792275, fdiff:0.0018406184953647653, max_viol:0.003564705535183066\n",
      "x:[1.         4.73975686 3.82544392 1.37878578], alpha:1.0\n",
      "elapsed:2.1857571601867676\n"
     ]
    }
   ],
   "source": [
    "import time\n",
    "tic = time.time()\n",
    "for i in range(100):\n",
    "    P, q, G, h, A, b = PqGhAb(x, lmbda)\n",
    "    \n",
    "    P_ = sparse.csc_matrix(P)\n",
    "    q_ = np.asarray(q)\n",
    "    A_ = sparse.csc_matrix(np.vstack([A, G]))\n",
    "    u_ = np.hstack([-b, -h])\n",
    "    l_ = np.hstack([-b, np.full(len(h), -np.inf)])\n",
    "    \n",
    "    if is_qp_setup == False:\n",
    "        opts = {\"verbose\":False, \"polish\":True}\n",
    "        qpsolver.setup(P_, q_, A_, l_, u_, **opts)\n",
    "        is_qp_setup = True\n",
    "    else:\n",
    "        qpsolver.update(Px=P_.data, q=q_, Ax=A_.data, l=l_, u=u_)\n",
    "    res = qpsolver.solve()\n",
    "    if res.info.status != \"solved\":\n",
    "        print(\"QP infeasible!\")\n",
    "        raise ValueError()\n",
    "    else:\n",
    "        print(\"QP solved\")\n",
    "    direction = jnp.asarray(res.x)\n",
    "\n",
    "    alpha = backtrack(x, direction, merit_fn, sigma=sigma)\n",
    "    xdiff = alpha * direction\n",
    "    xdiff_max = jnp.linalg.norm(xdiff, jnp.inf)\n",
    "    fdiff = fdiff_fn(x, x + xdiff)\n",
    "    max_viol, max_grad = grad_and_const_viol(x, lmbda)\n",
    "\n",
    "    #update\n",
    "    x = x + xdiff\n",
    "    lmbda = (1-alpha)*lmbda + alpha * res.y\n",
    "    sigma = jnp.max(jnp.abs(jnp.hstack([1.01*res.y, sigma])))\n",
    "    \n",
    "    print(i)\n",
    "    print(f\"xdiff:{xdiff_max}, fdiff:{fdiff}, max_viol:{max_viol}\")\n",
    "    print(f\"x:{x}, alpha:{alpha}\")\n",
    "    if max_viol < 0.01:\n",
    "        break\n",
    "print(f\"elapsed:{time.time() - tic}\")"
   ]
  },
  {
   "cell_type": "code",
   "execution_count": null,
   "metadata": {},
   "outputs": [],
   "source": []
  },
  {
   "cell_type": "code",
   "execution_count": 84,
   "metadata": {},
   "outputs": [
    {
     "data": {
      "text/plain": [
       "Array(1.0267321, dtype=float32)"
      ]
     },
     "execution_count": 84,
     "metadata": {},
     "output_type": "execute_result"
    }
   ],
   "source": [
    "sigma"
   ]
  },
  {
   "cell_type": "code",
   "execution_count": 83,
   "metadata": {},
   "outputs": [
    {
     "data": {
      "text/plain": [
       "Array([ 0.08796829, -0.00585553, -1.2441235 ,  0.16194648], dtype=float32)"
      ]
     },
     "execution_count": 83,
     "metadata": {},
     "output_type": "execute_result"
    }
   ],
   "source": [
    "direction"
   ]
  },
  {
   "cell_type": "code",
   "execution_count": 179,
   "metadata": {},
   "outputs": [
    {
     "data": {
      "text/plain": [
       "Array(True, dtype=bool)"
      ]
     },
     "execution_count": 179,
     "metadata": {},
     "output_type": "execute_result"
    }
   ],
   "source": [
    "ctol = 0.01\n",
    "cl = jnp.hstack([jnp.zeros(nlp.g_dim), jnp.full(nlp.h_dim, -jnp.inf)]) - ctol\n",
    "cu = jnp.zeros(nlp.g_dim+nlp.h_dim) + ctol\n",
    "\n",
    "((cl < gh_fn(x)) & (gh_fn(x) < cu)).all()"
   ]
  },
  {
   "cell_type": "code",
   "execution_count": 153,
   "metadata": {},
   "outputs": [
    {
     "data": {
      "text/plain": [
       "Array(0.04976868, dtype=float32)"
      ]
     },
     "execution_count": 153,
     "metadata": {},
     "output_type": "execute_result"
    }
   ],
   "source": [
    "jnp.max(jnp.hstack([cl - gh_fn(x), gh_fn(x) - cu]))"
   ]
  },
  {
   "cell_type": "code",
   "execution_count": 134,
   "metadata": {},
   "outputs": [
    {
     "data": {
      "text/plain": [
       "Array([ 0.05768418,  0.04433655, -0.01000727, -3.7475054 , -2.8496766 ,\n",
       "       -0.38134754, -4.009993  , -0.27249455, -1.1703234 , -3.6386526 ],      dtype=float32)"
      ]
     },
     "execution_count": 134,
     "metadata": {},
     "output_type": "execute_result"
    }
   ],
   "source": [
    "gh_fn(x) - cu"
   ]
  },
  {
   "cell_type": "code",
   "execution_count": 49,
   "metadata": {},
   "outputs": [
    {
     "data": {
      "text/plain": [
       "Array([ 3.0654144e-01,  3.0376816e-01,  4.4703484e-05, -3.7556133e+00,\n",
       "       -2.8572013e+00, -3.4639120e-01, -4.0000448e+00, -2.4438667e-01,\n",
       "       -1.1427987e+00, -3.6536088e+00], dtype=float32)"
      ]
     },
     "execution_count": 49,
     "metadata": {},
     "output_type": "execute_result"
    }
   ],
   "source": [
    "gh_fn(x)"
   ]
  },
  {
   "cell_type": "code",
   "execution_count": 48,
   "metadata": {},
   "outputs": [
    {
     "data": {
      "text/plain": [
       "Array([False, False,  True,  True,  True,  True,  True,  True,  True,\n",
       "        True], dtype=bool)"
      ]
     },
     "execution_count": 48,
     "metadata": {},
     "output_type": "execute_result"
    }
   ],
   "source": [
    "gh_fn(x) < cu"
   ]
  },
  {
   "cell_type": "code",
   "execution_count": 102,
   "metadata": {},
   "outputs": [],
   "source": []
  },
  {
   "cell_type": "code",
   "execution_count": null,
   "metadata": {},
   "outputs": [],
   "source": []
  },
  {
   "cell_type": "code",
   "execution_count": 9,
   "metadata": {},
   "outputs": [
    {
     "name": "stdout",
     "output_type": "stream",
     "text": [
      "158 µs ± 1.27 µs per loop (mean ± std. dev. of 7 runs, 10,000 loops each)\n"
     ]
    }
   ],
   "source": [
    "%timeit PqAul(x0, lmbda0)"
   ]
  },
  {
   "cell_type": "code",
   "execution_count": null,
   "metadata": {},
   "outputs": [],
   "source": []
  },
  {
   "cell_type": "code",
   "execution_count": 21,
   "metadata": {},
   "outputs": [],
   "source": [
    "class NLPProb:\n",
    "    def __init__(self, dim):\n",
    "        self.dim = dim\n",
    "        self.f = None\n",
    "        self._g = [] # eq = 0.\n",
    "        self._h = [] # ineq <= 0.\n",
    "    \n",
    "    @staticmethod\n",
    "    def get_eq_const(fn, val):\n",
    "        result = lambda x: fn(x) - val\n",
    "        return result\n",
    "    @staticmethod\n",
    "    def get_ineq_const_lb(fn, lb):\n",
    "        result = lambda x: -fn(x) + lb\n",
    "        return result\n",
    "    @staticmethod\n",
    "    def get_ineq_const_ub(fn, ub):\n",
    "        result = lambda x: fn(x) - ub\n",
    "        return result\n",
    "    \n",
    "    def get_ineq_const_b(self, fn, lb, ub):\n",
    "        lb_fn = self.get_ineq_const_lb(fn, lb)\n",
    "        ub_fn = self.get_ineq_const_ub(fn, ub)\n",
    "        def result(x):\n",
    "            return jnp.hstack([lb_fn(x), ub_fn(x)])\n",
    "        return result\n",
    "    \n",
    "    @staticmethod\n",
    "    def get_state_bound_fn(lb, ub):\n",
    "        def state_bound_fn(x):\n",
    "            return jnp.hstack([x - ub, -x + lb])\n",
    "        return state_bound_fn\n",
    "    \n",
    "    def set_f(self, fn):\n",
    "        self.f = fn\n",
    "    \n",
    "    def add_eq_const(self, fn, val):\n",
    "        self._g.append(self.get_eq_const(fn, val))\n",
    "\n",
    "    def add_ineq_const_lb(self, fn, lb):\n",
    "        self._h.append(self.get_ineq_const_lb(fn, lb))\n",
    "    \n",
    "    def add_ineq_const_ub(self, fn, ub):\n",
    "        self._h.append(self.get_ineq_const_ub(fn, ub))\n",
    "\n",
    "    def add_ineq_const_b(self, fn, lb, ub):\n",
    "        self._h.append(self.get_ineq_const_lb(fn, lb))\n",
    "        self._h.append(self.get_ineq_const_ub(fn, ub))\n",
    "    \n",
    "    def set_state_bound(self, xlb, xub):\n",
    "        self._h.append(self.get_state_bound_fn(xlb, xub))\n",
    "    \n",
    "    def get_g(self):\n",
    "        return lambda x: jnp.hstack([fn(x) for fn in self._g])\n",
    "    \n",
    "    def get_h(self):\n",
    "        return lambda x: jnp.hstack([fn(x) for fn in self._h])\n",
    "\n",
    "    def get_gh(self):\n",
    "        return lambda x: jnp.hstack([fn(x) for fn in self._g+self._h])\n",
    "    \n",
    "    def get_lagrangian(self):\n",
    "        gh = self.get_gh()\n",
    "        return lambda x, lmbda: self.f(x) + gh(x) @ lmbda\n",
    "    \n",
    "    def get_g_dim(self):\n",
    "        g = self.get_g()\n",
    "        return len(g(jnp.zeros(self.dim)))\n",
    "    \n",
    "    def get_h_dim(self):\n",
    "        h = self.get_h()\n",
    "        return len(h(jnp.zeros(self.dim)))\n",
    "    \n",
    "    def get_lag_mult_dim(self):\n",
    "        gh = self.get_gh()\n",
    "        return len(gh(jnp.zeros(self.dim)))\n",
    "    \n",
    "    def get_merit_fn(self):\n",
    "        sigma = 1.0\n",
    "        f = self.f\n",
    "        g = self.get_g()\n",
    "        h = self.get_h()\n",
    "        def merit_fn(x):\n",
    "            eq_norm = jnp.linalg.norm(g(x), 1)\n",
    "            ineq_norm = jnp.linalg.norm(jnp.clip(h(x), a_min=0), 1)\n",
    "            return f(x) + sigma * (eq_norm + ineq_norm)\n",
    "        return merit_fn"
   ]
  },
  {
   "cell_type": "code",
   "execution_count": 22,
   "metadata": {},
   "outputs": [],
   "source": [
    "def backtrack(\n",
    "    x_k,\n",
    "    direction,\n",
    "    merit_fn,\n",
    "    alpha=1.,\n",
    "    beta=0.5,\n",
    "    max_iter=30,\n",
    "):\n",
    "    curr_merit = merit_fn(x_k)\n",
    "    next_merit = merit_fn(x_k + alpha * direction)\n",
    "\n",
    "    n_iter = 0\n",
    "    while (next_merit >= curr_merit) and (n_iter < max_iter):\n",
    "        alpha *= beta\n",
    "        next_merit = merit_fn(x_k + alpha * direction)\n",
    "        n_iter += 1\n",
    "    if n_iter == max_iter:\n",
    "        print(f'Backtracking failed to find alpha after {max_iter} iterations!')\n",
    "\n",
    "    return alpha"
   ]
  },
  {
   "cell_type": "code",
   "execution_count": 23,
   "metadata": {},
   "outputs": [],
   "source": [
    "prob = NLPProb(4)\n",
    "prob.set_f(\n",
    "    lambda x:x[0] * x[3] * jnp.sum(x[:3]) + x[2]\n",
    ")\n",
    "prob.add_eq_const(lambda x:jnp.sum(x**2), 40)\n",
    "prob.add_ineq_const_lb(lambda x:jnp.prod(x), 25)\n",
    "prob.set_state_bound(jnp.full(4, 1), jnp.full(4, 5))"
   ]
  },
  {
   "cell_type": "code",
   "execution_count": 24,
   "metadata": {},
   "outputs": [],
   "source": [
    "lag_hess = jax.hessian(prob.get_lagrangian())\n",
    "f_grad = jax.grad(prob.f)\n",
    "gh = prob.get_gh()\n",
    "gh_grad = jax.jacrev(prob.get_gh())\n",
    "merit_fn = prob.get_merit_fn()"
   ]
  },
  {
   "cell_type": "code",
   "execution_count": 25,
   "metadata": {},
   "outputs": [],
   "source": [
    "# init\n",
    "x0 = jnp.array([1.0, 5.0, 5.0, 1.0])\n",
    "lmbda0 = jnp.zeros(prob.get_lag_mult_dim())\n",
    "x = x0.copy()\n",
    "lmbda = lmbda0.copy()"
   ]
  },
  {
   "attachments": {},
   "cell_type": "markdown",
   "metadata": {},
   "source": [
    "### iter"
   ]
  },
  {
   "cell_type": "code",
   "execution_count": 356,
   "metadata": {},
   "outputs": [],
   "source": [
    "eq_dim = prob.get_g_dim()\n",
    "ineq_dim = prob.get_h_dim()\n",
    "P = lag_hess(x, jnp.zeros(10))\n",
    "q = f_grad(x)\n",
    "A = gh_grad(x)\n",
    "u = -gh(x)\n",
    "l = jnp.hstack([u[:eq_dim], jnp.full(ineq_dim, -jnp.inf)])"
   ]
  },
  {
   "cell_type": "code",
   "execution_count": 357,
   "metadata": {},
   "outputs": [],
   "source": [
    "#regularization\n",
    "if jnp.isnan(jnp.linalg.cholesky(P)).any():\n",
    "    eigs, vecs = jnp.linalg.eigh(P)\n",
    "    delta = 1e-6\n",
    "    eigs_modified = jnp.where(eigs < delta, delta, eigs)\n",
    "    P = vecs @ jnp.diag(eigs_modified) @ vecs.T\n",
    "\n",
    "P = sparse.csc_matrix(P)\n",
    "q = np.asarray(q)\n",
    "A = sparse.csc_matrix(A)\n",
    "l = np.asarray(l)\n",
    "u = np.asarray(u)"
   ]
  },
  {
   "cell_type": "code",
   "execution_count": 366,
   "metadata": {},
   "outputs": [
    {
     "name": "stdout",
     "output_type": "stream",
     "text": [
      "QP solved\n"
     ]
    }
   ],
   "source": [
    "solver = osqp.OSQP()\n",
    "solver.setup(P, q, A, l, u, verbose=False)\n",
    "res = solver.solve()\n",
    "if res.info.status != \"solved\":\n",
    "    print(\"QP infeasible!\")\n",
    "else:\n",
    "    print(\"QP solved\")"
   ]
  },
  {
   "cell_type": "code",
   "execution_count": 359,
   "metadata": {},
   "outputs": [
    {
     "name": "stdout",
     "output_type": "stream",
     "text": [
      "curr_merit:17.231197357177734, next_merit:17.224365234375\n",
      "x:[1.0000093 4.8189845 3.7490077 1.3751227], alpha:0.0625\n"
     ]
    }
   ],
   "source": [
    "direction = jnp.asarray(res.x)\n",
    "alpha = backtrack(x, direction, merit_fn)\n",
    "print(f\"curr_merit:{merit_fn(x)}, next_merit:{merit_fn(x+direction*alpha)}\")\n",
    "print(f\"x:{x}, alpha:{alpha}\")"
   ]
  },
  {
   "cell_type": "code",
   "execution_count": 360,
   "metadata": {},
   "outputs": [],
   "source": [
    "x += alpha * direction\n",
    "lmbda = (1-alpha)*lmbda + alpha * res.y"
   ]
  },
  {
   "cell_type": "code",
   "execution_count": 115,
   "metadata": {},
   "outputs": [],
   "source": [
    "eq_consts = [eq_const]  # = 0.\n",
    "ineq_consts = [ineq_const, state_bound] # <= 0.\n",
    "consts_fns = [] + eq_consts + ineq_consts\n",
    "_g = lambda x: jnp.hstack([c_fn(x) for c_fn in consts_fns])\n",
    "n_eq = len(eq_consts)\n",
    "n_ineq = len(ineq_consts)\n",
    "lbg, ubg = jnp.zeros(n_eq), jnp.zeros(n_eq)\n",
    "lbh, ubh = jnp.zeros(n_ineq), jnp.full(n_ineq, jnp.inf)"
   ]
  },
  {
   "cell_type": "code",
   "execution_count": 116,
   "metadata": {},
   "outputs": [],
   "source": [
    "#lagrangian\n",
    "lag = lambda x, lmbda: f(x) + _g(x) @ lmbda"
   ]
  },
  {
   "cell_type": "code",
   "execution_count": 117,
   "metadata": {},
   "outputs": [],
   "source": [
    "lag_hess = jax.hessian(lag)\n",
    "f_grad = jax.grad(f)\n",
    "g_grad = jax.jacrev(_g)"
   ]
  },
  {
   "cell_type": "code",
   "execution_count": 71,
   "metadata": {},
   "outputs": [],
   "source": [
    "B = lag_hess(x0, lmbda0)\n",
    "grad_f = np.asarray(f_grad(x0))\n",
    "grad_g = g_grad(x0)\n",
    "val_g = _g(x0)\n",
    "lbg = np.array([0., 25])\n",
    "ubg = np.array([40., jnp.inf])"
   ]
  },
  {
   "cell_type": "code",
   "execution_count": 93,
   "metadata": {},
   "outputs": [],
   "source": [
    "\n",
    "prob = osqp.OSQP()"
   ]
  },
  {
   "cell_type": "code",
   "execution_count": 94,
   "metadata": {},
   "outputs": [
    {
     "name": "stdout",
     "output_type": "stream",
     "text": [
      "-----------------------------------------------------------------\n",
      "           OSQP v0.6.2  -  Operator Splitting QP Solver\n",
      "              (c) Bartolomeo Stellato,  Goran Banjac\n",
      "        University of Oxford  -  Stanford University 2021\n",
      "-----------------------------------------------------------------\n",
      "problem:  variables n = 4, constraints m = 2\n",
      "          nnz(P) + nnz(A) = 18\n",
      "settings: linear system solver = qdldl,\n",
      "          eps_abs = 1.0e-03, eps_rel = 1.0e-03,\n",
      "          eps_prim_inf = 1.0e-04, eps_dual_inf = 1.0e-04,\n",
      "          rho = 1.00e-01 (adaptive),\n",
      "          sigma = 1.00e-06, alpha = 1.60, max_iter = 4000\n",
      "          check_termination: on (interval 25),\n",
      "          scaling: on, scaled_termination: off\n",
      "          warm start: on, polish: off, time_limit: off\n",
      "\n"
     ]
    }
   ],
   "source": [
    "prob.setup(sparse.csc_matrix(B), grad_f, sparse.csc_matrix(grad_g), lbg, ubg)"
   ]
  },
  {
   "cell_type": "code",
   "execution_count": 95,
   "metadata": {},
   "outputs": [
    {
     "name": "stdout",
     "output_type": "stream",
     "text": [
      "iter   objective    pri res    dua res    rho        time\n",
      "   1  -3.0971e+04   4.00e+01   9.60e+03   1.00e-01   1.22e-04s\n",
      "  25  -1.0000e+30   1.23e-02   1.01e+00   1.00e-01   5.41e-04s\n",
      "\n",
      "status:               dual infeasible\n",
      "number of iterations: 25\n",
      "run time:             7.19e-04s\n",
      "optimal rho estimate: 3.77e-03\n",
      "\n"
     ]
    }
   ],
   "source": [
    "res = prob.solve()"
   ]
  },
  {
   "cell_type": "code",
   "execution_count": 96,
   "metadata": {},
   "outputs": [
    {
     "data": {
      "text/plain": [
       "array([None, None, None, None], dtype=object)"
      ]
     },
     "execution_count": 96,
     "metadata": {},
     "output_type": "execute_result"
    }
   ],
   "source": [
    "n_dim = 4\n",
    "n_eq, n_ineq = 1, 1\n",
    "n_s = 2* n_eq + n_g\n",
    "new_B = jnp.block([\n",
    "    B, jnp.zeros((n_dim, ))\n",
    "])"
   ]
  }
 ],
 "metadata": {
  "kernelspec": {
   "display_name": "cu11",
   "language": "python",
   "name": "python3"
  },
  "language_info": {
   "codemirror_mode": {
    "name": "ipython",
    "version": 3
   },
   "file_extension": ".py",
   "mimetype": "text/x-python",
   "name": "python",
   "nbconvert_exporter": "python",
   "pygments_lexer": "ipython3",
   "version": "3.8.16"
  },
  "orig_nbformat": 4
 },
 "nbformat": 4,
 "nbformat_minor": 2
}
