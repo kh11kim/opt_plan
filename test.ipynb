{
 "cells": [
  {
   "cell_type": "code",
   "execution_count": 1,
   "metadata": {},
   "outputs": [],
   "source": [
    "from test_casadi import *\n",
    "import casadi as cs"
   ]
  },
  {
   "cell_type": "code",
   "execution_count": 2,
   "metadata": {},
   "outputs": [],
   "source": [
    "x = cs.SX.sym(\"x\", 4)"
   ]
  },
  {
   "cell_type": "code",
   "execution_count": 3,
   "metadata": {},
   "outputs": [],
   "source": [
    "f = x[0]*x[3]*cs.sum1(x[:3]) + x[2]\n",
    "geq = cs.sumsqr(x)\n",
    "gineq = x[0]*x[1]*x[2]*x[3]\n",
    "g = cs.vertcat(geq, gineq)\n",
    "nlp = {'x':x, 'f':f, 'g':g}"
   ]
  },
  {
   "cell_type": "code",
   "execution_count": 4,
   "metadata": {},
   "outputs": [
    {
     "name": "stdout",
     "output_type": "stream",
     "text": [
      "\n",
      "qpOASES -- An Implementation of the Online Active Set Strategy.\n",
      "Copyright (C) 2007-2015 by Hans Joachim Ferreau, Andreas Potschka,\n",
      "Christian Kirches et al. All rights reserved.\n",
      "\n",
      "qpOASES is distributed under the terms of the \n",
      "GNU Lesser General Public License 2.1 in the hope that it will be \n",
      "useful, but WITHOUT ANY WARRANTY; without even the implied warranty \n",
      "of MERCHANTABILITY or FITNESS FOR A PARTICULAR PURPOSE. \n",
      "See the GNU Lesser General Public License for more details.\n",
      "\n",
      "-------------------------------------------\n",
      "This is casadi::Sqpmethod.\n",
      "Using exact Hessian\n",
      "Number of variables:                               4\n",
      "Number of constraints:                             2\n",
      "Number of nonzeros in constraint Jacobian:         8\n",
      "Number of nonzeros in Lagrangian Hessian:         16\n",
      "\n"
     ]
    }
   ],
   "source": [
    "opts=dict(\n",
    "    qpsol=\"qpoases\",\n",
    "    qpsol_options={\"printLevel\":\"none\"}\n",
    ")\n",
    "solver = cs.nlpsol(\"solver\", \"sqpmethod\", nlp, opts)"
   ]
  },
  {
   "cell_type": "code",
   "execution_count": 7,
   "metadata": {},
   "outputs": [
    {
     "name": "stdout",
     "output_type": "stream",
     "text": [
      "iter      objective    inf_pr    inf_du     ||d||  lg(rg) ls    info\n",
      "   0   1.600000e+01  1.20e+01  1.20e+01  0.00e+00       -  0  - \n",
      "WARNING(sqpmethod): Indefinite Hessian detected\n",
      "   1   1.625000e+01  1.62e+00  2.81e+00  1.25e+00       -  1  - \n",
      "WARNING(sqpmethod): Indefinite Hessian detected\n",
      "   2   1.622379e+01  1.38e+00  5.06e-01  2.86e-01       -  1  - \n",
      "   3   1.700011e+01  2.22e-02  4.16e-02  9.27e-02       -  1  - \n",
      "   4   1.701398e+01  7.28e-05  4.22e-05  6.09e-03       -  1  - \n",
      "   5   1.701402e+01  1.91e-09  8.46e-10  3.58e-05       -  1  - \n",
      "MESSAGE(sqpmethod): Convergence achieved after 5 iterations\n",
      "      solver  :   t_proc      (avg)   t_wall      (avg)    n_eval\n",
      "          QP  | 117.00us ( 23.40us) 111.60us ( 22.32us)         5\n",
      "  linesearch  |  16.00us (  3.20us)  14.71us (  2.94us)         5\n",
      "      nlp_fg  |  18.00us (  1.20us)  16.11us (  1.07us)        15\n",
      "  nlp_hess_l  |  20.00us (  1.33us)  18.07us (  1.20us)        15\n",
      "  nlp_jac_fg  |  25.00us (  1.39us)  25.99us (  1.44us)        18\n",
      "       total  | 272.00us (272.00us) 261.88us (261.88us)         1\n"
     ]
    }
   ],
   "source": [
    "x0 = [1., 5., 5., 1.]\n",
    "lbx, ubx = 1, 5\n",
    "lbg = [40., 25.]\n",
    "ubg = [40., cs.inf]\n",
    "sol = solver(x0=x0, lbx=lbx, ubx=ubx, lbg=lbg, ubg=ubg)"
   ]
  },
  {
   "cell_type": "code",
   "execution_count": 8,
   "metadata": {},
   "outputs": [],
   "source": [
    "#f = x[0]*x[3]*cs.sum1(x[:3]) + x[2]\n",
    "x = cs.MX.sym('x', 4, 1)\n",
    "fn = jax.jit(lambda x: x[0]*x[3]*jnp.sum(x[:3]) + x[2])\n",
    "f = JaxFn(4, 1, fn)\n",
    "geq = cs.sumsqr(x)\n",
    "gineq = x[0]*x[1]*x[2]*x[3]\n",
    "g = cs.vertcat(geq, gineq)\n",
    "\n",
    "nlp = {'x':x, 'f':f(x), 'g':g}"
   ]
  },
  {
   "cell_type": "code",
   "execution_count": 10,
   "metadata": {},
   "outputs": [
    {
     "name": "stdout",
     "output_type": "stream",
     "text": [
      "\n",
      "qpOASES -- An Implementation of the Online Active Set Strategy.\n",
      "Copyright (C) 2007-2015 by Hans Joachim Ferreau, Andreas Potschka,\n",
      "Christian Kirches et al. All rights reserved.\n",
      "\n",
      "qpOASES is distributed under the terms of the \n",
      "GNU Lesser General Public License 2.1 in the hope that it will be \n",
      "useful, but WITHOUT ANY WARRANTY; without even the implied warranty \n",
      "of MERCHANTABILITY or FITNESS FOR A PARTICULAR PURPOSE. \n",
      "See the GNU Lesser General Public License for more details.\n",
      "\n",
      "-------------------------------------------\n",
      "This is casadi::Sqpmethod.\n",
      "Using limited memory BFGS Hessian approximation\n",
      "Number of variables:                               4\n",
      "Number of constraints:                             2\n",
      "Number of nonzeros in constraint Jacobian:         8\n",
      "Number of nonzeros in Lagrangian Hessian:         16\n",
      "\n"
     ]
    }
   ],
   "source": [
    "opts=dict(qpsol=\"qpoases\",\n",
    "          qpsol_options={\"printLevel\":\"none\"},\n",
    "          hessian_approximation=\"limited-memory\")\n",
    "solver = cs.nlpsol(\"solver\", \"sqpmethod\", nlp, opts)"
   ]
  },
  {
   "cell_type": "code",
   "execution_count": 11,
   "metadata": {},
   "outputs": [
    {
     "ename": "TypeError",
     "evalue": "Cannot apply JAX transformations to a function lowered and compiled for a particular signature. Detected argument of Tracer type <class 'jax._src.interpreters.partial_eval.DynamicJaxprTracer'>.",
     "output_type": "error",
     "traceback": [
      "\u001b[0;31m---------------------------------------------------------------------------\u001b[0m",
      "\u001b[0;31mTypeError\u001b[0m                                 Traceback (most recent call last)",
      "    \u001b[0;31m[... skipping hidden 1 frame]\u001b[0m\n",
      "File \u001b[0;32m~/miniconda3/envs/optas/lib/python3.8/site-packages/jax/_src/interpreters/pxla.py:3175\u001b[0m, in \u001b[0;36mMeshExecutable.call\u001b[0;34m(self, *args)\u001b[0m\n\u001b[1;32m   3174\u001b[0m kept_args \u001b[39m=\u001b[39m [a \u001b[39mfor\u001b[39;00m i, a \u001b[39min\u001b[39;00m \u001b[39menumerate\u001b[39m(args) \u001b[39mif\u001b[39;00m i \u001b[39min\u001b[39;00m \u001b[39mself\u001b[39m\u001b[39m.\u001b[39m_kept_var_idx]\n\u001b[0;32m-> 3175\u001b[0m arg_avals \u001b[39m=\u001b[39m \u001b[39mmap\u001b[39;49m(xla\u001b[39m.\u001b[39;49mabstractify, kept_args)\n\u001b[1;32m   3176\u001b[0m ref_avals \u001b[39m=\u001b[39m \u001b[39mself\u001b[39m\u001b[39m.\u001b[39min_avals\n",
      "File \u001b[0;32m~/miniconda3/envs/optas/lib/python3.8/site-packages/jax/_src/util.py:78\u001b[0m, in \u001b[0;36msafe_map\u001b[0;34m(f, *args)\u001b[0m\n\u001b[1;32m     77\u001b[0m   \u001b[39massert\u001b[39;00m \u001b[39mlen\u001b[39m(arg) \u001b[39m==\u001b[39m n, \u001b[39mf\u001b[39m\u001b[39m'\u001b[39m\u001b[39mlength mismatch: \u001b[39m\u001b[39m{\u001b[39;00m\u001b[39mlist\u001b[39m(\u001b[39mmap\u001b[39m(\u001b[39mlen\u001b[39m, args))\u001b[39m}\u001b[39;00m\u001b[39m'\u001b[39m\n\u001b[0;32m---> 78\u001b[0m \u001b[39mreturn\u001b[39;00m \u001b[39mlist\u001b[39;49m(\u001b[39mmap\u001b[39;49m(f, \u001b[39m*\u001b[39;49margs))\n",
      "File \u001b[0;32m~/miniconda3/envs/optas/lib/python3.8/site-packages/jax/_src/interpreters/xla.py:203\u001b[0m, in \u001b[0;36mabstractify\u001b[0;34m(x)\u001b[0m\n\u001b[1;32m    202\u001b[0m   \u001b[39mreturn\u001b[39;00m abstractify(x\u001b[39m.\u001b[39m__jax_array__())\n\u001b[0;32m--> 203\u001b[0m \u001b[39mraise\u001b[39;00m \u001b[39mTypeError\u001b[39;00m(\u001b[39mf\u001b[39m\u001b[39m\"\u001b[39m\u001b[39mArgument \u001b[39m\u001b[39m'\u001b[39m\u001b[39m{\u001b[39;00mx\u001b[39m}\u001b[39;00m\u001b[39m'\u001b[39m\u001b[39m of type \u001b[39m\u001b[39m'\u001b[39m\u001b[39m{\u001b[39;00m\u001b[39mtype\u001b[39m(x)\u001b[39m}\u001b[39;00m\u001b[39m'\u001b[39m\u001b[39m is not a valid JAX type\u001b[39m\u001b[39m\"\u001b[39m)\n",
      "\u001b[0;31mTypeError\u001b[0m: Argument 'Traced<ShapedArray(float32[4])>with<DynamicJaxprTrace(level=1/0)>' of type '<class 'jax._src.interpreters.partial_eval.DynamicJaxprTracer'>' is not a valid JAX type",
      "\nThe above exception was the direct cause of the following exception:\n",
      "\u001b[0;31mTypeError\u001b[0m                                 Traceback (most recent call last)",
      "File \u001b[0;32m/media/polde/datadrive/ws/opt_plan/test_casadi.py:32\u001b[0m, in \u001b[0;36mJaxFn.eval\u001b[0;34m(self, arg)\u001b[0m\n\u001b[1;32m     29\u001b[0m \u001b[39mdef\u001b[39;00m \u001b[39meval\u001b[39m(\u001b[39mself\u001b[39m, arg):\n\u001b[1;32m     30\u001b[0m     \u001b[39m# Associate each tensorflow input with the numerical argument passed by CasADi\u001b[39;00m\n\u001b[1;32m     31\u001b[0m     x \u001b[39m=\u001b[39m jnp\u001b[39m.\u001b[39masarray(arg[\u001b[39m0\u001b[39m])\u001b[39m.\u001b[39mflatten()\n\u001b[0;32m---> 32\u001b[0m     ret \u001b[39m=\u001b[39m \u001b[39mself\u001b[39;49m\u001b[39m.\u001b[39;49mfn(x)\u001b[39m.\u001b[39mflatten()\n\u001b[1;32m     33\u001b[0m     \u001b[39mreturn\u001b[39;00m [cs\u001b[39m.\u001b[39mreshape(cs\u001b[39m.\u001b[39mvertcat(ret), \u001b[39m*\u001b[39m\u001b[39mself\u001b[39m\u001b[39m.\u001b[39my_dim)]\n",
      "    \u001b[0;31m[... skipping hidden 14 frame]\u001b[0m\n",
      "File \u001b[0;32m~/miniconda3/envs/optas/lib/python3.8/site-packages/jax/_src/stages.py:519\u001b[0m, in \u001b[0;36mCompiled.call\u001b[0;34m(*args, **kwargs)\u001b[0m\n\u001b[1;32m    517\u001b[0m \u001b[39mfor\u001b[39;00m arg \u001b[39min\u001b[39;00m args_flat:\n\u001b[1;32m    518\u001b[0m   \u001b[39mif\u001b[39;00m \u001b[39misinstance\u001b[39m(arg, core\u001b[39m.\u001b[39mTracer):\n\u001b[0;32m--> 519\u001b[0m     \u001b[39mraise\u001b[39;00m \u001b[39mTypeError\u001b[39;00m(\n\u001b[1;32m    520\u001b[0m         \u001b[39m\"\u001b[39m\u001b[39mCannot apply JAX transformations to a function lowered and \u001b[39m\u001b[39m\"\u001b[39m\n\u001b[1;32m    521\u001b[0m         \u001b[39m\"\u001b[39m\u001b[39mcompiled for a particular signature. Detected argument of \u001b[39m\u001b[39m\"\u001b[39m\n\u001b[1;32m    522\u001b[0m         \u001b[39mf\u001b[39m\u001b[39m\"\u001b[39m\u001b[39mTracer type \u001b[39m\u001b[39m{\u001b[39;00m\u001b[39mtype\u001b[39m(arg)\u001b[39m}\u001b[39;00m\u001b[39m.\u001b[39m\u001b[39m\"\u001b[39m) \u001b[39mfrom\u001b[39;00m \u001b[39me\u001b[39;00m\n\u001b[1;32m    523\u001b[0m \u001b[39melse\u001b[39;00m:\n\u001b[1;32m    524\u001b[0m   \u001b[39mraise\u001b[39;00m\n",
      "\u001b[0;31mTypeError\u001b[0m: Cannot apply JAX transformations to a function lowered and compiled for a particular signature. Detected argument of Tracer type <class 'jax._src.interpreters.partial_eval.DynamicJaxprTracer'>."
     ]
    },
    {
     "name": "stderr",
     "output_type": "stream",
     "text": [
      "Function JaxFn (0x3f2772e0)\n",
      "Input 0 (i0): [1, 5, 5, 1]\n",
      "Function nlp_jac_fg (0x2f36660)\n",
      "Input 0 (x): [1, 5, 5, 1]\n",
      "Input 1 (p): NULL\n"
     ]
    },
    {
     "ename": "RuntimeError",
     "evalue": "Error in Function::call for 'solver' [Sqpmethod] at .../casadi/core/function.cpp:1401:\nError in Function::call for 'solver' [Sqpmethod] at .../casadi/core/function.cpp:330:\n.../casadi/core/oracle_function.cpp:285: Error in solver:nlp_jac_fg:Error in Function::operator() for 'nlp_jac_fg' [MXFunction] at .../casadi/core/function.cpp:1482:\nError in Function::operator() for 'JaxFn' [CallbackInternal] at .../casadi/core/function.cpp:1482:\n.../casadi/core/function_internal.cpp:3629: Failed to evaluate 'eval_dm' for JaxFn:\n.../casadi/core/callback_internal.cpp:116: Error calling \"eval\" for object JaxFn:\n/work/swig/python/target3/source/casadiPYTHON_wrap.cxx:3810: Cannot apply JAX transformations to a function lowered and compiled for a particular signature. Detected argument of Tracer type <class 'jax._src.interpreters.partial_eval.DynamicJaxprTracer'>.",
     "output_type": "error",
     "traceback": [
      "\u001b[0;31m---------------------------------------------------------------------------\u001b[0m",
      "\u001b[0;31mRuntimeError\u001b[0m                              Traceback (most recent call last)",
      "Cell \u001b[0;32mIn[11], line 5\u001b[0m\n\u001b[1;32m      3\u001b[0m lbg \u001b[39m=\u001b[39m [\u001b[39m40.\u001b[39m, \u001b[39m25.\u001b[39m]\n\u001b[1;32m      4\u001b[0m ubg \u001b[39m=\u001b[39m [\u001b[39m40.\u001b[39m, cs\u001b[39m.\u001b[39minf]\n\u001b[0;32m----> 5\u001b[0m sol \u001b[39m=\u001b[39m solver(x0\u001b[39m=\u001b[39;49mx0, lbx\u001b[39m=\u001b[39;49mlbx, ubx\u001b[39m=\u001b[39;49mubx, lbg\u001b[39m=\u001b[39;49mlbg, ubg\u001b[39m=\u001b[39;49mubg)\n",
      "File \u001b[0;32m~/miniconda3/envs/optas/lib/python3.8/site-packages/casadi/casadi.py:23372\u001b[0m, in \u001b[0;36mFunction.__call__\u001b[0;34m(self, *args, **kwargs)\u001b[0m\n\u001b[1;32m  23369\u001b[0m       \u001b[39mreturn\u001b[39;00m \u001b[39mtuple\u001b[39m(ret)\n\u001b[1;32m  23370\u001b[0m   \u001b[39melse\u001b[39;00m:\n\u001b[1;32m  23371\u001b[0m \u001b[39m# Named inputs -> return dictionary\u001b[39;00m\n\u001b[0;32m> 23372\u001b[0m     \u001b[39mreturn\u001b[39;00m \u001b[39mself\u001b[39;49m\u001b[39m.\u001b[39;49mcall(kwargs)\n",
      "File \u001b[0;32m~/miniconda3/envs/optas/lib/python3.8/site-packages/casadi/casadi.py:20021\u001b[0m, in \u001b[0;36mFunction.call\u001b[0;34m(self, *args)\u001b[0m\n\u001b[1;32m  19850\u001b[0m \u001b[39mdef\u001b[39;00m \u001b[39mcall\u001b[39m(\u001b[39mself\u001b[39m, \u001b[39m*\u001b[39margs) \u001b[39m-\u001b[39m\u001b[39m>\u001b[39m \u001b[39m\"\u001b[39m\u001b[39mvoid\u001b[39m\u001b[39m\"\u001b[39m:\n\u001b[1;32m  19851\u001b[0m     \u001b[39m\"\"\"\u001b[39;00m\n\u001b[1;32m  19852\u001b[0m \u001b[39m      [INTERNAL] \u001b[39;00m\n\u001b[1;32m  19853\u001b[0m \n\u001b[0;32m   (...)\u001b[0m\n\u001b[1;32m  20019\u001b[0m \n\u001b[1;32m  20020\u001b[0m \u001b[39m    \"\"\"\u001b[39;00m\n\u001b[0;32m> 20021\u001b[0m     \u001b[39mreturn\u001b[39;00m _casadi\u001b[39m.\u001b[39;49mFunction_call(\u001b[39mself\u001b[39;49m, \u001b[39m*\u001b[39;49margs)\n",
      "\u001b[0;31mRuntimeError\u001b[0m: Error in Function::call for 'solver' [Sqpmethod] at .../casadi/core/function.cpp:1401:\nError in Function::call for 'solver' [Sqpmethod] at .../casadi/core/function.cpp:330:\n.../casadi/core/oracle_function.cpp:285: Error in solver:nlp_jac_fg:Error in Function::operator() for 'nlp_jac_fg' [MXFunction] at .../casadi/core/function.cpp:1482:\nError in Function::operator() for 'JaxFn' [CallbackInternal] at .../casadi/core/function.cpp:1482:\n.../casadi/core/function_internal.cpp:3629: Failed to evaluate 'eval_dm' for JaxFn:\n.../casadi/core/callback_internal.cpp:116: Error calling \"eval\" for object JaxFn:\n/work/swig/python/target3/source/casadiPYTHON_wrap.cxx:3810: Cannot apply JAX transformations to a function lowered and compiled for a particular signature. Detected argument of Tracer type <class 'jax._src.interpreters.partial_eval.DynamicJaxprTracer'>."
     ]
    }
   ],
   "source": [
    "x0 = [1., 5., 5., 1.]\n",
    "lbx, ubx = 1, 5\n",
    "lbg = [40., 25.]\n",
    "ubg = [40., cs.inf]\n",
    "sol = solver(x0=x0, lbx=lbx, ubx=ubx, lbg=lbg, ubg=ubg)"
   ]
  },
  {
   "cell_type": "code",
   "execution_count": 90,
   "metadata": {},
   "outputs": [
    {
     "data": {
      "text/plain": [
       "{'f': DM(17.014),\n",
       " 'g': DM([40, 25]),\n",
       " 'lam_g': DM([0.161469, -0.552294]),\n",
       " 'lam_p': DM(0x0),\n",
       " 'lam_x': DM([-1.08787, 0, 0, 0]),\n",
       " 'x': DM([1, 4.743, 3.82115, 1.37941])}"
      ]
     },
     "execution_count": 90,
     "metadata": {},
     "output_type": "execute_result"
    }
   ],
   "source": [
    "sol"
   ]
  },
  {
   "cell_type": "code",
   "execution_count": 63,
   "metadata": {},
   "outputs": [],
   "source": [
    "class Fn(cs.Callback):\n",
    "    def __init__(self, name, fn, opts={}):\n",
    "        self.fn = fn\n",
    "        cs.Callback.__init__(self)\n",
    "        self.construct(name, opts)\n",
    "\n",
    "    def eval(self, arg):\n",
    "        x = jnp.asarray(arg[0]).flatten()\n",
    "        y = cs.vertcat(self.fn(x))\n",
    "        return [y]"
   ]
  },
  {
   "cell_type": "code",
   "execution_count": 67,
   "metadata": {},
   "outputs": [],
   "source": [
    "f = Fn('obj', fn, {'enable_fd':True})"
   ]
  },
  {
   "cell_type": "code",
   "execution_count": 69,
   "metadata": {},
   "outputs": [
    {
     "ename": "RuntimeError",
     "evalue": "Error in Function::call for 'solver' [IpoptInterface] at .../casadi/core/function.cpp:1401:\nError in Function::call for 'solver' [IpoptInterface] at .../casadi/core/function.cpp:330:\n.../casadi/core/function_internal.hpp:1644: Input 0 (x0) has mismatching shape. Got 4-by-1. Allowed dimensions, in general, are:\n - The input dimension N-by-M (here 1-by-1)\n - A scalar, i.e. 1-by-1\n - M-by-N if N=1 or M=1 (i.e. a transposed vector)\n - N-by-M1 if K*M1=M for some K (argument repeated horizontally)\n - N-by-P*M, indicating evaluation with multiple arguments (P must be a multiple of 1 for consistency with previous inputs)",
     "output_type": "error",
     "traceback": [
      "\u001b[0;31m---------------------------------------------------------------------------\u001b[0m",
      "\u001b[0;31mRuntimeError\u001b[0m                              Traceback (most recent call last)",
      "Cell \u001b[0;32mIn[69], line 3\u001b[0m\n\u001b[1;32m      1\u001b[0m x \u001b[39m=\u001b[39m cs\u001b[39m.\u001b[39mMX\u001b[39m.\u001b[39msym(\u001b[39m\"\u001b[39m\u001b[39mx\u001b[39m\u001b[39m\"\u001b[39m)\n\u001b[1;32m      2\u001b[0m solver \u001b[39m=\u001b[39m cs\u001b[39m.\u001b[39mnlpsol(\u001b[39m\"\u001b[39m\u001b[39msolver\u001b[39m\u001b[39m\"\u001b[39m,\u001b[39m\"\u001b[39m\u001b[39mipopt\u001b[39m\u001b[39m\"\u001b[39m,{\u001b[39m\"\u001b[39m\u001b[39mx\u001b[39m\u001b[39m\"\u001b[39m:x,\u001b[39m\"\u001b[39m\u001b[39mf\u001b[39m\u001b[39m\"\u001b[39m:f(x)})\n\u001b[0;32m----> 3\u001b[0m res \u001b[39m=\u001b[39m solver(x0\u001b[39m=\u001b[39;49mx0)\n",
      "File \u001b[0;32m~/opt/anaconda3/envs/opt_env/lib/python3.8/site-packages/casadi/casadi.py:23372\u001b[0m, in \u001b[0;36mFunction.__call__\u001b[0;34m(self, *args, **kwargs)\u001b[0m\n\u001b[1;32m  23369\u001b[0m       \u001b[39mreturn\u001b[39;00m \u001b[39mtuple\u001b[39m(ret)\n\u001b[1;32m  23370\u001b[0m   \u001b[39melse\u001b[39;00m:\n\u001b[1;32m  23371\u001b[0m \u001b[39m# Named inputs -> return dictionary\u001b[39;00m\n\u001b[0;32m> 23372\u001b[0m     \u001b[39mreturn\u001b[39;00m \u001b[39mself\u001b[39;49m\u001b[39m.\u001b[39;49mcall(kwargs)\n",
      "File \u001b[0;32m~/opt/anaconda3/envs/opt_env/lib/python3.8/site-packages/casadi/casadi.py:20021\u001b[0m, in \u001b[0;36mFunction.call\u001b[0;34m(self, *args)\u001b[0m\n\u001b[1;32m  19850\u001b[0m \u001b[39mdef\u001b[39;00m \u001b[39mcall\u001b[39m(\u001b[39mself\u001b[39m, \u001b[39m*\u001b[39margs) \u001b[39m-\u001b[39m\u001b[39m>\u001b[39m \u001b[39m\"\u001b[39m\u001b[39mvoid\u001b[39m\u001b[39m\"\u001b[39m:\n\u001b[1;32m  19851\u001b[0m \u001b[39m    \u001b[39m\u001b[39m\"\"\"\u001b[39;00m\n\u001b[1;32m  19852\u001b[0m \u001b[39m      [INTERNAL] \u001b[39;00m\n\u001b[1;32m  19853\u001b[0m \n\u001b[0;32m   (...)\u001b[0m\n\u001b[1;32m  20019\u001b[0m \n\u001b[1;32m  20020\u001b[0m \u001b[39m    \"\"\"\u001b[39;00m\n\u001b[0;32m> 20021\u001b[0m     \u001b[39mreturn\u001b[39;00m _casadi\u001b[39m.\u001b[39;49mFunction_call(\u001b[39mself\u001b[39;49m, \u001b[39m*\u001b[39;49margs)\n",
      "\u001b[0;31mRuntimeError\u001b[0m: Error in Function::call for 'solver' [IpoptInterface] at .../casadi/core/function.cpp:1401:\nError in Function::call for 'solver' [IpoptInterface] at .../casadi/core/function.cpp:330:\n.../casadi/core/function_internal.hpp:1644: Input 0 (x0) has mismatching shape. Got 4-by-1. Allowed dimensions, in general, are:\n - The input dimension N-by-M (here 1-by-1)\n - A scalar, i.e. 1-by-1\n - M-by-N if N=1 or M=1 (i.e. a transposed vector)\n - N-by-M1 if K*M1=M for some K (argument repeated horizontally)\n - N-by-P*M, indicating evaluation with multiple arguments (P must be a multiple of 1 for consistency with previous inputs)"
     ]
    }
   ],
   "source": [
    "x = cs.MX.sym(\"x\")\n",
    "solver = cs.nlpsol(\"solver\",\"ipopt\",{\"x\":x,\"f\":f(x)})\n",
    "res = solver(x0=x0)"
   ]
  },
  {
   "cell_type": "code",
   "execution_count": 2,
   "metadata": {},
   "outputs": [],
   "source": [
    "\n",
    "\n",
    "x0 = cs.DM([1., 5., 5., 1.])\n",
    "x = cs.MX.sym(\"x\",4)\n",
    "f = JaxFn((4,1), (1,1), fn)\n",
    "J = cs.Function('J',[x],[cs.jacobian(f(x),x)])"
   ]
  },
  {
   "cell_type": "code",
   "execution_count": 10,
   "metadata": {},
   "outputs": [
    {
     "data": {
      "text/plain": [
       "DM(38)"
      ]
     },
     "execution_count": 10,
     "metadata": {},
     "output_type": "execute_result"
    }
   ],
   "source": [
    "J(x0) @ x0"
   ]
  },
  {
   "cell_type": "code",
   "execution_count": 5,
   "metadata": {},
   "outputs": [
    {
     "data": {
      "text/plain": [
       "Array([12.,  1.,  2., 11.], dtype=float32)"
      ]
     },
     "execution_count": 5,
     "metadata": {},
     "output_type": "execute_result"
    }
   ],
   "source": [
    "jax.jacfwd(fn)(jnp.array([1.,5,5,1]))"
   ]
  }
 ],
 "metadata": {
  "kernelspec": {
   "display_name": "opt_env",
   "language": "python",
   "name": "python3"
  },
  "language_info": {
   "codemirror_mode": {
    "name": "ipython",
    "version": 3
   },
   "file_extension": ".py",
   "mimetype": "text/x-python",
   "name": "python",
   "nbconvert_exporter": "python",
   "pygments_lexer": "ipython3",
   "version": "3.8.16"
  },
  "orig_nbformat": 4
 },
 "nbformat": 4,
 "nbformat_minor": 2
}
