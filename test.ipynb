{
 "cells": [
  {
   "cell_type": "code",
   "execution_count": 11,
   "metadata": {},
   "outputs": [],
   "source": [
    "from test_casadi import *\n",
    "import casadi as cs"
   ]
  },
  {
   "cell_type": "code",
   "execution_count": 16,
   "metadata": {},
   "outputs": [],
   "source": [
    "x = cs.SX.sym(\"x\", 4)"
   ]
  },
  {
   "cell_type": "code",
   "execution_count": 30,
   "metadata": {},
   "outputs": [],
   "source": [
    "f = x[0]*x[3]*cs.sum1(x[:3]) + x[2]\n",
    "geq = cs.sumsqr(x)\n",
    "gineq = x[0]*x[1]*x[2]*x[3]\n",
    "g = cs.vertcat(geq, gineq)\n",
    "nlp = {'x':x, 'f':f, 'g':g}"
   ]
  },
  {
   "cell_type": "code",
   "execution_count": 56,
   "metadata": {},
   "outputs": [
    {
     "name": "stdout",
     "output_type": "stream",
     "text": [
      "\n",
      "qpOASES -- An Implementation of the Online Active Set Strategy.\n",
      "Copyright (C) 2007-2015 by Hans Joachim Ferreau, Andreas Potschka,\n",
      "Christian Kirches et al. All rights reserved.\n",
      "\n",
      "qpOASES is distributed under the terms of the \n",
      "GNU Lesser General Public License 2.1 in the hope that it will be \n",
      "useful, but WITHOUT ANY WARRANTY; without even the implied warranty \n",
      "of MERCHANTABILITY or FITNESS FOR A PARTICULAR PURPOSE. \n",
      "See the GNU Lesser General Public License for more details.\n",
      "\n",
      "-------------------------------------------\n",
      "This is casadi::Sqpmethod.\n",
      "Using exact Hessian\n",
      "Number of variables:                               4\n",
      "Number of constraints:                             2\n",
      "Number of nonzeros in constraint Jacobian:         8\n",
      "Number of nonzeros in Lagrangian Hessian:         16\n",
      "\n"
     ]
    }
   ],
   "source": [
    "opts=dict(qpsol=\"qpoases\",\n",
    "          qpsol_options={\"printLevel\":\"none\"})\n",
    "solver = cs.nlpsol(\"solver\", \"sqpmethod\", nlp, opts)"
   ]
  },
  {
   "cell_type": "code",
   "execution_count": 57,
   "metadata": {},
   "outputs": [
    {
     "name": "stdout",
     "output_type": "stream",
     "text": [
      "iter      objective    inf_pr    inf_du     ||d||  lg(rg) ls    info\n",
      "   0   1.600000e+01  1.20e+01  1.20e+01  0.00e+00       -  0  - \n",
      "WARNING(sqpmethod): Indefinite Hessian detected\n",
      "   1   1.625000e+01  1.62e+00  2.81e+00  1.25e+00       -  1  - \n",
      "WARNING(sqpmethod): Indefinite Hessian detected\n",
      "   2   1.622379e+01  1.38e+00  5.06e-01  2.86e-01       -  1  - \n",
      "   3   1.700011e+01  2.22e-02  4.16e-02  9.27e-02       -  1  - \n",
      "   4   1.701398e+01  7.28e-05  4.22e-05  6.09e-03       -  1  - \n",
      "   5   1.701402e+01  1.91e-09  8.46e-10  3.58e-05       -  1  - \n",
      "MESSAGE(sqpmethod): Convergence achieved after 5 iterations\n",
      "      solver  :   t_proc      (avg)   t_wall      (avg)    n_eval\n",
      "          QP  | 271.00us ( 54.20us) 271.62us ( 54.33us)         5\n",
      "  linesearch  |  45.00us (  9.00us)  44.69us (  8.94us)         5\n",
      "      nlp_fg  |  17.00us (  3.40us)  16.81us (  3.36us)         5\n",
      "  nlp_hess_l  |  40.00us (  8.00us)  20.38us (  4.08us)         5\n",
      "  nlp_jac_fg  |  24.00us (  4.00us)  24.06us (  4.01us)         6\n",
      "       total  | 927.00us (927.00us) 886.95us (886.95us)         1\n"
     ]
    }
   ],
   "source": [
    "x0 = [1., 5., 5., 1.]\n",
    "lbx, ubx = 1, 5\n",
    "lbg = [40., 25.]\n",
    "ubg = [40., cs.inf]\n",
    "sol = solver(x0=x0, lbx=lbx, ubx=ubx, lbg=lbg, ubg=ubg)"
   ]
  },
  {
   "cell_type": "code",
   "execution_count": 76,
   "metadata": {},
   "outputs": [],
   "source": [
    "#f = x[0]*x[3]*cs.sum1(x[:3]) + x[2]\n",
    "x = cs.MX.sym('x', 4, 1)\n",
    "fn = lambda x: x[0]*x[3]*jnp.sum(x[:3]) + x[2]\n",
    "f = JaxFn((4,1), (1,1), fn)\n",
    "geq = cs.sumsqr(x)\n",
    "gineq = x[0]*x[1]*x[2]*x[3]\n",
    "g = cs.vertcat(geq, gineq)\n",
    "\n",
    "nlp = {'x':x, 'f':f(x), 'g':g}"
   ]
  },
  {
   "cell_type": "code",
   "execution_count": 88,
   "metadata": {},
   "outputs": [
    {
     "name": "stdout",
     "output_type": "stream",
     "text": [
      "\n",
      "qpOASES -- An Implementation of the Online Active Set Strategy.\n",
      "Copyright (C) 2007-2015 by Hans Joachim Ferreau, Andreas Potschka,\n",
      "Christian Kirches et al. All rights reserved.\n",
      "\n",
      "qpOASES is distributed under the terms of the \n",
      "GNU Lesser General Public License 2.1 in the hope that it will be \n",
      "useful, but WITHOUT ANY WARRANTY; without even the implied warranty \n",
      "of MERCHANTABILITY or FITNESS FOR A PARTICULAR PURPOSE. \n",
      "See the GNU Lesser General Public License for more details.\n",
      "\n",
      "-------------------------------------------\n",
      "This is casadi::Sqpmethod.\n",
      "Using limited memory BFGS Hessian approximation\n",
      "Number of variables:                               4\n",
      "Number of constraints:                             2\n",
      "Number of nonzeros in constraint Jacobian:         8\n",
      "Number of nonzeros in Lagrangian Hessian:         16\n",
      "\n"
     ]
    }
   ],
   "source": [
    "opts=dict(qpsol=\"qpoases\",\n",
    "          qpsol_options={\"printLevel\":\"none\"},\n",
    "          hessian_approximation=\"limited-memory\")\n",
    "solver = cs.nlpsol(\"solver\", \"sqpmethod\", nlp, opts)"
   ]
  },
  {
   "cell_type": "code",
   "execution_count": 89,
   "metadata": {},
   "outputs": [
    {
     "name": "stdout",
     "output_type": "stream",
     "text": [
      "iter      objective    inf_pr    inf_du     ||d||  lg(rg) ls    info\n",
      "   0   1.600000e+01  1.20e+01  1.20e+01  0.00e+00       -  0  - \n",
      "   1   1.606250e+01  1.39e+00  2.08e+00  1.12e+00       -  1  - \n",
      "   2   1.696396e+01  8.08e-02  1.35e-01  1.37e-01       -  1  - \n",
      "   3   1.701372e+01  4.61e-04  1.32e-02  1.39e-02       -  1  - \n",
      "   4   1.701402e+01  8.24e-08  6.04e-05  2.07e-04       -  1  - \n",
      "   5   1.701402e+01  3.55e-11  3.53e-07  4.71e-06       -  1  - \n",
      "MESSAGE(sqpmethod): Convergence achieved after 5 iterations\n",
      "      solver  :   t_proc      (avg)   t_wall      (avg)    n_eval\n",
      "        BFGS  |  28.00us (  5.60us)  17.84us (  3.57us)         5\n",
      "          QP  | 356.00us ( 71.20us) 343.89us ( 68.78us)         5\n",
      "  linesearch  |  11.19ms (  2.24ms)  11.21ms (  2.24ms)         5\n",
      "      nlp_fg  |  11.07ms (  2.21ms)  11.17ms (  2.23ms)         5\n",
      "  nlp_jac_fg  | 132.48ms ( 22.08ms) 131.51ms ( 21.92ms)         6\n",
      "       total  | 144.53ms (144.53ms) 143.48ms (143.48ms)         1\n"
     ]
    }
   ],
   "source": [
    "x0 = [1., 5., 5., 1.]\n",
    "lbx, ubx = 1, 5\n",
    "lbg = [40., 25.]\n",
    "ubg = [40., cs.inf]\n",
    "sol = solver(x0=x0, lbx=lbx, ubx=ubx, lbg=lbg, ubg=ubg)"
   ]
  },
  {
   "cell_type": "code",
   "execution_count": 90,
   "metadata": {},
   "outputs": [
    {
     "data": {
      "text/plain": [
       "{'f': DM(17.014),\n",
       " 'g': DM([40, 25]),\n",
       " 'lam_g': DM([0.161469, -0.552294]),\n",
       " 'lam_p': DM(0x0),\n",
       " 'lam_x': DM([-1.08787, 0, 0, 0]),\n",
       " 'x': DM([1, 4.743, 3.82115, 1.37941])}"
      ]
     },
     "execution_count": 90,
     "metadata": {},
     "output_type": "execute_result"
    }
   ],
   "source": [
    "sol"
   ]
  },
  {
   "cell_type": "code",
   "execution_count": 63,
   "metadata": {},
   "outputs": [],
   "source": [
    "class Fn(cs.Callback):\n",
    "    def __init__(self, name, fn, opts={}):\n",
    "        self.fn = fn\n",
    "        cs.Callback.__init__(self)\n",
    "        self.construct(name, opts)\n",
    "\n",
    "    def eval(self, arg):\n",
    "        x = jnp.asarray(arg[0]).flatten()\n",
    "        y = cs.vertcat(self.fn(x))\n",
    "        return [y]"
   ]
  },
  {
   "cell_type": "code",
   "execution_count": 67,
   "metadata": {},
   "outputs": [],
   "source": [
    "f = Fn('obj', fn, {'enable_fd':True})"
   ]
  },
  {
   "cell_type": "code",
   "execution_count": 69,
   "metadata": {},
   "outputs": [
    {
     "ename": "RuntimeError",
     "evalue": "Error in Function::call for 'solver' [IpoptInterface] at .../casadi/core/function.cpp:1401:\nError in Function::call for 'solver' [IpoptInterface] at .../casadi/core/function.cpp:330:\n.../casadi/core/function_internal.hpp:1644: Input 0 (x0) has mismatching shape. Got 4-by-1. Allowed dimensions, in general, are:\n - The input dimension N-by-M (here 1-by-1)\n - A scalar, i.e. 1-by-1\n - M-by-N if N=1 or M=1 (i.e. a transposed vector)\n - N-by-M1 if K*M1=M for some K (argument repeated horizontally)\n - N-by-P*M, indicating evaluation with multiple arguments (P must be a multiple of 1 for consistency with previous inputs)",
     "output_type": "error",
     "traceback": [
      "\u001b[0;31m---------------------------------------------------------------------------\u001b[0m",
      "\u001b[0;31mRuntimeError\u001b[0m                              Traceback (most recent call last)",
      "Cell \u001b[0;32mIn[69], line 3\u001b[0m\n\u001b[1;32m      1\u001b[0m x \u001b[39m=\u001b[39m cs\u001b[39m.\u001b[39mMX\u001b[39m.\u001b[39msym(\u001b[39m\"\u001b[39m\u001b[39mx\u001b[39m\u001b[39m\"\u001b[39m)\n\u001b[1;32m      2\u001b[0m solver \u001b[39m=\u001b[39m cs\u001b[39m.\u001b[39mnlpsol(\u001b[39m\"\u001b[39m\u001b[39msolver\u001b[39m\u001b[39m\"\u001b[39m,\u001b[39m\"\u001b[39m\u001b[39mipopt\u001b[39m\u001b[39m\"\u001b[39m,{\u001b[39m\"\u001b[39m\u001b[39mx\u001b[39m\u001b[39m\"\u001b[39m:x,\u001b[39m\"\u001b[39m\u001b[39mf\u001b[39m\u001b[39m\"\u001b[39m:f(x)})\n\u001b[0;32m----> 3\u001b[0m res \u001b[39m=\u001b[39m solver(x0\u001b[39m=\u001b[39;49mx0)\n",
      "File \u001b[0;32m~/opt/anaconda3/envs/opt_env/lib/python3.8/site-packages/casadi/casadi.py:23372\u001b[0m, in \u001b[0;36mFunction.__call__\u001b[0;34m(self, *args, **kwargs)\u001b[0m\n\u001b[1;32m  23369\u001b[0m       \u001b[39mreturn\u001b[39;00m \u001b[39mtuple\u001b[39m(ret)\n\u001b[1;32m  23370\u001b[0m   \u001b[39melse\u001b[39;00m:\n\u001b[1;32m  23371\u001b[0m \u001b[39m# Named inputs -> return dictionary\u001b[39;00m\n\u001b[0;32m> 23372\u001b[0m     \u001b[39mreturn\u001b[39;00m \u001b[39mself\u001b[39;49m\u001b[39m.\u001b[39;49mcall(kwargs)\n",
      "File \u001b[0;32m~/opt/anaconda3/envs/opt_env/lib/python3.8/site-packages/casadi/casadi.py:20021\u001b[0m, in \u001b[0;36mFunction.call\u001b[0;34m(self, *args)\u001b[0m\n\u001b[1;32m  19850\u001b[0m \u001b[39mdef\u001b[39;00m \u001b[39mcall\u001b[39m(\u001b[39mself\u001b[39m, \u001b[39m*\u001b[39margs) \u001b[39m-\u001b[39m\u001b[39m>\u001b[39m \u001b[39m\"\u001b[39m\u001b[39mvoid\u001b[39m\u001b[39m\"\u001b[39m:\n\u001b[1;32m  19851\u001b[0m \u001b[39m    \u001b[39m\u001b[39m\"\"\"\u001b[39;00m\n\u001b[1;32m  19852\u001b[0m \u001b[39m      [INTERNAL] \u001b[39;00m\n\u001b[1;32m  19853\u001b[0m \n\u001b[0;32m   (...)\u001b[0m\n\u001b[1;32m  20019\u001b[0m \n\u001b[1;32m  20020\u001b[0m \u001b[39m    \"\"\"\u001b[39;00m\n\u001b[0;32m> 20021\u001b[0m     \u001b[39mreturn\u001b[39;00m _casadi\u001b[39m.\u001b[39;49mFunction_call(\u001b[39mself\u001b[39;49m, \u001b[39m*\u001b[39;49margs)\n",
      "\u001b[0;31mRuntimeError\u001b[0m: Error in Function::call for 'solver' [IpoptInterface] at .../casadi/core/function.cpp:1401:\nError in Function::call for 'solver' [IpoptInterface] at .../casadi/core/function.cpp:330:\n.../casadi/core/function_internal.hpp:1644: Input 0 (x0) has mismatching shape. Got 4-by-1. Allowed dimensions, in general, are:\n - The input dimension N-by-M (here 1-by-1)\n - A scalar, i.e. 1-by-1\n - M-by-N if N=1 or M=1 (i.e. a transposed vector)\n - N-by-M1 if K*M1=M for some K (argument repeated horizontally)\n - N-by-P*M, indicating evaluation with multiple arguments (P must be a multiple of 1 for consistency with previous inputs)"
     ]
    }
   ],
   "source": [
    "x = cs.MX.sym(\"x\")\n",
    "solver = cs.nlpsol(\"solver\",\"ipopt\",{\"x\":x,\"f\":f(x)})\n",
    "res = solver(x0=x0)"
   ]
  },
  {
   "cell_type": "code",
   "execution_count": 2,
   "metadata": {},
   "outputs": [],
   "source": [
    "\n",
    "\n",
    "x0 = cs.DM([1., 5., 5., 1.])\n",
    "x = cs.MX.sym(\"x\",4)\n",
    "f = JaxFn((4,1), (1,1), fn)\n",
    "J = cs.Function('J',[x],[cs.jacobian(f(x),x)])"
   ]
  },
  {
   "cell_type": "code",
   "execution_count": 10,
   "metadata": {},
   "outputs": [
    {
     "data": {
      "text/plain": [
       "DM(38)"
      ]
     },
     "execution_count": 10,
     "metadata": {},
     "output_type": "execute_result"
    }
   ],
   "source": [
    "J(x0) @ x0"
   ]
  },
  {
   "cell_type": "code",
   "execution_count": 5,
   "metadata": {},
   "outputs": [
    {
     "data": {
      "text/plain": [
       "Array([12.,  1.,  2., 11.], dtype=float32)"
      ]
     },
     "execution_count": 5,
     "metadata": {},
     "output_type": "execute_result"
    }
   ],
   "source": [
    "jax.jacfwd(fn)(jnp.array([1.,5,5,1]))"
   ]
  }
 ],
 "metadata": {
  "kernelspec": {
   "display_name": "opt_env",
   "language": "python",
   "name": "python3"
  },
  "language_info": {
   "codemirror_mode": {
    "name": "ipython",
    "version": 3
   },
   "file_extension": ".py",
   "mimetype": "text/x-python",
   "name": "python",
   "nbconvert_exporter": "python",
   "pygments_lexer": "ipython3",
   "version": "3.8.15"
  },
  "orig_nbformat": 4
 },
 "nbformat": 4,
 "nbformat_minor": 2
}
