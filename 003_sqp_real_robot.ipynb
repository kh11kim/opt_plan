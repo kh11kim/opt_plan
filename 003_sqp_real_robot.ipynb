{
 "cells": [
  {
   "cell_type": "code",
   "execution_count": 1,
   "metadata": {},
   "outputs": [
    {
     "name": "stderr",
     "output_type": "stream",
     "text": [
      "pybullet build time: May 20 2022 19:44:17\n"
     ]
    },
    {
     "name": "stdout",
     "output_type": "stream",
     "text": [
      "Jupyter environment detected. Enabling Open3D WebVisualizer.\n",
      "[Open3D INFO] WebRTC GUI backend enabled.\n",
      "[Open3D INFO] WebRTCWindowSystem: HTTP handshake server disabled.\n"
     ]
    }
   ],
   "source": [
    "import jax\n",
    "import jax.numpy as jnp\n",
    "import numpy as np\n",
    "import matplotlib.pyplot as plt\n",
    "from signed_distance import *\n",
    "from nlp_builder import NLPBuilder\n",
    "from nlp_solver import SQPSolver\n",
    "from functools import partial\n",
    "\n",
    "from pathlib import Path\n",
    "from pybullet_suite import *\n",
    "from panda_collision import *\n",
    "\n",
    "import open3d as o3d\n",
    "from open3d.utility import Vector3dVector as Vector\n",
    "from open3d.visualization import draw_geometries as draw"
   ]
  },
  {
   "cell_type": "code",
   "execution_count": 2,
   "metadata": {},
   "outputs": [],
   "source": [
    "# problem\n",
    "obs_center = jnp.array([0.6, 0, 0.6])\n",
    "obs_r = 0.2\n",
    "\n",
    "safe_dist = 0.1\n",
    "dim_robot = 7\n",
    "num_steps = 8"
   ]
  },
  {
   "cell_type": "code",
   "execution_count": 3,
   "metadata": {},
   "outputs": [
    {
     "name": "stdout",
     "output_type": "stream",
     "text": [
      "Robot name: panda\n"
     ]
    },
    {
     "name": "stderr",
     "output_type": "stream",
     "text": [
      "only got 9/10 samples!\n",
      "only got 7/10 samples!\n"
     ]
    }
   ],
   "source": [
    "robot_path = Path(PANDA_URDF).parent / \"meshes/collision\"\n",
    "mesh_names = [\n",
    "    'link0', 'link1', 'link2', 'link3', 'link4', \n",
    "    'link5', 'link6', 'link7', 'hand', \"finger\", \"finger\"\n",
    "]\n",
    "fk = get_fk_fn(PANDA_URDF)\n",
    "robotpc = get_pointclouds(robot_path, mesh_names, 10)"
   ]
  },
  {
   "cell_type": "code",
   "execution_count": 4,
   "metadata": {},
   "outputs": [],
   "source": [
    "# points = robotpc.apply_transforms(fk(jnp.zeros(7)))\n",
    "# pc = o3d.gdeometry.PointCloud(Vector(points))\n",
    "# draw([pc])"
   ]
  },
  {
   "cell_type": "code",
   "execution_count": 6,
   "metadata": {},
   "outputs": [
    {
     "ename": "error",
     "evalue": "Only one local in-process GUI/GUI_SERVER connection allowed. Use DIRECT connection mode or start a separate GUI physics server (ExampleBrowser, App_SharedMemoryPhysics_GUI, App_SharedMemoryPhysics_VR) and connect over SHARED_MEMORY, UDP or TCP instead.",
     "output_type": "error",
     "traceback": [
      "\u001b[0;31m---------------------------------------------------------------------------\u001b[0m",
      "\u001b[0;31merror\u001b[0m                                     Traceback (most recent call last)",
      "Cell \u001b[0;32mIn[6], line 1\u001b[0m\n\u001b[0;32m----> 1\u001b[0m bw \u001b[39m=\u001b[39m BulletWorld(gui\u001b[39m=\u001b[39;49m\u001b[39mTrue\u001b[39;49;00m)\n\u001b[1;32m      2\u001b[0m sm \u001b[39m=\u001b[39m BulletSceneMaker(bw)\n\u001b[1;32m      3\u001b[0m pandas \u001b[39m=\u001b[39m [bw\u001b[39m.\u001b[39mload_robot(Panda, \u001b[39mf\u001b[39m\u001b[39m\"\u001b[39m\u001b[39mpanda\u001b[39m\u001b[39m{\u001b[39;00mi\u001b[39m}\u001b[39;00m\u001b[39m\"\u001b[39m) \u001b[39mfor\u001b[39;00m i \u001b[39min\u001b[39;00m \u001b[39mrange\u001b[39m(\u001b[39m8\u001b[39m)]\n",
      "File \u001b[0;32m~/miniconda3/envs/cu11/lib/python3.8/site-packages/pybullet_suite/base/world.py:75\u001b[0m, in \u001b[0;36mBulletWorld.__init__\u001b[0;34m(self, gui, dt, dt_gui, gravity, background_color)\u001b[0m\n\u001b[1;32m     71\u001b[0m     \u001b[39mself\u001b[39m\u001b[39m.\u001b[39mphysics_client \u001b[39m=\u001b[39m BulletClient(\n\u001b[1;32m     72\u001b[0m             connection_mode\u001b[39m=\u001b[39mconnection_mode,\n\u001b[1;32m     73\u001b[0m             options\u001b[39m=\u001b[39moptions)\n\u001b[1;32m     74\u001b[0m \u001b[39melse\u001b[39;00m:\n\u001b[0;32m---> 75\u001b[0m     \u001b[39mself\u001b[39m\u001b[39m.\u001b[39mphysics_client \u001b[39m=\u001b[39m BulletClient(\n\u001b[1;32m     76\u001b[0m             connection_mode\u001b[39m=\u001b[39;49mconnection_mode)\n\u001b[1;32m     78\u001b[0m \u001b[39mself\u001b[39m\u001b[39m.\u001b[39mphysics_client\u001b[39m.\u001b[39msetTimeStep(\u001b[39mself\u001b[39m\u001b[39m.\u001b[39mdt)\n\u001b[1;32m     79\u001b[0m \u001b[39mself\u001b[39m\u001b[39m.\u001b[39mset_debug_visualizer(\u001b[39mFalse\u001b[39;00m)\n",
      "File \u001b[0;32m~/miniconda3/envs/cu11/lib/python3.8/site-packages/pybullet_utils/bullet_client.py:33\u001b[0m, in \u001b[0;36mBulletClient.__init__\u001b[0;34m(self, connection_mode, hostName, options)\u001b[0m\n\u001b[1;32m     31\u001b[0m     connection_mode \u001b[39m=\u001b[39m pybullet\u001b[39m.\u001b[39mDIRECT\n\u001b[1;32m     32\u001b[0m \u001b[39mif\u001b[39;00m hostName \u001b[39mis\u001b[39;00m \u001b[39mNone\u001b[39;00m:\n\u001b[0;32m---> 33\u001b[0m     \u001b[39mself\u001b[39m\u001b[39m.\u001b[39m_client \u001b[39m=\u001b[39m pybullet\u001b[39m.\u001b[39;49mconnect(connection_mode, options\u001b[39m=\u001b[39;49moptions)\n\u001b[1;32m     34\u001b[0m \u001b[39melse\u001b[39;00m:\n\u001b[1;32m     35\u001b[0m     \u001b[39mself\u001b[39m\u001b[39m.\u001b[39m_client \u001b[39m=\u001b[39m pybullet\u001b[39m.\u001b[39mconnect(connection_mode, hostName\u001b[39m=\u001b[39mhostName, options\u001b[39m=\u001b[39moptions)\n",
      "\u001b[0;31merror\u001b[0m: Only one local in-process GUI/GUI_SERVER connection allowed. Use DIRECT connection mode or start a separate GUI physics server (ExampleBrowser, App_SharedMemoryPhysics_GUI, App_SharedMemoryPhysics_VR) and connect over SHARED_MEMORY, UDP or TCP instead."
     ]
    }
   ],
   "source": [
    "bw = BulletWorld(gui=True)\n",
    "sm = BulletSceneMaker(bw)\n",
    "pandas = [bw.load_robot(Panda, f\"panda{i}\") for i in range(8)]"
   ]
  },
  {
   "cell_type": "code",
   "execution_count": 7,
   "metadata": {},
   "outputs": [],
   "source": [
    "obs_bullet = sm.create_sphere(\"obstacle\", obs_r, 0.1, Pose.identity(), [1,0,0,0.3])\n",
    "obs_bullet.set_base_pose(Pose(trans=np.asarray(obs_center)))"
   ]
  },
  {
   "cell_type": "code",
   "execution_count": 8,
   "metadata": {},
   "outputs": [],
   "source": [
    "#util functions\n",
    "def to_mat(x):\n",
    "    return x.reshape(-1, dim_robot)\n",
    "def to_vec(mat):\n",
    "    return mat.flatten()\n",
    "def at_timestep(i, x):\n",
    "    return to_mat(x)[i]\n",
    "def to_vel(x):\n",
    "    return (to_mat(x)[1:] - to_mat(x)[:-1]).flatten()\n",
    "\n",
    "#visualize\n",
    "def show_path(x):\n",
    "    qs = to_mat(x)\n",
    "    for i, q in enumerate(qs):\n",
    "        pandas[i].set_joint_angles(q)"
   ]
  },
  {
   "cell_type": "code",
   "execution_count": 10,
   "metadata": {},
   "outputs": [],
   "source": [
    "# functions\n",
    "obs = Circle(obs_center, obs_r)\n",
    "env = EnvSDF((obs,), safe_dist)\n",
    "assign_points = lambda q: robotpc.apply_transforms(fk(q))\n",
    "assign_points_path = lambda x: jnp.vstack(jax.vmap(assign_points)(to_mat(x)))\n",
    "    \n",
    "state_init = partial(at_timestep, 0)\n",
    "state_goal = partial(at_timestep,-1)\n",
    "penetration = lambda x: env.penetrations(assign_points_path(x))\n",
    "\n",
    "def min_dist_cost(x):\n",
    "    v = to_vel(x)\n",
    "    return v @ v + penetration(x)\n",
    "\n",
    "get_ee_point = lambda q: fk(q)[-1, -3:]\n",
    "get_ee_points = lambda x: jax.vmap(get_ee_point)(to_mat(x))\n",
    "\n",
    "def min_ee_dist_cost(x):\n",
    "    ee_pos_mat = get_ee_points(x)\n",
    "    ee_vel_mat = ee_pos_mat[1:] - ee_pos_mat[:-1]\n",
    "    ee_vel = ee_vel_mat.flatten()\n",
    "    return ee_vel @ ee_vel\n",
    "\n",
    "panda = pandas[0]\n",
    "ql = jnp.array(panda.joint_lower_limit)\n",
    "qu = jnp.array(panda.joint_upper_limit)\n",
    "q_init = jnp.array([-0.9   ,  0.    ,  0.    , -1.7708,  0.    ,  1.8675,  0.    ])\n",
    "q_goal  = jnp.array([0.9   ,  0.    ,  0.    , -1.7708,  0.    ,  1.8675,  0.    ])\n",
    "xl = jnp.tile(ql, num_steps)\n",
    "xu = jnp.tile(qu, num_steps)\n",
    "x0 = jnp.linspace(q_init, q_goal, 8).flatten()\n",
    "show_path(x0)"
   ]
  },
  {
   "cell_type": "code",
   "execution_count": 11,
   "metadata": {},
   "outputs": [],
   "source": [
    "#build NLP problem \n",
    "dim = num_steps * dim_robot\n",
    "nlp = NLPBuilder(dim=dim)\n",
    "nlp.set_f(min_dist_cost)\n",
    "nlp.add_eq_const(state_init, q_init)\n",
    "nlp.add_eq_const(state_goal, q_goal)\n",
    "nlp.add_eq_const(penetration, 0.)\n",
    "nlp.set_state_bound(xl, xu)"
   ]
  },
  {
   "cell_type": "code",
   "execution_count": 61,
   "metadata": {},
   "outputs": [],
   "source": [
    "def state_bound_fn(x):\n",
    "    return jnp.hstack([-x + jnp.ones_like(x), x - jnp.ones_like(x)])\n",
    "xrand = jnp.array(np.random.random(dim))\n",
    "jac_sparsity = []\n",
    "_ = jax.jacfwd(state_init)(xrand) != 0.\n",
    "jac_sparsity.append(_)\n",
    "_ = jax.jacfwd(state_goal)(xrand) != 0.\n",
    "jac_sparsity.append(_)"
   ]
  },
  {
   "cell_type": "code",
   "execution_count": 65,
   "metadata": {},
   "outputs": [
    {
     "data": {
      "text/plain": [
       "Array([[-1., -0., -0., ..., -0., -0., -0.],\n",
       "       [-0., -1., -0., ..., -0., -0., -0.],\n",
       "       [-0., -0., -1., ..., -0., -0., -0.],\n",
       "       ...,\n",
       "       [ 0.,  0.,  0., ...,  1.,  0.,  0.],\n",
       "       [ 0.,  0.,  0., ...,  0.,  1.,  0.],\n",
       "       [ 0.,  0.,  0., ...,  0.,  0.,  1.]], dtype=float32)"
      ]
     },
     "execution_count": 65,
     "metadata": {},
     "output_type": "execute_result"
    }
   ],
   "source": [
    "jax.jacfwd(state_bound_fn)(x0)"
   ]
  },
  {
   "cell_type": "code",
   "execution_count": 60,
   "metadata": {},
   "outputs": [
    {
     "data": {
      "text/plain": [
       "(Array([ 0,  1,  2,  3,  4,  5,  6,  7,  8,  9, 10, 11, 12, 13], dtype=int32),\n",
       " Array([ 0,  1,  2,  3,  4,  5,  6, 49, 50, 51, 52, 53, 54, 55], dtype=int32))"
      ]
     },
     "execution_count": 60,
     "metadata": {},
     "output_type": "execute_result"
    }
   ],
   "source": [
    "jnp.nonzero(jnp.vstack(jac_sparsity))"
   ]
  },
  {
   "cell_type": "code",
   "execution_count": 12,
   "metadata": {},
   "outputs": [],
   "source": [
    "solver = SQPSolver.from_builder(nlp)\n",
    "solver.prebuild(mode=\"BFGS\")"
   ]
  },
  {
   "cell_type": "code",
   "execution_count": 11,
   "metadata": {},
   "outputs": [],
   "source": [
    "# debug\n",
    "# from cvxopt import matrix, sparse\n",
    "# state = solver.eval_fn(x0, jnp.zeros(nlp.const_dim), 0.1)\n",
    "# P, q, G, h, A, b = solver.convexify(state)"
   ]
  },
  {
   "cell_type": "code",
   "execution_count": 51,
   "metadata": {},
   "outputs": [
    {
     "data": {
      "text/plain": [
       "(Array([0, 1, 2, 3, 4, 5, 6], dtype=int32),\n",
       " Array([49, 50, 51, 52, 53, 54, 55], dtype=int32))"
      ]
     },
     "execution_count": 51,
     "metadata": {},
     "output_type": "execute_result"
    }
   ],
   "source": [
    "jnp.nonzero(jax.jacrev(state_goal)(x0))"
   ]
  },
  {
   "cell_type": "code",
   "execution_count": 25,
   "metadata": {},
   "outputs": [],
   "source": [
    "#x_rand = np.random.random(len())\n",
    "h_jac_row, h_jac_col = jnp.nonzero(jax.jacrev(solver.h_fn)(x0))"
   ]
  },
  {
   "cell_type": "code",
   "execution_count": 44,
   "metadata": {},
   "outputs": [
    {
     "data": {
      "text/plain": [
       "(Array([ 0,  0,  1,  1,  2,  2,  3,  3,  4,  4,  5,  5,  6,  6,  7,  7,  7,\n",
       "         8,  8,  8,  9,  9,  9, 10, 10, 10, 11, 11, 11, 12, 12, 12, 13, 13,\n",
       "        13, 14, 14, 14, 15, 15, 15, 16, 16, 16, 17, 17, 17, 18, 18, 18, 19,\n",
       "        19, 19, 20, 20, 20, 21, 21, 21, 22, 22, 22, 23, 23, 23, 24, 24, 24,\n",
       "        25, 25, 25, 26, 26, 26, 27, 27, 27, 28, 28, 28, 29, 29, 29, 30, 30,\n",
       "        30, 31, 31, 31, 32, 32, 32, 33, 33, 33, 34, 34, 34, 35, 35, 35, 36,\n",
       "        36, 36, 37, 37, 37, 38, 38, 38, 39, 39, 39, 40, 40, 40, 41, 41, 41,\n",
       "        42, 42, 42, 43, 43, 43, 44, 44, 44, 45, 45, 45, 46, 46, 46, 47, 47,\n",
       "        47, 48, 48, 48, 49, 49, 50, 50, 51, 51, 52, 52, 53, 53, 54, 54, 55,\n",
       "        55], dtype=int32),\n",
       " Array([ 0,  7,  1,  8,  2,  9,  3, 10,  4, 11,  5, 12,  6, 13,  0,  7, 14,\n",
       "         1,  8, 15,  2,  9, 16,  3, 10, 17,  4, 11, 18,  5, 12, 19,  6, 13,\n",
       "        20,  7, 14, 21,  8, 15, 22,  9, 16, 23, 10, 17, 24, 11, 18, 25, 12,\n",
       "        19, 26, 13, 20, 27, 14, 21, 28, 15, 22, 29, 16, 23, 30, 17, 24, 31,\n",
       "        18, 25, 32, 19, 26, 33, 20, 27, 34, 21, 28, 35, 22, 29, 36, 23, 30,\n",
       "        37, 24, 31, 38, 25, 32, 39, 26, 33, 40, 27, 34, 41, 28, 35, 42, 29,\n",
       "        36, 43, 30, 37, 44, 31, 38, 45, 32, 39, 46, 33, 40, 47, 34, 41, 48,\n",
       "        35, 42, 49, 36, 43, 50, 37, 44, 51, 38, 45, 52, 39, 46, 53, 40, 47,\n",
       "        54, 41, 48, 55, 42, 49, 43, 50, 44, 51, 45, 52, 46, 53, 47, 54, 48,\n",
       "        55], dtype=int32))"
      ]
     },
     "execution_count": 44,
     "metadata": {},
     "output_type": "execute_result"
    }
   ],
   "source": [
    "jnp.nonzero(jax.hessian(solver.f_fn)(x0))"
   ]
  },
  {
   "cell_type": "code",
   "execution_count": 26,
   "metadata": {},
   "outputs": [],
   "source": [
    "h_jac = lambda x: jax.jacrev(solver.h_fn)(x)[h_jac_row, h_jac_col]"
   ]
  },
  {
   "cell_type": "code",
   "execution_count": 28,
   "metadata": {},
   "outputs": [],
   "source": [
    "h_jac = jax.jit(h_jac)"
   ]
  },
  {
   "cell_type": "code",
   "execution_count": 35,
   "metadata": {},
   "outputs": [
    {
     "name": "stdout",
     "output_type": "stream",
     "text": [
      "24.7 ms ± 303 µs per loop (mean ± std. dev. of 7 runs, 10 loops each)\n"
     ]
    }
   ],
   "source": [
    "%timeit jax.jit(jax.jacrev(solver.h_fn))(x0)"
   ]
  },
  {
   "cell_type": "code",
   "execution_count": 32,
   "metadata": {},
   "outputs": [
    {
     "name": "stdout",
     "output_type": "stream",
     "text": [
      "18 µs ± 653 ns per loop (mean ± std. dev. of 7 runs, 100,000 loops each)\n"
     ]
    }
   ],
   "source": [
    "%timeit h_jac(x0)"
   ]
  },
  {
   "cell_type": "code",
   "execution_count": 13,
   "metadata": {},
   "outputs": [
    {
     "name": "stderr",
     "output_type": "stream",
     "text": [
      "Exception ignored in: <function BulletClient.__del__ at 0x7f4b94605040>\n",
      "Traceback (most recent call last):\n",
      "  File \"/home/polde/miniconda3/envs/cu11/lib/python3.8/site-packages/pybullet_utils/bullet_client.py\", line 39, in __del__\n",
      "    if self._client>=0 and self._pid == os.getpid():\n",
      "  File \"/home/polde/miniconda3/envs/cu11/lib/python3.8/site-packages/pybullet_utils/bullet_client.py\", line 48, in __getattr__\n",
      "    attribute = getattr(pybullet, name)\n",
      "AttributeError: module 'pybullet' has no attribute '_client'\n"
     ]
    },
    {
     "ename": "KeyboardInterrupt",
     "evalue": "",
     "output_type": "error",
     "traceback": [
      "\u001b[0;31m---------------------------------------------------------------------------\u001b[0m",
      "\u001b[0;31mKeyboardInterrupt\u001b[0m                         Traceback (most recent call last)",
      "Cell \u001b[0;32mIn[13], line 1\u001b[0m\n\u001b[0;32m----> 1\u001b[0m xsol \u001b[39m=\u001b[39m solver\u001b[39m.\u001b[39;49msolve(x0, tol\u001b[39m=\u001b[39;49m\u001b[39m0.05\u001b[39;49m, verbose\u001b[39m=\u001b[39;49m\u001b[39mTrue\u001b[39;49;00m, save_history\u001b[39m=\u001b[39;49m\u001b[39mTrue\u001b[39;49;00m)\n",
      "File \u001b[0;32m/media/polde/datadrive/ws/opt_plan/nlp_solver.py:235\u001b[0m, in \u001b[0;36mSQPSolver.solve\u001b[0;34m(self, x0, max_iter, tol, const_viol_tol, qp_reltol, save_history, verbose)\u001b[0m\n\u001b[1;32m    233\u001b[0m x, m, sigma \u001b[39m=\u001b[39m \u001b[39mself\u001b[39m\u001b[39m.\u001b[39mupdate(state, alpha, direction, dual_sol)\n\u001b[1;32m    234\u001b[0m xdiff \u001b[39m=\u001b[39m jnp\u001b[39m.\u001b[39mlinalg\u001b[39m.\u001b[39mnorm(direction)\n\u001b[0;32m--> 235\u001b[0m state \u001b[39m=\u001b[39m \u001b[39mself\u001b[39;49m\u001b[39m.\u001b[39;49meval_fn(x, m, sigma, state_prev)\n\u001b[1;32m    236\u001b[0m \u001b[39mif\u001b[39;00m verbose:\n\u001b[1;32m    237\u001b[0m     \u001b[39mprint\u001b[39m(\u001b[39mf\u001b[39m\u001b[39m\"\u001b[39m\u001b[39m{\u001b[39;00mi\u001b[39m}\u001b[39;00m\u001b[39m: grad:\u001b[39m\u001b[39m{\u001b[39;00m\u001b[39mself\u001b[39m\u001b[39m.\u001b[39mmax_grad(state)\u001b[39m:\u001b[39;00m\u001b[39m.4f\u001b[39m\u001b[39m}\u001b[39;00m\u001b[39m | viol:\u001b[39m\u001b[39m{\u001b[39;00m\u001b[39mself\u001b[39m\u001b[39m.\u001b[39mmax_viol(state)\u001b[39m:\u001b[39;00m\u001b[39m.4f\u001b[39m\u001b[39m}\u001b[39;00m\u001b[39m | alpha:\u001b[39m\u001b[39m{\u001b[39;00malpha\u001b[39m:\u001b[39;00m\u001b[39m.4f\u001b[39m\u001b[39m}\u001b[39;00m\u001b[39m\"\u001b[39m)\n",
      "    \u001b[0;31m[... skipping hidden 1 frame]\u001b[0m\n",
      "File \u001b[0;32m~/miniconda3/envs/cu11/lib/python3.8/site-packages/jax/_src/pjit.py:238\u001b[0m, in \u001b[0;36m_cpp_pjit.<locals>.cache_miss\u001b[0;34m(*args, **kwargs)\u001b[0m\n\u001b[1;32m    236\u001b[0m \u001b[39m@api_boundary\u001b[39m\n\u001b[1;32m    237\u001b[0m \u001b[39mdef\u001b[39;00m \u001b[39mcache_miss\u001b[39m(\u001b[39m*\u001b[39margs, \u001b[39m*\u001b[39m\u001b[39m*\u001b[39mkwargs):\n\u001b[0;32m--> 238\u001b[0m   outs, out_flat, out_tree, args_flat \u001b[39m=\u001b[39m _python_pjit_helper(\n\u001b[1;32m    239\u001b[0m       fun, infer_params_fn, \u001b[39m*\u001b[39;49margs, \u001b[39m*\u001b[39;49m\u001b[39m*\u001b[39;49mkwargs)\n\u001b[1;32m    241\u001b[0m   executable \u001b[39m=\u001b[39m _read_most_recent_pjit_call_executable()\n\u001b[1;32m    243\u001b[0m   use_fastpath \u001b[39m=\u001b[39m (\n\u001b[1;32m    244\u001b[0m       executable \u001b[39mis\u001b[39;00m \u001b[39mnot\u001b[39;00m \u001b[39mNone\u001b[39;00m \u001b[39mand\u001b[39;00m\n\u001b[1;32m    245\u001b[0m       \u001b[39misinstance\u001b[39m(executable, pxla\u001b[39m.\u001b[39mMeshExecutable) \u001b[39mand\u001b[39;00m\n\u001b[0;32m   (...)\u001b[0m\n\u001b[1;32m    251\u001b[0m       \u001b[39mall\u001b[39m(\u001b[39misinstance\u001b[39m(x, xc\u001b[39m.\u001b[39mArrayImpl) \u001b[39mfor\u001b[39;00m x \u001b[39min\u001b[39;00m out_flat)\n\u001b[1;32m    252\u001b[0m   )\n",
      "File \u001b[0;32m~/miniconda3/envs/cu11/lib/python3.8/site-packages/jax/_src/pjit.py:185\u001b[0m, in \u001b[0;36m_python_pjit_helper\u001b[0;34m(fun, infer_params_fn, *args, **kwargs)\u001b[0m\n\u001b[1;32m    183\u001b[0m   dispatch\u001b[39m.\u001b[39mcheck_arg(arg)\n\u001b[1;32m    184\u001b[0m \u001b[39mtry\u001b[39;00m:\n\u001b[0;32m--> 185\u001b[0m   out_flat \u001b[39m=\u001b[39m pjit_p\u001b[39m.\u001b[39;49mbind(\u001b[39m*\u001b[39;49margs_flat, \u001b[39m*\u001b[39;49m\u001b[39m*\u001b[39;49mparams)\n\u001b[1;32m    186\u001b[0m \u001b[39mexcept\u001b[39;00m pxla\u001b[39m.\u001b[39mDeviceAssignmentMismatchError \u001b[39mas\u001b[39;00m e:\n\u001b[1;32m    187\u001b[0m   fails, \u001b[39m=\u001b[39m e\u001b[39m.\u001b[39margs\n",
      "File \u001b[0;32m~/miniconda3/envs/cu11/lib/python3.8/site-packages/jax/_src/core.py:2592\u001b[0m, in \u001b[0;36mAxisPrimitive.bind\u001b[0;34m(self, *args, **params)\u001b[0m\n\u001b[1;32m   2588\u001b[0m axis_main \u001b[39m=\u001b[39m \u001b[39mmax\u001b[39m((axis_frame(a)\u001b[39m.\u001b[39mmain_trace \u001b[39mfor\u001b[39;00m a \u001b[39min\u001b[39;00m used_axis_names(\u001b[39mself\u001b[39m, params)),\n\u001b[1;32m   2589\u001b[0m                 default\u001b[39m=\u001b[39m\u001b[39mNone\u001b[39;00m, key\u001b[39m=\u001b[39m\u001b[39mlambda\u001b[39;00m t: \u001b[39mgetattr\u001b[39m(t, \u001b[39m'\u001b[39m\u001b[39mlevel\u001b[39m\u001b[39m'\u001b[39m, \u001b[39m-\u001b[39m\u001b[39m1\u001b[39m))\n\u001b[1;32m   2590\u001b[0m top_trace \u001b[39m=\u001b[39m (top_trace \u001b[39mif\u001b[39;00m \u001b[39mnot\u001b[39;00m axis_main \u001b[39mor\u001b[39;00m axis_main\u001b[39m.\u001b[39mlevel \u001b[39m<\u001b[39m top_trace\u001b[39m.\u001b[39mlevel\n\u001b[1;32m   2591\u001b[0m              \u001b[39melse\u001b[39;00m axis_main\u001b[39m.\u001b[39mwith_cur_sublevel())\n\u001b[0;32m-> 2592\u001b[0m \u001b[39mreturn\u001b[39;00m \u001b[39mself\u001b[39;49m\u001b[39m.\u001b[39;49mbind_with_trace(top_trace, args, params)\n",
      "File \u001b[0;32m~/miniconda3/envs/cu11/lib/python3.8/site-packages/jax/_src/core.py:363\u001b[0m, in \u001b[0;36mPrimitive.bind_with_trace\u001b[0;34m(self, trace, args, params)\u001b[0m\n\u001b[1;32m    362\u001b[0m \u001b[39mdef\u001b[39;00m \u001b[39mbind_with_trace\u001b[39m(\u001b[39mself\u001b[39m, trace, args, params):\n\u001b[0;32m--> 363\u001b[0m   out \u001b[39m=\u001b[39m trace\u001b[39m.\u001b[39;49mprocess_primitive(\u001b[39mself\u001b[39;49m, \u001b[39mmap\u001b[39;49m(trace\u001b[39m.\u001b[39;49mfull_raise, args), params)\n\u001b[1;32m    364\u001b[0m   \u001b[39mreturn\u001b[39;00m \u001b[39mmap\u001b[39m(full_lower, out) \u001b[39mif\u001b[39;00m \u001b[39mself\u001b[39m\u001b[39m.\u001b[39mmultiple_results \u001b[39melse\u001b[39;00m full_lower(out)\n",
      "File \u001b[0;32m~/miniconda3/envs/cu11/lib/python3.8/site-packages/jax/_src/core.py:817\u001b[0m, in \u001b[0;36mEvalTrace.process_primitive\u001b[0;34m(self, primitive, tracers, params)\u001b[0m\n\u001b[1;32m    816\u001b[0m \u001b[39mdef\u001b[39;00m \u001b[39mprocess_primitive\u001b[39m(\u001b[39mself\u001b[39m, primitive, tracers, params):\n\u001b[0;32m--> 817\u001b[0m   \u001b[39mreturn\u001b[39;00m primitive\u001b[39m.\u001b[39;49mimpl(\u001b[39m*\u001b[39;49mtracers, \u001b[39m*\u001b[39;49m\u001b[39m*\u001b[39;49mparams)\n",
      "File \u001b[0;32m~/miniconda3/envs/cu11/lib/python3.8/site-packages/jax/_src/pjit.py:1229\u001b[0m, in \u001b[0;36m_pjit_call_impl\u001b[0;34m(jaxpr, in_shardings, out_shardings, resource_env, donated_invars, name, keep_unused, inline, *args)\u001b[0m\n\u001b[1;32m   1224\u001b[0m in_shardings \u001b[39m=\u001b[39m _resolve_in_shardings(\n\u001b[1;32m   1225\u001b[0m     args, in_shardings, out_shardings,\n\u001b[1;32m   1226\u001b[0m     resource_env\u001b[39m.\u001b[39mphysical_mesh \u001b[39mif\u001b[39;00m resource_env \u001b[39mis\u001b[39;00m \u001b[39mnot\u001b[39;00m \u001b[39mNone\u001b[39;00m \u001b[39melse\u001b[39;00m \u001b[39mNone\u001b[39;00m)\n\u001b[1;32m   1228\u001b[0m _allow_propagation_to_outputs \u001b[39m=\u001b[39m [_is_unspecified(o) \u001b[39mfor\u001b[39;00m o \u001b[39min\u001b[39;00m out_shardings]\n\u001b[0;32m-> 1229\u001b[0m compiled \u001b[39m=\u001b[39m _pjit_lower(\n\u001b[1;32m   1230\u001b[0m     jaxpr, in_shardings, out_shardings, resource_env,\n\u001b[1;32m   1231\u001b[0m     donated_invars, name, keep_unused,\n\u001b[1;32m   1232\u001b[0m     always_lower\u001b[39m=\u001b[39;49m\u001b[39mFalse\u001b[39;49;00m, lowering_platform\u001b[39m=\u001b[39;49m\u001b[39mNone\u001b[39;49;00m)\u001b[39m.\u001b[39;49mcompile(\n\u001b[1;32m   1233\u001b[0m         _allow_propagation_to_outputs\u001b[39m=\u001b[39;49m_allow_propagation_to_outputs)\n\u001b[1;32m   1234\u001b[0m _most_recent_pjit_call_executable\u001b[39m.\u001b[39mvalue \u001b[39m=\u001b[39m compiled\n\u001b[1;32m   1235\u001b[0m \u001b[39m# This check is expensive so only do it if enable_checks is on.\u001b[39;00m\n",
      "File \u001b[0;32m~/miniconda3/envs/cu11/lib/python3.8/site-packages/jax/_src/interpreters/pxla.py:2816\u001b[0m, in \u001b[0;36mMeshComputation.compile\u001b[0;34m(self, _allow_propagation_to_outputs, _allow_compile_replicated)\u001b[0m\n\u001b[1;32m   2813\u001b[0m     \u001b[39mself\u001b[39m\u001b[39m.\u001b[39m_executable \u001b[39m=\u001b[39m MeshExecutable\u001b[39m.\u001b[39mfrom_trivial_jaxpr(\n\u001b[1;32m   2814\u001b[0m         \u001b[39m*\u001b[39m\u001b[39m*\u001b[39m\u001b[39mself\u001b[39m\u001b[39m.\u001b[39mcompile_args)\n\u001b[1;32m   2815\u001b[0m   \u001b[39melse\u001b[39;00m:\n\u001b[0;32m-> 2816\u001b[0m     \u001b[39mself\u001b[39m\u001b[39m.\u001b[39m_executable \u001b[39m=\u001b[39m UnloadedMeshExecutable\u001b[39m.\u001b[39;49mfrom_hlo(\n\u001b[1;32m   2817\u001b[0m         \u001b[39mself\u001b[39;49m\u001b[39m.\u001b[39;49m_name,\n\u001b[1;32m   2818\u001b[0m         \u001b[39mself\u001b[39;49m\u001b[39m.\u001b[39;49m_hlo,\n\u001b[1;32m   2819\u001b[0m         \u001b[39m*\u001b[39;49m\u001b[39m*\u001b[39;49m\u001b[39mself\u001b[39;49m\u001b[39m.\u001b[39;49mcompile_args,\n\u001b[1;32m   2820\u001b[0m         _allow_propagation_to_outputs\u001b[39m=\u001b[39;49m_allow_propagation_to_outputs,\n\u001b[1;32m   2821\u001b[0m         _allow_compile_replicated\u001b[39m=\u001b[39;49m_allow_compile_replicated)\n\u001b[1;32m   2822\u001b[0m \u001b[39mreturn\u001b[39;00m \u001b[39mself\u001b[39m\u001b[39m.\u001b[39m_executable\n",
      "File \u001b[0;32m~/miniconda3/envs/cu11/lib/python3.8/site-packages/jax/_src/interpreters/pxla.py:3028\u001b[0m, in \u001b[0;36mUnloadedMeshExecutable.from_hlo\u001b[0;34m(name, computation, mesh, global_in_avals, global_out_avals, in_shardings, out_shardings, spmd_lowering, tuple_args, auto_spmd_lowering, _allow_propagation_to_outputs, _allow_compile_replicated, unordered_effects, ordered_effects, host_callbacks, keepalive, kept_var_idx, backend, device_assignment, committed, pmap_nreps)\u001b[0m\n\u001b[1;32m   3024\u001b[0m \u001b[39melse\u001b[39;00m:\n\u001b[1;32m   3025\u001b[0m   \u001b[39mwith\u001b[39;00m dispatch\u001b[39m.\u001b[39mlog_elapsed_time(\u001b[39mf\u001b[39m\u001b[39m\"\u001b[39m\u001b[39mFinished XLA compilation of \u001b[39m\u001b[39m{\u001b[39;00mname\u001b[39m}\u001b[39;00m\u001b[39m \u001b[39m\u001b[39m\"\u001b[39m\n\u001b[1;32m   3026\u001b[0m                                  \u001b[39m\"\u001b[39m\u001b[39min \u001b[39m\u001b[39m{elapsed_time}\u001b[39;00m\u001b[39m sec\u001b[39m\u001b[39m\"\u001b[39m,\n\u001b[1;32m   3027\u001b[0m                                  event\u001b[39m=\u001b[39mdispatch\u001b[39m.\u001b[39mBACKEND_COMPILE_EVENT):\n\u001b[0;32m-> 3028\u001b[0m     xla_executable \u001b[39m=\u001b[39m dispatch\u001b[39m.\u001b[39;49mcompile_or_get_cached(\n\u001b[1;32m   3029\u001b[0m         backend, computation, compile_options, host_callbacks)\n\u001b[1;32m   3031\u001b[0m   \u001b[39mif\u001b[39;00m auto_spmd_lowering:\n\u001b[1;32m   3032\u001b[0m     \u001b[39massert\u001b[39;00m mesh \u001b[39mis\u001b[39;00m \u001b[39mnot\u001b[39;00m \u001b[39mNone\u001b[39;00m\n",
      "File \u001b[0;32m~/miniconda3/envs/cu11/lib/python3.8/site-packages/jax/_src/dispatch.py:526\u001b[0m, in \u001b[0;36mcompile_or_get_cached\u001b[0;34m(backend, computation, compile_options, host_callbacks)\u001b[0m\n\u001b[1;32m    522\u001b[0m     _cache_write(serialized_computation, compile_time, module_name,\n\u001b[1;32m    523\u001b[0m                  compile_options, backend, compiled, host_callbacks)\n\u001b[1;32m    524\u001b[0m     \u001b[39mreturn\u001b[39;00m compiled\n\u001b[0;32m--> 526\u001b[0m \u001b[39mreturn\u001b[39;00m backend_compile(backend, serialized_computation, compile_options,\n\u001b[1;32m    527\u001b[0m                        host_callbacks)\n",
      "File \u001b[0;32m~/miniconda3/envs/cu11/lib/python3.8/site-packages/jax/_src/profiler.py:314\u001b[0m, in \u001b[0;36mannotate_function.<locals>.wrapper\u001b[0;34m(*args, **kwargs)\u001b[0m\n\u001b[1;32m    311\u001b[0m \u001b[39m@wraps\u001b[39m(func)\n\u001b[1;32m    312\u001b[0m \u001b[39mdef\u001b[39;00m \u001b[39mwrapper\u001b[39m(\u001b[39m*\u001b[39margs, \u001b[39m*\u001b[39m\u001b[39m*\u001b[39mkwargs):\n\u001b[1;32m    313\u001b[0m   \u001b[39mwith\u001b[39;00m TraceAnnotation(name, \u001b[39m*\u001b[39m\u001b[39m*\u001b[39mdecorator_kwargs):\n\u001b[0;32m--> 314\u001b[0m     \u001b[39mreturn\u001b[39;00m func(\u001b[39m*\u001b[39;49margs, \u001b[39m*\u001b[39;49m\u001b[39m*\u001b[39;49mkwargs)\n\u001b[1;32m    315\u001b[0m   \u001b[39mreturn\u001b[39;00m wrapper\n",
      "File \u001b[0;32m~/miniconda3/envs/cu11/lib/python3.8/site-packages/jax/_src/dispatch.py:471\u001b[0m, in \u001b[0;36mbackend_compile\u001b[0;34m(backend, built_c, options, host_callbacks)\u001b[0m\n\u001b[1;32m    466\u001b[0m   \u001b[39mreturn\u001b[39;00m backend\u001b[39m.\u001b[39mcompile(built_c, compile_options\u001b[39m=\u001b[39moptions,\n\u001b[1;32m    467\u001b[0m                          host_callbacks\u001b[39m=\u001b[39mhost_callbacks)\n\u001b[1;32m    468\u001b[0m \u001b[39m# Some backends don't have `host_callbacks` option yet\u001b[39;00m\n\u001b[1;32m    469\u001b[0m \u001b[39m# TODO(sharadmv): remove this fallback when all backends allow `compile`\u001b[39;00m\n\u001b[1;32m    470\u001b[0m \u001b[39m# to take in `host_callbacks`\u001b[39;00m\n\u001b[0;32m--> 471\u001b[0m \u001b[39mreturn\u001b[39;00m backend\u001b[39m.\u001b[39;49mcompile(built_c, compile_options\u001b[39m=\u001b[39;49moptions)\n",
      "\u001b[0;31mKeyboardInterrupt\u001b[0m: "
     ]
    }
   ],
   "source": [
    "xsol = solver.solve(x0, tol=0.05, verbose=True, save_history=True)"
   ]
  },
  {
   "cell_type": "code",
   "execution_count": 13,
   "metadata": {},
   "outputs": [],
   "source": [
    "xs = [h.x for h in solver.states]\n",
    "ds = [jnp.linalg.norm(h.direction) for h in solver.history]\n",
    "#ms = [h.m for h in solver.history]"
   ]
  },
  {
   "cell_type": "code",
   "execution_count": 1,
   "metadata": {},
   "outputs": [
    {
     "ename": "NameError",
     "evalue": "name 'ds' is not defined",
     "output_type": "error",
     "traceback": [
      "\u001b[0;31m---------------------------------------------------------------------------\u001b[0m",
      "\u001b[0;31mNameError\u001b[0m                                 Traceback (most recent call last)",
      "Cell \u001b[0;32mIn[1], line 1\u001b[0m\n\u001b[0;32m----> 1\u001b[0m ds[\u001b[39m-\u001b[39m\u001b[39m10\u001b[39m:]\n",
      "\u001b[0;31mNameError\u001b[0m: name 'ds' is not defined"
     ]
    }
   ],
   "source": [
    "ds[-10:]"
   ]
  },
  {
   "cell_type": "code",
   "execution_count": 13,
   "metadata": {},
   "outputs": [
    {
     "data": {
      "text/plain": [
       "[<matplotlib.lines.Line2D at 0x7fdbd0282220>]"
      ]
     },
     "execution_count": 13,
     "metadata": {},
     "output_type": "execute_result"
    },
    {
     "data": {
      "image/png": "[encoded data removed]",
      "text/plain": [
       "<Figure size 640x480 with 1 Axes>"
      ]
     },
     "metadata": {},
     "output_type": "display_data"
    }
   ],
   "source": [
    "# with min ee dist cost\n",
    "plt.plot(ds)"
   ]
  },
  {
   "cell_type": "code",
   "execution_count": 57,
   "metadata": {},
   "outputs": [
    {
     "data": {
      "text/plain": [
       "[<matplotlib.lines.Line2D at 0x7fd88006d5b0>]"
      ]
     },
     "execution_count": 57,
     "metadata": {},
     "output_type": "execute_result"
    },
    {
     "data": {
      "image/png": "[encoded data removed]",
      "text/plain": [
       "<Figure size 640x480 with 1 Axes>"
      ]
     },
     "metadata": {},
     "output_type": "display_data"
    }
   ],
   "source": [
    "# with min dist cost\n",
    "plt.plot(jnp.array(ms).max(axis=1))"
   ]
  },
  {
   "cell_type": "code",
   "execution_count": 123,
   "metadata": {},
   "outputs": [
    {
     "data": {
      "text/plain": [
       "Array([49, 37, 28, 22, 29, 29, 28, 28, 28, 22, 28, 28, 22, 22, 28, 28, 31,\n",
       "       31, 28, 28, 31, 31, 28, 28, 15, 15, 28, 28, 15, 15, 28, 28, 15, 15,\n",
       "       28, 28, 15, 15, 28, 28, 28, 28, 28, 28, 28, 24], dtype=int32)"
      ]
     },
     "execution_count": 123,
     "metadata": {},
     "output_type": "execute_result"
    }
   ],
   "source": [
    "jnp.array(lag_grads).argmax(axis=1)"
   ]
  },
  {
   "cell_type": "code",
   "execution_count": 148,
   "metadata": {},
   "outputs": [],
   "source": [
    "scale = jnp.array(lag_grads).max(axis=0) - jnp.array(lag_grads).min(axis=0)"
   ]
  },
  {
   "cell_type": "code",
   "execution_count": 153,
   "metadata": {},
   "outputs": [],
   "source": [
    "scaled_grad = jnp.array(lag_grads) / scale"
   ]
  },
  {
   "cell_type": "code",
   "execution_count": 155,
   "metadata": {},
   "outputs": [
    {
     "data": {
      "text/plain": [
       "Array([0.99999857, 0.99992883, 0.98198867, 0.6564444 , 0.7880862 ,\n",
       "       0.7776745 , 0.9863725 , 0.97753435, 0.7184059 , 0.42343292,\n",
       "       0.61636525, 0.5824696 , 0.82872003, 0.8192711 , 0.77263904,\n",
       "       0.7551455 , 0.93261147, 0.7472565 , 0.46235412, 0.45704332,\n",
       "       1.        , 0.98877543, 0.73230845, 0.7235934 , 0.8485741 ,\n",
       "       0.8390106 , 0.7468877 , 0.737932  , 0.87231165, 0.8597755 ,\n",
       "       0.7632451 , 0.7517424 , 0.8728272 , 0.855628  , 0.75550294,\n",
       "       0.7487601 , 0.8685142 , 0.8168072 , 0.4936103 , 0.49458748,\n",
       "       0.76457816, 0.6854551 , 0.5587554 , 0.43950135, 0.9901103 ,\n",
       "       0.97432834], dtype=float32)"
      ]
     },
     "execution_count": 155,
     "metadata": {},
     "output_type": "execute_result"
    }
   ],
   "source": [
    "jnp.linalg.norm(scaled_grad, jnp.inf, axis=1)"
   ]
  },
  {
   "cell_type": "code",
   "execution_count": 14,
   "metadata": {},
   "outputs": [],
   "source": [
    "i = 0"
   ]
  },
  {
   "cell_type": "code",
   "execution_count": 52,
   "metadata": {},
   "outputs": [
    {
     "ename": "IndexError",
     "evalue": "list index out of range",
     "output_type": "error",
     "traceback": [
      "\u001b[0;31m---------------------------------------------------------------------------\u001b[0m",
      "\u001b[0;31mIndexError\u001b[0m                                Traceback (most recent call last)",
      "Cell \u001b[0;32mIn[52], line 1\u001b[0m\n\u001b[0;32m----> 1\u001b[0m show_path(xs[i])\n\u001b[1;32m      2\u001b[0m \u001b[39mprint\u001b[39m(\u001b[39mf\u001b[39m\u001b[39m\"\u001b[39m\u001b[39m{\u001b[39;00mi\u001b[39m+\u001b[39m\u001b[39m1\u001b[39m\u001b[39m}\u001b[39;00m\u001b[39m/\u001b[39m\u001b[39m{\u001b[39;00m\u001b[39mlen\u001b[39m(xs)\u001b[39m}\u001b[39;00m\u001b[39m\"\u001b[39m)\n\u001b[1;32m      3\u001b[0m i\u001b[39m+\u001b[39m\u001b[39m=\u001b[39m\u001b[39m1\u001b[39m\n",
      "\u001b[0;31mIndexError\u001b[0m: list index out of range"
     ]
    },
    {
     "ename": "",
     "evalue": "",
     "output_type": "error",
     "traceback": [
      "\u001b[1;31mThe Kernel crashed while executing code in the the current cell or a previous cell. Please review the code in the cell(s) to identify a possible cause of the failure. Click <a href='https://aka.ms/vscodeJupyterKernelCrash'>here</a> for more info. View Jupyter <a href='command:jupyter.viewOutput'>log</a> for further details."
     ]
    }
   ],
   "source": [
    "show_path(xs[i])\n",
    "print(f\"{i+1}/{len(xs)}\")\n",
    "i+=1"
   ]
  },
  {
   "cell_type": "code",
   "execution_count": 32,
   "metadata": {},
   "outputs": [],
   "source": [
    "qs = to_mat(xs[-1])"
   ]
  },
  {
   "cell_type": "code",
   "execution_count": 33,
   "metadata": {},
   "outputs": [],
   "source": [
    "show_path(jnp.zeros_like(qs))"
   ]
  },
  {
   "cell_type": "code",
   "execution_count": 34,
   "metadata": {},
   "outputs": [],
   "source": [
    "i = 0"
   ]
  },
  {
   "cell_type": "code",
   "execution_count": 42,
   "metadata": {},
   "outputs": [],
   "source": [
    "pandas[0].set_joint_angles(qs[i])\n",
    "i += 1"
   ]
  }
 ],
 "metadata": {
  "kernelspec": {
   "display_name": "cu11",
   "language": "python",
   "name": "python3"
  },
  "language_info": {
   "codemirror_mode": {
    "name": "ipython",
    "version": 3
   },
   "file_extension": ".py",
   "mimetype": "text/x-python",
   "name": "python",
   "nbconvert_exporter": "python",
   "pygments_lexer": "ipython3",
   "version": "3.8.16"
  },
  "orig_nbformat": 4
 },
 "nbformat": 4,
 "nbformat_minor": 2
}
