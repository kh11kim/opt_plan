{
 "cells": [
  {
   "cell_type": "code",
   "execution_count": 1,
   "metadata": {},
   "outputs": [
    {
     "name": "stderr",
     "output_type": "stream",
     "text": [
      "pybullet build time: Dec 14 2022 00:46:04\n"
     ]
    }
   ],
   "source": [
    "import jax\n",
    "import jax.numpy as jnp\n",
    "import numpy as np\n",
    "import matplotlib.pyplot as plt\n",
    "import cyipopt\n",
    "from pybullet_suite import *\n",
    "from panda_collision import *\n",
    "from signed_distance import *\n",
    "from pathlib import Path"
   ]
  },
  {
   "cell_type": "code",
   "execution_count": 2,
   "metadata": {},
   "outputs": [],
   "source": [
    "mesh_path = Path(PANDA_URDF).parent/\"meshes/collision\"\n",
    "link_names = link_names = [\n",
    "    'link0', 'link1', 'link2', 'link3', \n",
    "    'link4', 'link5', 'link6', 'link7', 'hand', \n",
    "    'finger', 'finger'\n",
    "]"
   ]
  },
  {
   "cell_type": "code",
   "execution_count": 3,
   "metadata": {},
   "outputs": [
    {
     "name": "stdout",
     "output_type": "stream",
     "text": [
      "Robot name: panda\n"
     ]
    },
    {
     "name": "stderr",
     "output_type": "stream",
     "text": [
      "concatenating texture: may result in visual artifacts\n",
      "only got 79/100 samples!\n"
     ]
    }
   ],
   "source": [
    "fk = get_fk_fn(PANDA_URDF)\n",
    "pc = get_pointclouds(mesh_path, link_names)"
   ]
  },
  {
   "cell_type": "code",
   "execution_count": 6,
   "metadata": {},
   "outputs": [],
   "source": [
    "offset = SE3.from_translation(jnp.array([0., 0, -1]))\n",
    "half_extents = jnp.array([10., 10, 1])\n",
    "ground = box(offset, half_extents)\n",
    "circ = circle(jnp.array([0.5,0,0.5]), 0.2)\n",
    "env = EnvSDF((circ, ground))"
   ]
  },
  {
   "cell_type": "code",
   "execution_count": 7,
   "metadata": {},
   "outputs": [],
   "source": [
    "def robot_penet(q):\n",
    "    tfs = fk(q)\n",
    "    points = pc.apply_transforms(tfs)\n",
    "    return env.penetration_sum(points, pc.num_points, 0.02)"
   ]
  },
  {
   "cell_type": "code",
   "execution_count": 10,
   "metadata": {},
   "outputs": [
    {
     "name": "stdout",
     "output_type": "stream",
     "text": [
      "58.1 ms ± 2.36 ms per loop (mean ± std. dev. of 7 runs, 10 loops each)\n"
     ]
    }
   ],
   "source": [
    "%timeit robot_penet(jnp.zeros(7))"
   ]
  },
  {
   "cell_type": "code",
   "execution_count": 10,
   "metadata": {},
   "outputs": [
    {
     "data": {
      "text/plain": [
       "Array([[ 6.3396730e-02, -1.3823391e-02,  5.6593366e-02],\n",
       "       [-1.4391968e-01, -7.1363188e-03,  2.4019109e-02],\n",
       "       [-1.3907564e-01,  4.7267664e-02,  1.7710578e-07],\n",
       "       ...,\n",
       "       [ 6.0018450e-02,  2.9043026e-02,  8.3249056e-01],\n",
       "       [ 6.5231413e-02,  3.3720437e-02,  8.2052982e-01],\n",
       "       [ 4.5467369e-02,  4.7129169e-02,  8.4266722e-01]], dtype=float32)"
      ]
     },
     "execution_count": 10,
     "metadata": {},
     "output_type": "execute_result"
    }
   ],
   "source": [
    "pc.apply_transforms(fk(jnp.zeros(7)))"
   ]
  },
  {
   "cell_type": "code",
   "execution_count": null,
   "metadata": {},
   "outputs": [],
   "source": []
  }
 ],
 "metadata": {
  "kernelspec": {
   "display_name": "opt_env",
   "language": "python",
   "name": "python3"
  },
  "language_info": {
   "codemirror_mode": {
    "name": "ipython",
    "version": 3
   },
   "file_extension": ".py",
   "mimetype": "text/x-python",
   "name": "python",
   "nbconvert_exporter": "python",
   "pygments_lexer": "ipython3",
   "version": "3.8.15"
  },
  "orig_nbformat": 4
 },
 "nbformat": 4,
 "nbformat_minor": 2
}
