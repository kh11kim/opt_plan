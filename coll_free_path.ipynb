{
 "cells": [
  {
   "cell_type": "code",
   "execution_count": 1,
   "metadata": {},
   "outputs": [
    {
     "name": "stderr",
     "output_type": "stream",
     "text": [
      "pybullet build time: May 20 2022 19:44:17\n"
     ]
    }
   ],
   "source": [
    "import jax\n",
    "import jax.numpy as jnp\n",
    "import numpy as np\n",
    "import matplotlib.pyplot as plt\n",
    "import cyipopt\n",
    "from pybullet_suite import *\n",
    "from panda_collision import *\n",
    "from signed_distance import *\n",
    "from pathlib import Path"
   ]
  },
  {
   "cell_type": "code",
   "execution_count": 2,
   "metadata": {},
   "outputs": [],
   "source": [
    "mesh_path = Path(PANDA_URDF).parent/\"meshes/collision\"\n",
    "link_names = link_names = [\n",
    "    'link1', 'link2', 'link3', \n",
    "    'link4', 'link5', 'link6', 'link7', 'hand', \n",
    "    'finger', 'finger'\n",
    "]"
   ]
  },
  {
   "cell_type": "code",
   "execution_count": 114,
   "metadata": {},
   "outputs": [
    {
     "name": "stderr",
     "output_type": "stream",
     "text": [
      "only got 89/100 samples!\n"
     ]
    },
    {
     "name": "stdout",
     "output_type": "stream",
     "text": [
      "Robot name: panda\n"
     ]
    }
   ],
   "source": [
    "fk = get_fk_fn(PANDA_URDF)\n",
    "pc = get_pointclouds(mesh_path, link_names)"
   ]
  },
  {
   "cell_type": "code",
   "execution_count": 115,
   "metadata": {},
   "outputs": [
    {
     "ename": "error",
     "evalue": "Only one local in-process GUI/GUI_SERVER connection allowed. Use DIRECT connection mode or start a separate GUI physics server (ExampleBrowser, App_SharedMemoryPhysics_GUI, App_SharedMemoryPhysics_VR) and connect over SHARED_MEMORY, UDP or TCP instead.",
     "output_type": "error",
     "traceback": [
      "\u001b[0;31m---------------------------------------------------------------------------\u001b[0m",
      "\u001b[0;31merror\u001b[0m                                     Traceback (most recent call last)",
      "Cell \u001b[0;32mIn[115], line 1\u001b[0m\n\u001b[0;32m----> 1\u001b[0m bw \u001b[39m=\u001b[39m BulletWorld(gui\u001b[39m=\u001b[39;49m\u001b[39mTrue\u001b[39;49;00m)\n\u001b[1;32m      2\u001b[0m sm \u001b[39m=\u001b[39m BulletSceneMaker(bw)\n\u001b[1;32m      4\u001b[0m pandas \u001b[39m=\u001b[39m [bw\u001b[39m.\u001b[39mload_robot(Panda, \u001b[39mf\u001b[39m\u001b[39m\"\u001b[39m\u001b[39mpanda\u001b[39m\u001b[39m{\u001b[39;00mi\u001b[39m}\u001b[39;00m\u001b[39m\"\u001b[39m) \u001b[39mfor\u001b[39;00m i \u001b[39min\u001b[39;00m \u001b[39mrange\u001b[39m(\u001b[39m8\u001b[39m)]\n",
      "File \u001b[0;32m~/miniconda3/envs/cu11/lib/python3.8/site-packages/pybullet_suite/base/world.py:75\u001b[0m, in \u001b[0;36mBulletWorld.__init__\u001b[0;34m(self, gui, dt, dt_gui, gravity, background_color)\u001b[0m\n\u001b[1;32m     71\u001b[0m     \u001b[39mself\u001b[39m\u001b[39m.\u001b[39mphysics_client \u001b[39m=\u001b[39m BulletClient(\n\u001b[1;32m     72\u001b[0m             connection_mode\u001b[39m=\u001b[39mconnection_mode,\n\u001b[1;32m     73\u001b[0m             options\u001b[39m=\u001b[39moptions)\n\u001b[1;32m     74\u001b[0m \u001b[39melse\u001b[39;00m:\n\u001b[0;32m---> 75\u001b[0m     \u001b[39mself\u001b[39m\u001b[39m.\u001b[39mphysics_client \u001b[39m=\u001b[39m BulletClient(\n\u001b[1;32m     76\u001b[0m             connection_mode\u001b[39m=\u001b[39;49mconnection_mode)\n\u001b[1;32m     78\u001b[0m \u001b[39mself\u001b[39m\u001b[39m.\u001b[39mphysics_client\u001b[39m.\u001b[39msetTimeStep(\u001b[39mself\u001b[39m\u001b[39m.\u001b[39mdt)\n\u001b[1;32m     79\u001b[0m \u001b[39mself\u001b[39m\u001b[39m.\u001b[39mset_debug_visualizer(\u001b[39mFalse\u001b[39;00m)\n",
      "File \u001b[0;32m~/miniconda3/envs/cu11/lib/python3.8/site-packages/pybullet_utils/bullet_client.py:33\u001b[0m, in \u001b[0;36mBulletClient.__init__\u001b[0;34m(self, connection_mode, hostName, options)\u001b[0m\n\u001b[1;32m     31\u001b[0m     connection_mode \u001b[39m=\u001b[39m pybullet\u001b[39m.\u001b[39mDIRECT\n\u001b[1;32m     32\u001b[0m \u001b[39mif\u001b[39;00m hostName \u001b[39mis\u001b[39;00m \u001b[39mNone\u001b[39;00m:\n\u001b[0;32m---> 33\u001b[0m     \u001b[39mself\u001b[39m\u001b[39m.\u001b[39m_client \u001b[39m=\u001b[39m pybullet\u001b[39m.\u001b[39;49mconnect(connection_mode, options\u001b[39m=\u001b[39;49moptions)\n\u001b[1;32m     34\u001b[0m \u001b[39melse\u001b[39;00m:\n\u001b[1;32m     35\u001b[0m     \u001b[39mself\u001b[39m\u001b[39m.\u001b[39m_client \u001b[39m=\u001b[39m pybullet\u001b[39m.\u001b[39mconnect(connection_mode, hostName\u001b[39m=\u001b[39mhostName, options\u001b[39m=\u001b[39moptions)\n",
      "\u001b[0;31merror\u001b[0m: Only one local in-process GUI/GUI_SERVER connection allowed. Use DIRECT connection mode or start a separate GUI physics server (ExampleBrowser, App_SharedMemoryPhysics_GUI, App_SharedMemoryPhysics_VR) and connect over SHARED_MEMORY, UDP or TCP instead."
     ]
    }
   ],
   "source": [
    "bw = BulletWorld(gui=True)\n",
    "sm = BulletSceneMaker(bw)\n",
    "\n",
    "pandas = [bw.load_robot(Panda, f\"panda{i}\") for i in range(8)]"
   ]
  },
  {
   "cell_type": "code",
   "execution_count": 5,
   "metadata": {},
   "outputs": [],
   "source": [
    "obs_center = jnp.array([0.6, 0, 0.6])\n",
    "obs_r = 0.2"
   ]
  },
  {
   "cell_type": "code",
   "execution_count": 6,
   "metadata": {},
   "outputs": [],
   "source": [
    "obs = sm.create_sphere(\"obstacle\", obs_r, 0.1, Pose.identity(), [1,0,0,0.3])\n",
    "obs.set_base_pose(Pose(trans=np.asarray(obs_center)))"
   ]
  },
  {
   "cell_type": "code",
   "execution_count": 7,
   "metadata": {},
   "outputs": [],
   "source": [
    "# env\n",
    "offset = SE3.from_translation(jnp.array([0., 0, -1]))\n",
    "half_extents = jnp.array([10., 10, 1])\n",
    "ground = box(offset, half_extents)\n",
    "circ = circle(obs_center, obs_r)\n",
    "env = EnvSDF((circ, ground))"
   ]
  },
  {
   "cell_type": "code",
   "execution_count": 40,
   "metadata": {},
   "outputs": [],
   "source": [
    "def robot_penet(q):\n",
    "    tfs = fk(q)\n",
    "    points = pc.apply_transforms(tfs)\n",
    "    return env.penetration_sum(points, pc.num_points, 0.02)\n",
    "def path_penet(qs):\n",
    "    q_batch = qs.reshape(-1, 7)    \n",
    "    robot_penet_path = jax.vmap(robot_penet)(q_batch).sum()\n",
    "    return robot_penet_path\n",
    "#robot_penet_path = jax.vmap(robot_penet)\n",
    "robot_penet_path = jax.jit(path_penet)"
   ]
  },
  {
   "cell_type": "code",
   "execution_count": 82,
   "metadata": {},
   "outputs": [],
   "source": [
    "# util functions\n",
    "dim_robot = 7\n",
    "num_steps = 8\n",
    "dim = dim_robot*num_steps\n",
    "def to_mat(x):\n",
    "    return x.reshape(-1, dim_robot)\n",
    "def at_timestep(i, x):\n",
    "    return to_mat(x)[i]\n",
    "def to_vel(x):\n",
    "    return (to_mat(x)[1:] - to_mat(x)[:-1]).flatten()"
   ]
  },
  {
   "cell_type": "code",
   "execution_count": 112,
   "metadata": {},
   "outputs": [],
   "source": [
    "from functools import partial\n",
    "\n",
    "# functions\n",
    "def min_dist_cost(x):\n",
    "    v = to_vel(x)\n",
    "    return v @ v\n",
    "state_init = partial(at_timestep, 0)\n",
    "state_goal = partial(at_timestep,-1)"
   ]
  },
  {
   "cell_type": "code",
   "execution_count": null,
   "metadata": {},
   "outputs": [],
   "source": [
    "q_init = jnp.array([-0.9   ,  0.    ,  0.    , -1.7708,  0.    ,  1.8675,  0.    ])\n",
    "q_goal = jnp.array([0.9   ,  0.    ,  0.    , -1.7708,  0.    ,  1.8675,  0.    ])\n",
    "qs = jnp.linspace(q_init, q_goal, 8).flatten()\n"
   ]
  },
  {
   "cell_type": "code",
   "execution_count": null,
   "metadata": {},
   "outputs": [],
   "source": [
    "g, cl, cu = [], [], []\n",
    "f = min_dist_cost\n",
    "g.append(state_init)\n",
    "cl.extend(q_init)\n",
    "cu.extend(q_init)\n",
    "g.append(state_goal)\n",
    "cl.extend(q_goal)\n",
    "cu.extend(q_goal)\n",
    "g.append(ssdf_obs_path)\n",
    "cl.extend(jnp.zeros(num_steps))\n",
    "cu.extend(jnp.full(num_steps,jnp.inf))"
   ]
  },
  {
   "cell_type": "code",
   "execution_count": 37,
   "metadata": {},
   "outputs": [],
   "source": [
    "def show_path(qs):\n",
    "    qs = qs.reshape(-1, 7)\n",
    "    for i, q in enumerate(qs):\n",
    "        pandas[i].set_joint_angles(q)\n",
    "show_path(qs)"
   ]
  },
  {
   "cell_type": "code",
   "execution_count": 109,
   "metadata": {},
   "outputs": [],
   "source": []
  },
  {
   "cell_type": "code",
   "execution_count": 110,
   "metadata": {},
   "outputs": [],
   "source": [
    "def total_cost(qs):\n",
    "    return min_dist_cost(qs) + 0.0001 * path_penet(qs)"
   ]
  },
  {
   "cell_type": "code",
   "execution_count": 111,
   "metadata": {},
   "outputs": [
    {
     "name": "stdout",
     "output_type": "stream",
     "text": [
      "0.4022482\n",
      "0.35180604\n",
      "0.31216303\n",
      "0.27848944\n",
      "0.24921426\n",
      "0.22361854\n",
      "0.20120019\n",
      "0.18155658\n",
      "0.16436628\n",
      "0.14938079\n"
     ]
    }
   ],
   "source": [
    "for i in range(10):\n",
    "    qs_grad = jax.grad(total_cost)(qs)\n",
    "    if jnp.abs(qs_grad).sum() < 1e-3:\n",
    "        break\n",
    "    grad_desc_step = -0.2 * qs_grad\n",
    "    qs += grad_desc_step\n",
    "    print(total_cost(qs))\n",
    "    show_path(qs)"
   ]
  },
  {
   "cell_type": "code",
   "execution_count": 71,
   "metadata": {},
   "outputs": [
    {
     "name": "stdout",
     "output_type": "stream",
     "text": [
      "273 µs ± 39.2 µs per loop (mean ± std. dev. of 7 runs, 1 loop each)\n"
     ]
    }
   ],
   "source": [
    "%timeit jax.jit(path_penet)(qs)"
   ]
  }
 ],
 "metadata": {
  "kernelspec": {
   "display_name": "cu11",
   "language": "python",
   "name": "python3"
  },
  "language_info": {
   "codemirror_mode": {
    "name": "ipython",
    "version": 3
   },
   "file_extension": ".py",
   "mimetype": "text/x-python",
   "name": "python",
   "nbconvert_exporter": "python",
   "pygments_lexer": "ipython3",
   "version": "3.8.16"
  },
  "orig_nbformat": 4
 },
 "nbformat": 4,
 "nbformat_minor": 2
}
