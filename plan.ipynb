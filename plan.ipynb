{
 "cells": [
  {
   "cell_type": "code",
   "execution_count": 1,
   "metadata": {},
   "outputs": [],
   "source": [
    "import numpy as np\n",
    "import cyipopt\n",
    "from cyipopt import minimize_ipopt\n",
    "import jax\n",
    "import jax.numpy as jnp\n",
    "from typing import Dict"
   ]
  },
  {
   "cell_type": "code",
   "execution_count": 525,
   "metadata": {},
   "outputs": [],
   "source": [
    "import jax.numpy as jnp"
   ]
  },
  {
   "cell_type": "code",
   "execution_count": 530,
   "metadata": {},
   "outputs": [
    {
     "data": {
      "text/plain": [
       "(1, 3)"
      ]
     },
     "execution_count": 530,
     "metadata": {},
     "output_type": "execute_result"
    }
   ],
   "source": [
    "jnp.zeros((1,3)).shape"
   ]
  },
  {
   "cell_type": "code",
   "execution_count": 396,
   "metadata": {},
   "outputs": [],
   "source": [
    "from functools import partial\n",
    "from copy import deepcopy\n",
    "\n",
    "class NLP:\n",
    "    def __init__(self, dim):\n",
    "        self.dim = dim\n",
    "        self.lb = [-np.inf]*dim\n",
    "        self.ub = [np.inf]*dim\n",
    "        self.cl = []\n",
    "        self.cu = []\n",
    "        self.obj_fn = None\n",
    "        self.const_fns = []\n",
    "    \n",
    "    def set_bounds(self, lb, ub):\n",
    "        assert len(lb) == len(ub) == self.dim\n",
    "        self.lb = lb\n",
    "        self.ub = ub\n",
    "\n",
    "    def set_objective(self, fn):\n",
    "        self.obj_fn = fn\n",
    "\n",
    "    def set_const_fn(self, fn, eq_value=None, ineq_lb=None, ineq_ub=None):\n",
    "        self.const_fns += [fn]\n",
    "        lb, ub = -jnp.inf, jnp.inf\n",
    "        if eq_value is not None:\n",
    "            lb = ub = eq_value\n",
    "        else: \n",
    "            if ineq_lb is not None:\n",
    "                lb = ineq_lb\n",
    "            if ineq_ub is not None:\n",
    "                ub = ineq_ub\n",
    "        self.cl += [lb]\n",
    "        self.cu += [ub]\n",
    "    \n",
    "    def get_combined_constraint(self):\n",
    "        const_fn = lambda x: jnp.hstack([fn(x) for fn in self.const_fns])\n",
    "        cl = jnp.hstack(self.cl)\n",
    "        cu = jnp.hstack(self.cu)\n",
    "        return const_fn, cl, cu\n",
    "\n",
    "    def get_prob(self, use_hess=True, debug=False, return_fns=False):\n",
    "        def obj_fn_debug(x):\n",
    "            self.x_history.append(np.array(x))\n",
    "            return self.obj_fn(x)\n",
    "        if debug:\n",
    "            self.x_history = []\n",
    "            obj_fn = obj_fn_debug\n",
    "        else:\n",
    "            obj_fn = self.obj_fn\n",
    "            \n",
    "        const_fn, cl, cu = self.get_combined_constraint()\n",
    "        return self.make_ipopt_prob(\n",
    "            self.dim,\n",
    "            obj_fn=obj_fn,\n",
    "            const_fn=const_fn,\n",
    "            lb=self.lb,\n",
    "            ub=self.ub,\n",
    "            cl=cl, cu=cu,\n",
    "            use_hess=use_hess,\n",
    "            debug=debug,\n",
    "            return_fns=return_fns\n",
    "        )\n",
    "    \n",
    "    def make_ipopt_prob(self, dim, obj_fn, const_fn, lb, ub, cl, cu, use_hess, debug, return_fns=False):\n",
    "        x0 = jnp.zeros(dim)\n",
    "        const_dim = len(const_fn(x0))\n",
    "        fn_dict = {}\n",
    "        fn_dict['objective'] = obj_fn\n",
    "        fn_dict['gradient'] = jax.grad(self.obj_fn)\n",
    "        fn_dict['obj_hess'] = jax.jacrev(jax.jacfwd(self.obj_fn))\n",
    "        fn_dict['constraints'] = const_fn\n",
    "        fn_dict['jacobian'] = jax.jacrev(const_fn)\n",
    "        fn_dict['const_hess'] = jax.jacrev(jax.jacrev(const_fn))\n",
    "        \n",
    "        if use_hess and not debug:\n",
    "            def hessian(x, lagrange, obj_factor):\n",
    "                H_obj = obj_factor * fn_dict['obj_hess'](x)\n",
    "                H_const = jnp.einsum('i,ijk->jk', lagrange, fn_dict['const_hess'](x))\n",
    "                H = (H_obj + H_const)[jnp.tril_indices(dim)]\n",
    "                return H\n",
    "            fn_dict['hessian'] = hessian\n",
    "        \n",
    "        class Problem:\n",
    "            pass\n",
    "        prob = Problem()\n",
    "        setattr(prob, \"n\", len(x0))\n",
    "        setattr(prob, \"m\", len(const_fn(x0)))\n",
    "        if debug:\n",
    "            setattr(prob, \"objective\", obj_fn)\n",
    "        else:\n",
    "            setattr(prob, \"objective\", jax.jit(obj_fn).lower(x0).compile())\n",
    "\n",
    "        for fn_name, fn in fn_dict.items():\n",
    "            if fn_name in ['constraints', 'gradient', 'jacobian']:\n",
    "                setattr(prob, fn_name, jax.jit(fn).lower(x0).compile())\n",
    "            if fn_name in ['hessian'] and use_hess:\n",
    "                setattr(prob, fn_name, jax.jit(fn).lower(x0, jnp.zeros(const_dim), 1.).compile())\n",
    "        if return_fns:\n",
    "            return fn_dict\n",
    "        return cyipopt.Problem(\n",
    "            n=dim,\n",
    "            m=len(cl),\n",
    "            problem_obj=prob,\n",
    "            lb=lb,ub=ub,cl=cl,cu=cu\n",
    "        )\n",
    "            "
   ]
  },
  {
   "cell_type": "code",
   "execution_count": 398,
   "metadata": {},
   "outputs": [
    {
     "name": "stdout",
     "output_type": "stream",
     "text": [
      "This is Ipopt version 3.14.10, running with linear solver MUMPS 5.2.1.\n",
      "\n",
      "Number of nonzeros in equality constraint Jacobian...:        4\n",
      "Number of nonzeros in inequality constraint Jacobian.:        4\n",
      "Number of nonzeros in Lagrangian Hessian.............:       10\n",
      "\n",
      "Total number of variables............................:        4\n",
      "                     variables with only lower bounds:        0\n",
      "                variables with lower and upper bounds:        4\n",
      "                     variables with only upper bounds:        0\n",
      "Total number of equality constraints.................:        1\n",
      "Total number of inequality constraints...............:        1\n",
      "        inequality constraints with only lower bounds:        1\n",
      "   inequality constraints with lower and upper bounds:        0\n",
      "        inequality constraints with only upper bounds:        0\n",
      "\n",
      "iter    objective    inf_pr   inf_du lg(mu)  ||d||  lg(rg) alpha_du alpha_pr  ls\n",
      "   0  1.6109694e+01 1.12e+01 5.28e-01  -1.0 0.00e+00    -  0.00e+00 0.00e+00   0\n",
      "   1  1.6982239e+01 7.30e-01 1.02e+01  -1.0 6.11e-01    -  7.19e-02 1.00e+00f  1\n",
      "   2  1.7318411e+01 3.60e-02 5.05e-01  -1.0 1.61e-01    -  1.00e+00 1.00e+00h  1\n",
      "   3  1.6849424e+01 2.78e-01 6.68e-02  -1.7 2.85e-01    -  7.94e-01 1.00e+00h  1\n",
      "   4  1.7051197e+01 4.71e-03 2.78e-03  -1.7 6.06e-02    -  1.00e+00 1.00e+00h  1\n",
      "   5  1.7011978e+01 7.20e-03 8.50e-03  -3.8 3.66e-02    -  9.45e-01 9.98e-01h  1\n",
      "   6  1.7014273e+01 1.53e-05 1.03e-05  -3.8 3.33e-03    -  1.00e+00 1.00e+00h  1\n",
      "   7  1.7014019e+01 3.81e-06 4.60e-07  -5.7 2.69e-04    -  1.00e+00 1.00e+00h  1\n",
      "   8  1.7014019e+01 3.81e-06 1.05e-06  -8.6 3.32e-06    -  1.00e+00 1.00e+00h  1\n",
      "   9  1.7014015e+01 3.56e-06 6.95e-07  -8.6 2.87e-07    -  1.00e+00 1.00e+00h  1\n",
      "iter    objective    inf_pr   inf_du lg(mu)  ||d||  lg(rg) alpha_du alpha_pr  ls\n",
      "  10  1.7014019e+01 0.00e+00 6.45e-07  -8.6 2.31e-07    -  1.00e+00 1.00e+00h  1\n",
      "  11  1.7014017e+01 1.66e-06 3.87e-07  -8.6 1.25e-07    -  1.00e+00 1.00e+00h  1\n",
      "  12  1.7014017e+01 1.66e-06 3.83e-07  -8.6 1.91e-07    -  1.00e+00 1.25e-01h  4\n",
      "  13r 1.7014017e+01 1.66e-06 9.99e+02  -5.8 0.00e+00    -  0.00e+00 4.77e-07R 22\n",
      "  14r 1.7014019e+01 0.00e+00 9.99e+00  -5.8 2.41e-02    -  9.90e-01 9.90e-04f  1\n",
      "  15r 1.7014330e+01 7.32e-04 1.01e-01  -5.8 2.13e-02    -  9.90e-01 1.00e+00f  1\n",
      "  16r 1.7043789e+01 6.52e-04 3.03e-03  -5.8 3.01e-02    -  9.70e-01 1.00e+00h  1\n",
      "  17r 1.8689554e+01 2.27e-02 5.22e-04  -5.8 2.82e+00    -  8.28e-01 1.00e+00h  1\n",
      "  18r 1.8195478e+01 3.66e-03 1.53e-06  -5.8 8.27e-01    -  1.00e+00 1.00e+00h  1\n",
      "  19r 1.8035624e+01 2.10e-04 6.77e-08  -5.8 2.81e-01    -  1.00e+00 1.00e+00h  1\n",
      "iter    objective    inf_pr   inf_du lg(mu)  ||d||  lg(rg) alpha_du alpha_pr  ls\n",
      "  20r 1.8018343e+01 0.00e+00 8.84e-10  -5.8 2.97e-02    -  1.00e+00 1.00e+00h  1\n",
      "  21r 1.7483046e+01 2.46e-03 2.96e-05  -8.7 9.22e-01    -  9.80e-01 1.00e+00h  1\n",
      "  22r 1.7466286e+01 3.81e-06 7.36e-09  -8.7 2.34e-02    -  1.00e+00 1.00e+00h  1\n",
      "  23r 1.7274912e+01 1.83e-04 1.24e-09  -8.7 3.27e-01    -  1.00e+00 1.00e+00h  1\n",
      "  24r 1.7204718e+01 1.91e-05 1.69e-10  -8.7 1.19e-01    -  1.00e+00 1.00e+00h  1\n",
      "  25r 1.7191689e+01 0.00e+00 5.82e-12  -8.7 2.21e-02    -  1.00e+00 1.00e+00h  1\n",
      "  26  1.7180849e+01 0.00e+00 1.32e+01  -8.6 5.47e-01   0.0 1.00e+00 3.47e-02f  5\n",
      "  27  1.7180840e+01 0.00e+00 1.41e+01  -8.6 1.66e+00  -0.5 1.00e+00 1.04e-05f 15\n",
      "  28  1.7180836e+01 0.00e+00 1.29e+01  -8.6 2.32e+01   0.9 1.65e-02 2.61e-07f 12\n",
      "  29  1.7044582e+01 0.00e+00 5.48e-01  -8.6 2.31e-01   0.4 1.00e+00 1.00e+00F  1\n",
      "iter    objective    inf_pr   inf_du lg(mu)  ||d||  lg(rg) alpha_du alpha_pr  ls\n",
      "  30  1.7029787e+01 0.00e+00 5.48e-01  -8.6 1.83e+02    -  3.41e-01 1.46e-04f  2\n",
      "  31  1.7014996e+01 7.63e-06 7.34e-01  -8.6 9.36e+01    -  1.00e+00 2.86e-04f  1\n",
      "  32  1.7014429e+01 1.88e-05 6.15e-05  -8.6 2.59e-03    -  1.00e+00 1.00e+00h  1\n",
      "  33  1.7014013e+01 3.81e-06 1.96e-06  -8.6 5.63e-04    -  1.00e+00 1.00e+00h  1\n",
      "  34  1.7014019e+01 3.81e-06 2.62e-06  -8.6 8.65e-07    -  1.00e+00 1.00e+00h  1\n",
      "  35  1.7014017e+01 1.66e-06 7.22e-07  -8.6 2.87e-07    -  1.00e+00 1.00e+00h  1\n",
      "  36  1.7014017e+01 3.81e-06 5.03e-07  -8.6 2.66e-07    -  1.00e+00 1.00e+00h  1\n",
      "  37  1.7014019e+01 0.00e+00 6.06e-07  -8.6 4.67e-07    -  1.00e+00 1.00e+00s 22\n",
      "\n",
      "Number of Iterations....: 37\n",
      "\n",
      "                                   (scaled)                 (unscaled)\n",
      "Objective...............:   1.7014019012451172e+01    1.7014019012451172e+01\n",
      "Dual infeasibility......:   6.0608354489507192e-07    6.0608354489507192e-07\n",
      "Constraint violation....:   0.0000000000000000e+00    0.0000000000000000e+00\n",
      "Variable bound violation:   7.6965080975099909e-09    7.6965080975099909e-09\n",
      "Complementarity.........:   2.5059035598203603e-09    2.5059035598203603e-09\n",
      "Overall NLP error.......:   6.0608354489507192e-07    6.0608354489507192e-07\n",
      "\n",
      "\n",
      "Number of objective function evaluations             = 128\n",
      "Number of objective gradient evaluations             = 28\n",
      "Number of equality constraint evaluations            = 128\n",
      "Number of inequality constraint evaluations          = 128\n",
      "Number of equality constraint Jacobian evaluations   = 40\n",
      "Number of inequality constraint Jacobian evaluations = 40\n",
      "Number of Lagrangian Hessian evaluations             = 38\n",
      "Total seconds in IPOPT                               = 0.108\n",
      "\n",
      "EXIT: Solved To Acceptable Level.\n"
     ]
    },
    {
     "data": {
      "text/plain": [
       "(array([0.99999999, 4.74299946, 3.82114996, 1.37940838]),\n",
       " {'x': array([0.99999999, 4.74299946, 3.82114996, 1.37940838]),\n",
       "  'g': array([25.00000191, 40.        ]),\n",
       "  'obj_val': 17.014019012451172,\n",
       "  'mult_g': array([-0.55229365,  0.16146856]),\n",
       "  'mult_x_L': array([1.08787164e+00, 6.69490759e-10, 8.88256060e-10, 6.60476582e-09]),\n",
       "  'mult_x_U': array([6.26475881e-10, 9.75057526e-09, 2.12571860e-09, 6.92125428e-10]),\n",
       "  'status': 1,\n",
       "  'status_msg': b'Algorithm stopped at a point that was converged, not to \"desired\" tolerances, but to \"acceptable\" tolerances (see the acceptable-... options).'})"
      ]
     },
     "execution_count": 398,
     "metadata": {},
     "output_type": "execute_result"
    }
   ],
   "source": [
    "#test prob\n",
    "nlp = NLP(4)\n",
    "lb = [1.0, 1.0, 1.0, 1.0]\n",
    "ub = [5.0, 5.0, 5.0, 5.0]\n",
    "nlp.set_bounds(lb, ub)\n",
    "nlp.set_objective(lambda x: x[0]*x[3]*jnp.sum(x[:3]) + x[2])\n",
    "nlp.set_const_fn(lambda x: jnp.prod(x), ineq_lb=25.)\n",
    "nlp.set_const_fn(lambda x: jnp.sum(x**2), eq_value=40.)\n",
    "\n",
    "prob = nlp.get_prob(use_hess=True)\n",
    "x0 = [1.0, 5.0, 5.0, 1.0]\n",
    "prob.solve(x0)"
   ]
  },
  {
   "cell_type": "code",
   "execution_count": 515,
   "metadata": {},
   "outputs": [],
   "source": [
    "class MP(NLP):\n",
    "    def __init__(self, robot_dim, num_steps):\n",
    "        self.robot_dim = robot_dim\n",
    "        self.num_steps = num_steps\n",
    "        super().__init__(\n",
    "            dim=robot_dim*num_steps)\n",
    "        self.robot_ub = None\n",
    "        self.robot_lb = None\n",
    "\n",
    "    def set_robot_bounds(self, lb, ub):\n",
    "        self.robot_lb = lb\n",
    "        self.robot_ub = ub\n",
    "        lbs = np.tile(lb, self.num_steps)\n",
    "        ubs = np.tile(ub, self.num_steps)\n",
    "        self.set_bounds(lbs, ubs)\n",
    "    \n",
    "    def set_obstacle(self, sdf, safe_dist=0.05):\n",
    "        def penet_const(x):\n",
    "            sd = jax.vmap(sdf)(x.reshape(-1, self.robot_dim))\n",
    "            return - jnp.where(sd+safe_dist < 0, sd + safe_dist, jnp.zeros_like(sd)).sum()\n",
    "        self.set_const_fn(penet_const, ineq_ub=-safe_dist)\n",
    "    \n",
    "    def set_min_dist_objective(self):\n",
    "        V = np.zeros((self.num_steps+1, self.num_steps))\n",
    "        V[:self.num_steps, :self.num_steps] += jnp.eye(self.num_steps)\n",
    "        V[1:, :self.num_steps] -= np.eye(self.num_steps)\n",
    "        V = np.kron(V, np.eye(self.robot_dim))\n",
    "        self.set_objective(lambda x: (V@x)@(V@x))\n",
    "    \n",
    "    def set_init_const(self, q_init):\n",
    "        self.set_const_fn(lambda x: x[:self.robot_dim], q_init)\n",
    "    \n",
    "    def set_goal_const(self, q_goal):\n",
    "        self.set_const_fn(lambda x: x[-self.robot_dim:], q_goal)"
   ]
  },
  {
   "cell_type": "code",
   "execution_count": 516,
   "metadata": {},
   "outputs": [],
   "source": [
    "def safe_norm_maximum(x, y, eps: float = 1e-12) -> jnp.ndarray:\n",
    "    norm_input = jnp.maximum(x, y)\n",
    "    norm = jnp.sum(norm_input * norm_input) \n",
    "    norm = jnp.where(norm < eps, 0.0, norm)\n",
    "    return jnp.sqrt(norm)\n",
    "\n",
    "def sdf_box(point, box_size=jnp.array([0.2, 0.2]), center=jnp.array([0.5, 0.5])):\n",
    "    q = jnp.abs(point-center) - box_size\n",
    "    term1 = safe_norm_maximum(q, 0)\n",
    "    term2 = jnp.minimum(jnp.maximum(q[0], jnp.maximum(q[1], q[2])), 0)\n",
    "    return term1 + term2\n",
    "\n",
    "sdf = partial(sdf_box, box_size=jnp.array([0.2,0.2]), center=jnp.array([0.5, 0.6]))\n",
    "sdf_batch = jax.vmap(sdf)"
   ]
  },
  {
   "cell_type": "code",
   "execution_count": 523,
   "metadata": {},
   "outputs": [],
   "source": [
    "mp = MP(2, 7)\n",
    "\n",
    "mp.set_robot_bounds(jnp.zeros(2)-0.01, jnp.ones(2)+0.01)\n",
    "mp.set_min_dist_objective()\n",
    "mp.set_init_const(jnp.zeros(2))\n",
    "mp.set_goal_const(jnp.ones(2))\n",
    "mp.set_obstacle(sdf, safe_dist=0.002)\n",
    "prob = mp.get_prob(use_hess=True, debug=True)"
   ]
  },
  {
   "cell_type": "code",
   "execution_count": 524,
   "metadata": {},
   "outputs": [
    {
     "name": "stdout",
     "output_type": "stream",
     "text": [
      "This is Ipopt version 3.14.10, running with linear solver MUMPS 5.2.1.\n",
      "\n",
      "Number of nonzeros in equality constraint Jacobian...:       56\n",
      "Number of nonzeros in inequality constraint Jacobian.:       14\n",
      "Number of nonzeros in Lagrangian Hessian.............:        0\n",
      "\n",
      "Total number of variables............................:       14\n",
      "                     variables with only lower bounds:        0\n",
      "                variables with lower and upper bounds:       14\n",
      "                     variables with only upper bounds:        0\n",
      "Total number of equality constraints.................:        4\n",
      "Total number of inequality constraints...............:        1\n",
      "        inequality constraints with only lower bounds:        0\n",
      "   inequality constraints with lower and upper bounds:        0\n",
      "        inequality constraints with only upper bounds:        1\n",
      "\n",
      "iter    objective    inf_pr   inf_du lg(mu)  ||d||  lg(rg) alpha_du alpha_pr  ls\n",
      "   0  0.0000000e+00 1.00e+00 0.00e+00   0.0 0.00e+00    -  0.00e+00 0.00e+00   0\n",
      "   1  2.0431533e+00 1.75e-01 4.04e+01  -0.3 1.00e+00    -  1.91e-02 8.25e-01f  1\n",
      "   2  2.0594239e+00 1.67e-01 2.17e+03  -0.6 2.21e-01    -  1.00e+00 4.71e-02h  1\n",
      "   3  2.3625687e+00 1.25e-01 7.76e+01  -0.8 1.95e-01    -  1.00e+00 2.50e-01f  3\n",
      "   4  2.9833752e+00 2.00e-03 5.04e+01  -0.9 1.25e-01    -  1.00e+00 1.00e+00h  1\n",
      "   5  2.9798603e+00 2.00e-03 5.09e+02  -2.6 5.16e-03    -  1.00e+00 2.79e-01h  1\n",
      "   6  2.9768518e+00 2.00e-03 2.50e+05  -3.0 3.33e-01    -  1.00e+00 3.87e-03h  1\n",
      "   7  2.9768174e+00 2.00e-03 6.41e+09  -3.8 3.69e-01    -  1.00e+00 3.88e-05h  1\n",
      "   8r 2.9768174e+00 2.00e-03 1.00e+03  -2.7 0.00e+00    -  0.00e+00 1.94e-07R  2\n",
      "   9r 2.9768091e+00 2.00e-03 3.92e-05  -4.5 3.94e-05    -  1.00e+00 1.00e+00f  1\n",
      "\n",
      "Number of Iterations....: 9\n",
      "\n",
      "                                   (scaled)                 (unscaled)\n",
      "Objective...............:   2.9768168887130608e+00    2.9768168887130608e+00\n",
      "Dual infeasibility......:   3.2653074264526993e+00    3.2653074264526993e+00\n",
      "Constraint violation....:   1.9999900949949027e-03    1.9999900949949027e-03\n",
      "Variable bound violation:   0.0000000000000000e+00    0.0000000000000000e+00\n",
      "Complementarity.........:   5.9074990849444384e-09    5.9074990849444384e-09\n",
      "Overall NLP error.......:   3.2653074264526993e+00    3.2653074264526993e+00\n",
      "\n",
      "\n",
      "Number of objective function evaluations             = 16\n",
      "Number of objective gradient evaluations             = 10\n",
      "Number of equality constraint evaluations            = 16\n",
      "Number of inequality constraint evaluations          = 16\n",
      "Number of equality constraint Jacobian evaluations   = 12\n",
      "Number of inequality constraint Jacobian evaluations = 12\n",
      "Number of Lagrangian Hessian evaluations             = 0\n",
      "Total seconds in IPOPT                               = 0.041\n",
      "\n",
      "EXIT: Converged to a point of local infeasibility. Problem may be infeasible.\n"
     ]
    }
   ],
   "source": [
    "prob.add_option('tol', 1e-3)\n",
    "#prob.add_option('mu_strategy', 'adaptive')\n",
    "x, info = prob.solve(jnp.zeros(14))"
   ]
  },
  {
   "cell_type": "code",
   "execution_count": 511,
   "metadata": {},
   "outputs": [],
   "source": [
    "i=-2"
   ]
  },
  {
   "cell_type": "code",
   "execution_count": 512,
   "metadata": {},
   "outputs": [
    {
     "data": {
      "text/plain": [
       "<matplotlib.collections.PathCollection at 0x7fbba3b4e9a0>"
      ]
     },
     "execution_count": 512,
     "metadata": {},
     "output_type": "execute_result"
    },
    {
     "data": {
      "image/png": "[encoded data removed]",
      "text/plain": [
       "<Figure size 640x480 with 2 Axes>"
      ]
     },
     "metadata": {},
     "output_type": "display_data"
    }
   ],
   "source": [
    "import matplotlib.pyplot as plt\n",
    "i += 1\n",
    "x = mp.x_history[i]\n",
    "path = x.reshape(-1, mp.robot_dim)\n",
    "plt.contour(X,Y,Z)\n",
    "plt.colorbar()\n",
    "plt.scatter(*path.T, color='k')\n"
   ]
  },
  {
   "cell_type": "code",
   "execution_count": null,
   "metadata": {},
   "outputs": [],
   "source": [
    "class MP(NLP):\n",
    "    def __init__(self, robot_dim, num_steps):\n",
    "        self.robot_dim = robot_dim\n",
    "        self.num_steps = num_steps\n",
    "        super().__init__(dim = robot_dim*num_steps)\n",
    "        self.joint_ub = None\n",
    "        self.joint_lb = None\n",
    "    \n",
    "    def set_joint_limit(self, lb, ub):\n",
    "        self.joint_lb = lb\n",
    "        self.joint_ub = ub\n",
    "        lbs = np.tile(lb, self.num_steps)\n",
    "        ubs = np.tile(ub, self.num_steps)\n",
    "        self.add_bounds(lbs, ubs)\n",
    "    \n",
    "    def set_min_dist_objective(self, q_init):\n",
    "        # x = robot_dim * num_steps\n",
    "        A = jnp.eye(self.dim)\n",
    "        A -= jnp.block([[np.zeros((1, self.dim-1)),0],[np.eye(self.dim-1), np.zeros((self.dim-1,1))]])\n",
    "        b = jnp.hstack([-q_init, np.zeros(self.robot_dim*(self.num_steps-1))])\n",
    "        obj_fn = lambda x: 1/2 * (A@x+b)@(A@x+b)\n",
    "        grad_fn = lambda x: (A@x+b)\n",
    "        hess_fn = lambda x: A\n",
    "        self.add_objective(obj_fn, grad_fn, hess_fn)\n",
    "        fn = lambda x: x[:self.robot_dim]\n",
    "        self.add_eq_const(fn, q_init)\n",
    "    \n",
    "    def set_vel_const(self, vlb, vub):\n",
    "        vel_fn = lambda x: (x.reshape(self.num_steps,-1)[:-1] - x.reshape(self.num_steps,-1)[1:]).flatten()\n",
    "        vlbs = np.tile(vlb, self.num_steps-1)\n",
    "        vubs = np.tile(vub, self.num_steps-1)\n",
    "        self.add_ineq_const(vel_fn, vlbs, \"lb\")\n",
    "        self.add_ineq_const(vel_fn, vubs, \"ub\")\n",
    "\n",
    "    def set_goal_joint(self, qgoal):\n",
    "        fn = lambda x: x[-self.robot_dim:]\n",
    "        self.add_eq_const(fn, qgoal)"
   ]
  },
  {
   "cell_type": "code",
   "execution_count": null,
   "metadata": {},
   "outputs": [],
   "source": [
    "objective = lambda x: x[0]*x[3]*jnp.sum(x[:3]) + x[2]\n",
    "constraints = lambda x: jnp.hstack([jnp.prod(x), jnp.sum(x**2)])\n",
    "\n",
    "\n",
    "prob = nlp.make_ipopt_prob(objective, constraints)"
   ]
  },
  {
   "cell_type": "code",
   "execution_count": null,
   "metadata": {},
   "outputs": [],
   "source": [
    "lb = [1.0, 1.0, 1.0, 1.0]\n",
    "ub = [5.0, 5.0, 5.0, 5.0]\n",
    "cl = [25.0, 40.0]\n",
    "cu = [2.0e19, 40.0]\n",
    "\n",
    "x0 = [1.0, 5.0, 5.0, 1.0]\n",
    "\n",
    "nlp = cyipopt.Problem(\n",
    "    n=prob.n,\n",
    "    m=prob.m,\n",
    "    problem_obj=prob,\n",
    "    lb=lb,ub=ub,cl=cl,cu=cu\n",
    ")"
   ]
  },
  {
   "cell_type": "code",
   "execution_count": null,
   "metadata": {},
   "outputs": [],
   "source": [
    "x, info = nlp.solve(x0)"
   ]
  },
  {
   "cell_type": "code",
   "execution_count": null,
   "metadata": {},
   "outputs": [],
   "source": []
  },
  {
   "cell_type": "code",
   "execution_count": null,
   "metadata": {},
   "outputs": [],
   "source": [
    "class NLP:\n",
    "    def __init__(self, dim):\n",
    "        self.dim = dim\n",
    "        self.obj_fn = None\n",
    "        self.grad_fn = None\n",
    "        self.hess_fn = None\n",
    "        self.eq_const = []\n",
    "        self.ineq_const = []\n",
    "        self.lb = None\n",
    "        self.ub = None\n",
    "\n",
    "    def add_objective(self, fn, grad_fn=None, hess_fn=None):\n",
    "        self.obj_fn = fn\n",
    "        if grad_fn is not None:\n",
    "            self.grad_fn = grad_fn\n",
    "        if hess_fn is not None:\n",
    "            self.hess_fn = hess_fn\n",
    "    \n",
    "    def add_bounds(self, lb=None, ub=None):\n",
    "        self.lb = lb\n",
    "        self.ub = ub\n",
    "\n",
    "    def add_eq_const(self, fn, val):\n",
    "        fn_ = lambda x: fn(x) - val\n",
    "        self.eq_const.append(fn_)\n",
    "    \n",
    "    def add_ineq_const(self, fn, val, bound_type=\"lb\"):\n",
    "        if bound_type == \"lb\":\n",
    "            fn_ = lambda x: fn(x) - val\n",
    "        else:\n",
    "            fn_ = lambda x: -fn(x) + val\n",
    "        self.ineq_const.append(fn_)\n",
    "    \n",
    "    def get_prob_dict(self):\n",
    "        prob = {}\n",
    "        prob['fun'] = jax.jit(self.obj_fn)\n",
    "        if self.grad_fn is not None:\n",
    "            prob['jac'] = jax.jit(jax.grad(self.obj_fn))\n",
    "        else:\n",
    "            prob['jac'] = jax.jit(self.grad_fn)\n",
    "        if self.hess_fn is not None:\n",
    "            prob['hess'] = jax.jit(jax.jacrev(jax.jacfwd(self.obj_fn)))\n",
    "        else:\n",
    "            prob['hess'] = jax.jit(self.hess_fn)\n",
    "        \n",
    "        prob['constraints'] = []\n",
    "        if len(self.eq_const) != 0:\n",
    "            if len(self.eq_const) == 1:\n",
    "                eq = self.eq_const[0]\n",
    "            else: \n",
    "                eq = lambda x: jnp.hstack([fn(x) for fn in self.eq_const])\n",
    "            eq = jax.jit(eq)\n",
    "            eq_jac = jax.jit(jax.jacfwd(eq))\n",
    "            eq_hess = jax.jacrev(jax.jacfwd(eq))\n",
    "            eq_hessvp = jax.jit(lambda x, v: eq_hess(x) * v[0])\n",
    "            prob['constraints'].append({'type':'eq', 'fun':eq, 'jac': eq_jac, 'hess': eq_hessvp})\n",
    "        \n",
    "        if len(self.ineq_const) != 0:\n",
    "            if len(self.ineq_const) == 1:\n",
    "                ineq = self.ineq_const[0]\n",
    "            else:\n",
    "                ineq = lambda x: jnp.hstack([fn(x) for fn in self.ineq_const])\n",
    "            ineq = jax.jit(ineq)\n",
    "            ineq_jac = jax.jit(jax.jacfwd(ineq))\n",
    "            ineq_hess = jax.jacrev(jax.jacfwd(ineq))\n",
    "            ineq_hessvp = jax.jit(lambda x, v: ineq_hess(x) * v[0])\n",
    "            prob['constraints'].append({'type':'ineq', 'fun':ineq, 'jac': ineq_jac, 'hess': ineq_hessvp})\n",
    "        prob['bounds'] = [(l, u) for l, u in zip(self.lb, self.ub)]\n",
    "        self.prob = prob\n",
    "        \n",
    "    def solve(self, x0, tol=0.001, max_iter=100):\n",
    "        options = {\"max_iter\":max_iter}\n",
    "        return minimize_ipopt(x0=x0, tol=tol, options=options, **self.prob)"
   ]
  },
  {
   "cell_type": "code",
   "execution_count": null,
   "metadata": {},
   "outputs": [],
   "source": [
    "class MP(NLP):\n",
    "    def __init__(self, robot_dim, num_steps):\n",
    "        self.robot_dim = robot_dim\n",
    "        self.num_steps = num_steps\n",
    "        super().__init__(dim = robot_dim*num_steps)\n",
    "        self.joint_ub = None\n",
    "        self.joint_lb = None\n",
    "    \n",
    "    def set_joint_limit(self, lb, ub):\n",
    "        self.joint_lb = lb\n",
    "        self.joint_ub = ub\n",
    "        lbs = np.tile(lb, self.num_steps)\n",
    "        ubs = np.tile(ub, self.num_steps)\n",
    "        self.add_bounds(lbs, ubs)\n",
    "    \n",
    "    def set_min_dist_objective(self, q_init):\n",
    "        # x = robot_dim * num_steps\n",
    "        A = jnp.eye(self.dim)\n",
    "        A -= jnp.block([[np.zeros((1, self.dim-1)),0],[np.eye(self.dim-1), np.zeros((self.dim-1,1))]])\n",
    "        b = jnp.hstack([-q_init, np.zeros(self.robot_dim*(self.num_steps-1))])\n",
    "        obj_fn = lambda x: 1/2 * (A@x+b)@(A@x+b)\n",
    "        grad_fn = lambda x: (A@x+b)\n",
    "        hess_fn = lambda x: A\n",
    "        self.add_objective(obj_fn, grad_fn, hess_fn)\n",
    "        fn = lambda x: x[:self.robot_dim]\n",
    "        self.add_eq_const(fn, q_init)\n",
    "    \n",
    "    def set_vel_const(self, vlb, vub):\n",
    "        vel_fn = lambda x: (x.reshape(self.num_steps,-1)[:-1] - x.reshape(self.num_steps,-1)[1:]).flatten()\n",
    "        vlbs = np.tile(vlb, self.num_steps-1)\n",
    "        vubs = np.tile(vub, self.num_steps-1)\n",
    "        self.add_ineq_const(vel_fn, vlbs, \"lb\")\n",
    "        self.add_ineq_const(vel_fn, vubs, \"ub\")\n",
    "\n",
    "    def set_goal_joint(self, qgoal):\n",
    "        fn = lambda x: x[-self.robot_dim:]\n",
    "        self.add_eq_const(fn, qgoal)"
   ]
  },
  {
   "cell_type": "code",
   "execution_count": null,
   "metadata": {},
   "outputs": [],
   "source": [
    "robot_dim = 2\n",
    "num_steps = 10\n",
    "\n",
    "q0 = jnp.zeros(robot_dim)"
   ]
  },
  {
   "cell_type": "code",
   "execution_count": null,
   "metadata": {},
   "outputs": [],
   "source": [
    "mp = MP(robot_dim, num_steps)\n",
    "\n",
    "mp.set_min_dist_objective(q0)\n",
    "mp.set_joint_limit(-jnp.ones(2)*1.02, jnp.ones(2)*1.02)\n",
    "# mp.set_vel_const(jnp.array([-0.1, -0.1]), jnp.array([0.1, 0.1]))\n",
    "mp.set_goal_joint(jnp.ones(2))\n",
    "mp.get_prob_dict()"
   ]
  },
  {
   "cell_type": "code",
   "execution_count": null,
   "metadata": {},
   "outputs": [],
   "source": [
    "res = mp.solve(jnp.zeros(20)*0.01, tol=0.00001, max_iter=100)"
   ]
  },
  {
   "cell_type": "code",
   "execution_count": null,
   "metadata": {},
   "outputs": [],
   "source": [
    "robot_dim = 2\n",
    "num_steps = 10\n",
    "dim = robot_dim*num_steps\n",
    "q0 = jnp.zeros(robot_dim) #np.random.random(robot_dim)\n",
    "x0 = jnp.tile(q0, num_steps)"
   ]
  },
  {
   "cell_type": "code",
   "execution_count": null,
   "metadata": {},
   "outputs": [],
   "source": [
    "def constraints(x):\n",
    "    q0 = x[:robot_dim]\n",
    "    qf = x[-robot_dim:]\n",
    "    return jnp.hstack([q0, qf])"
   ]
  },
  {
   "cell_type": "code",
   "execution_count": null,
   "metadata": {},
   "outputs": [],
   "source": [
    "from functools import partial\n",
    "x = jnp.arange(20.)\n",
    "get_init_state_fn = partial(state_window_fn, 0)\n",
    "get_goal_state_fn = partial(state_window_fn, -1)"
   ]
  },
  {
   "cell_type": "code",
   "execution_count": null,
   "metadata": {},
   "outputs": [],
   "source": [
    "from functools import partial\n",
    "from functools import partial\n",
    "from jax import lax\n",
    "\n",
    "state_window_fn: jax.jit(lambda x, start_idx, end_idx: x[start_idx:end_idx])\n",
    "\n",
    "class MP:\n",
    "    def __init__(self, robot_dim, num_steps, q_init, q_goal):\n",
    "        self.robot_dim = robot_dim\n",
    "        self.num_steps = num_steps\n",
    "        self.dim = dim\n",
    "        self.q_init = q_init\n",
    "        self.q_goal = q_goal\n",
    "        self.const = []\n",
    "        self.cl = []\n",
    "        self.cu = []\n",
    "        \n",
    "    \n",
    "    def add_start_constraint(self, q):\n",
    "        assert len(q) == self.robot_dim\n",
    "        self.const += [lambda x: x[:self.robot_dim]]\n",
    "        self.cl += [q]\n",
    "        self.cu += [q]\n",
    "    \n",
    "    def add_goal_constraint(self, q):\n",
    "        assert len(q) == self.robot_dim\n",
    "        self.const += [lambda x: x[-self.robot_dim:]]\n",
    "        self.cl += [q]\n",
    "        self.cu += [q]\n",
    "    \n",
    "    def get_min_travelled_cost_fn(x):\n",
    "        return jax.jit(lambda x: 1/2*(V@x)@(V@x))\n",
    "    \n",
    "    def get_const_fn(self):\n",
    "        return jax.jit(lambda x: jnp.hstack([fn(x) for fn in self.const]))\n",
    "    \n",
    "    def get_const_bound(self):\n",
    "        return jnp.hstack(self.cl), jnp.hstack(self.cu)\n",
    "    \n",
    "    def make_prob(self, fns):\n",
    "        class Prob:\n",
    "            pass\n",
    "        prob = Prob()\n",
    "        functions = ['objective', 'gradient', 'hessian', 'constraints', 'jacobian']\n",
    "        for fn_name, fn in fns.items():\n",
    "            if fn_name in functions:\n",
    "                setattr(prob, fn_name, fn)\n",
    "        return prob"
   ]
  },
  {
   "cell_type": "code",
   "execution_count": null,
   "metadata": {},
   "outputs": [],
   "source": [
    "q_init = jnp.array([0.5,0])\n",
    "q_goal = jnp.array([1,1])\n",
    "mp = MP(robot_dim=2, num_steps=5, q_init=q_init, q_goal=q_goal)"
   ]
  },
  {
   "cell_type": "code",
   "execution_count": null,
   "metadata": {},
   "outputs": [],
   "source": [
    "mp.add_start_constraint(q_init)\n",
    "mp.add_goal_constraint(q_goal)"
   ]
  },
  {
   "cell_type": "code",
   "execution_count": null,
   "metadata": {},
   "outputs": [],
   "source": [
    "obj = mp.get_min_travelled_cost_fn()\n",
    "grad = jax.jit(jax.grad(obj))\n",
    "hess = jax.jit(jax.jacrev(jax.jacfwd(obj)))\n",
    "const_fn = mp.get_const_fn()\n",
    "const_jac_fn = jax.jit(jax.jacfwd(const_fn))\n",
    "\n",
    "fns = dict(\n",
    "    objective=min_travelled_cost,\n",
    "    gradient=min_travelled_grad,\n",
    "    hessian=min_travelled_hess,\n",
    "    constraints=const_fn,\n",
    "    jacobian=const_jac_fn\n",
    ")\n",
    "prob = "
   ]
  },
  {
   "cell_type": "code",
   "execution_count": null,
   "metadata": {},
   "outputs": [],
   "source": [
    "def hessian(self, x, lagrange, obj_factor):\n",
    "    H = obj_factor * self.obj_hess(x)  # type: ignore\n",
    "    # split the lagrangian multipliers for each constraint hessian\n",
    "    lagrs = np.split(lagrange, np.cumsum(self._constraint_dims[:-1]))\n",
    "    for hessian, args, lagr in zip(self._constraint_hessians, self._constraint_args, lagrs):\n",
    "        H += hessian(x, lagr, *args)\n",
    "    return H[np.tril_indices(x.size)]"
   ]
  },
  {
   "cell_type": "code",
   "execution_count": null,
   "metadata": {},
   "outputs": [],
   "source": [
    "prob = cyipopt.Problem(\n",
    "    n=mp.dim,\n",
    "    m=len(mp.const),\n",
    "    problem_obj=mp.make_prob(fns),\n",
    "    lb=jnp.zeros(mp.dim),\n",
    "    ub=jnp.ones(mp.dim),\n",
    "    cl=mp.cl,\n",
    "    cu=mp.cu\n",
    ")"
   ]
  },
  {
   "cell_type": "code",
   "execution_count": null,
   "metadata": {},
   "outputs": [],
   "source": [
    "prob.solve(jnp.zeros(20))"
   ]
  },
  {
   "cell_type": "code",
   "execution_count": null,
   "metadata": {},
   "outputs": [],
   "source": [
    "num_steps = 10\n",
    "V = np.zeros((num_steps+1, num_steps))\n",
    "V[:num_steps, :num_steps] += np.eye(num_steps)\n",
    "V[1:, :num_steps] -= np.eye(num_steps)\n",
    "V = np.kron(V, np.eye(robot_dim))\n",
    "#Vb = jnp.hstack([-q_init, jnp.zeros(robot_dim*(num_steps))])"
   ]
  },
  {
   "cell_type": "code",
   "execution_count": null,
   "metadata": {},
   "outputs": [],
   "source": [
    "dim = robot_dim * num_steps\n",
    "lb = -jnp.ones(dim)\n",
    "ub = 2*jnp.ones(dim)\n",
    "cl = jnp.hstack([q_init, q_goal])\n",
    "cu = jnp.hstack([q_init, q_goal])\n",
    "#q_init = jnp.array([0.5,0])\n",
    "\n",
    "obj = lambda x: (V@x)@(V@x) #(V@x+Vb)@(V@x+Vb) #(A@x+Ab)@(A@x+Ab) + \n",
    "grad = jax.grad(obj)\n",
    "def constraints(x):\n",
    "    q0 = x[:robot_dim]\n",
    "    qf = x[-robot_dim:]\n",
    "    return jnp.hstack([q0, qf])\n",
    "jac = jax.jacfwd(constraints)\n",
    "fns = dict(obj=obj, grad=grad, const=constraints, jac=jac)\n",
    "mp = MP(robot_dim, num_steps, q_init, q_goal, fns)"
   ]
  },
  {
   "cell_type": "code",
   "execution_count": null,
   "metadata": {},
   "outputs": [],
   "source": [
    "prob = cyipopt.Problem(\n",
    "    n=20,\n",
    "    m=4,\n",
    "    problem_obj=mp,\n",
    "    lb=lb,\n",
    "    ub=ub,\n",
    "    cl=cl,\n",
    "    cu=cu\n",
    ")"
   ]
  },
  {
   "cell_type": "code",
   "execution_count": null,
   "metadata": {},
   "outputs": [],
   "source": [
    "xsol = jnp.repeat(jnp.linspace(0, 1, 10),2)\n",
    "mp.objective(xsol)"
   ]
  },
  {
   "cell_type": "code",
   "execution_count": null,
   "metadata": {},
   "outputs": [],
   "source": [
    "prob.add_option('max_iter', 100)\n",
    "prob.add_option('tol', 0.001)\n",
    "x, info = prob.solve(jnp.zeros(20))"
   ]
  },
  {
   "cell_type": "code",
   "execution_count": null,
   "metadata": {},
   "outputs": [],
   "source": [
    "import matplotlib.pyplot as plt\n",
    "path = x.reshape(num_steps, robot_dim)\n",
    "plt.scatter(*path.T)"
   ]
  },
  {
   "cell_type": "code",
   "execution_count": null,
   "metadata": {},
   "outputs": [],
   "source": [
    "path = x.reshape(num_steps, robot_dim)\n",
    "plt.scatter(*path.T)"
   ]
  },
  {
   "cell_type": "code",
   "execution_count": null,
   "metadata": {},
   "outputs": [],
   "source": [
    "ineq1 = lambda x: np.prod(x) - 25\n",
    "ineq2 = lambda x: np.prod(x) - 25\n",
    "ineq3 = lambda x: x - 25\n",
    "ineqs = [ineq1, ineq2, ineq3]\n",
    "ineq = lambda x: jnp.hstack([fn(x) for fn in ineqs])"
   ]
  },
  {
   "cell_type": "code",
   "execution_count": null,
   "metadata": {},
   "outputs": [],
   "source": [
    "jax.jacfwd(ineq)(jnp.zeros(5))"
   ]
  },
  {
   "cell_type": "code",
   "execution_count": null,
   "metadata": {},
   "outputs": [],
   "source": [
    "nlp = NLP(4)\n",
    "nlp.add_objective(lambda x: x[0]*x[3]*np.sum(x[:3]) + x[2])\n",
    "nlp.add_eq_const(lambda x: np.sum(x**2) - 40)\n",
    "nlp.add_ineq_const(lambda x: np.prod(x) - 25)\n",
    "nlp.add_bounds(jnp.ones(4), jnp.full(4, 5))\n",
    "nlp.get_prob_dict()"
   ]
  },
  {
   "cell_type": "code",
   "execution_count": null,
   "metadata": {},
   "outputs": [],
   "source": [
    "%timeit ans = nlp.solve(jnp.array([1,5,5,1.]))"
   ]
  }
 ],
 "metadata": {
  "kernelspec": {
   "display_name": "opt_env",
   "language": "python",
   "name": "python3"
  },
  "language_info": {
   "codemirror_mode": {
    "name": "ipython",
    "version": 3
   },
   "file_extension": ".py",
   "mimetype": "text/x-python",
   "name": "python",
   "nbconvert_exporter": "python",
   "pygments_lexer": "ipython3",
   "version": "3.8.15"
  },
  "orig_nbformat": 4
 },
 "nbformat": 4,
 "nbformat_minor": 2
}
